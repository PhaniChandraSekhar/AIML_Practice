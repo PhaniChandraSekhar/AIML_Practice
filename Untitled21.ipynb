{
  "nbformat": 4,
  "nbformat_minor": 0,
  "metadata": {
    "colab": {
      "provenance": [],
      "authorship_tag": "ABX9TyNjR8leOsU7j2eDngSXUwki",
      "include_colab_link": true
    },
    "kernelspec": {
      "name": "python3",
      "display_name": "Python 3"
    },
    "language_info": {
      "name": "python"
    }
  },
  "cells": [
    {
      "cell_type": "markdown",
      "metadata": {
        "id": "view-in-github",
        "colab_type": "text"
      },
      "source": [
        "<a href=\"https://colab.research.google.com/github/PhaniChandraSekhar/AIML_Practice/blob/main/Untitled21.ipynb\" target=\"_parent\"><img src=\"https://colab.research.google.com/assets/colab-badge.svg\" alt=\"Open In Colab\"/></a>"
      ]
    },
    {
      "cell_type": "markdown",
      "source": [
        "**Coding**"
      ],
      "metadata": {
        "id": "SwkEHjv8KZmC"
      }
    },
    {
      "cell_type": "code",
      "source": [],
      "metadata": {
        "id": "5E_dv3OQKYYf"
      },
      "execution_count": null,
      "outputs": []
    },
    {
      "cell_type": "code",
      "execution_count": null,
      "metadata": {
        "id": "UcNRgRZTFJzi"
      },
      "outputs": [],
      "source": [
        "\n"
      ]
    },
    {
      "source": [
        "import pandas as pd\n",
        "\n",
        "# Replace 'your_file.xlsx' with the actual path to your Excel file\n",
        "try:\n",
        "  df_excel = pd.read_excel('your_file.xlsx')\n",
        "  print(\"\\nSuccessfully read data from Excel:\")\n",
        "  print(df_excel.head()) # Print the first 5 rows\n",
        "except FileNotFoundError:\n",
        "   print(\"Error: Excel file not found. Please make sure 'your_file.xlsx' is in the correct location.\")"
      ],
      "cell_type": "code",
      "metadata": {
        "colab": {
          "base_uri": "https://localhost:8080/"
        },
        "id": "e0NI5PMmKVAb",
        "outputId": "ac64069a-b128-4db3-8f55-a0e367e42b04"
      },
      "execution_count": 1,
      "outputs": [
        {
          "output_type": "stream",
          "name": "stdout",
          "text": [
            "Error: Excel file not found. Please make sure 'your_file.xlsx' is in the correct location.\n"
          ]
        }
      ]
    }
  ]
}