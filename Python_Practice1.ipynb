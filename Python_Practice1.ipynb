{
  "nbformat": 4,
  "nbformat_minor": 0,
  "metadata": {
    "colab": {
      "provenance": [],
      "authorship_tag": "ABX9TyMCTW0cAgMdteIvMov07/mx",
      "include_colab_link": true
    },
    "kernelspec": {
      "name": "python3",
      "display_name": "Python 3"
    },
    "language_info": {
      "name": "python"
    }
  },
  "cells": [
    {
      "cell_type": "markdown",
      "metadata": {
        "id": "view-in-github",
        "colab_type": "text"
      },
      "source": [
        "<a href=\"https://colab.research.google.com/github/PhaniChandraSekhar/AIML_Practice/blob/main/Python_Practice1.ipynb\" target=\"_parent\"><img src=\"https://colab.research.google.com/assets/colab-badge.svg\" alt=\"Open In Colab\"/></a>"
      ]
    },
    {
      "cell_type": "code",
      "execution_count": null,
      "metadata": {
        "colab": {
          "base_uri": "https://localhost:8080/"
        },
        "id": "9UPVrZuB76VQ",
        "outputId": "5933b724-d61f-459e-d5c3-3ad0bba33451"
      },
      "outputs": [
        {
          "output_type": "stream",
          "name": "stdout",
          "text": [
            "[(1, 3, 'C'), (2, 4, 'h'), (3, 5, 'a'), (4, 6, 'n'), (5, 9, 'd')]\n"
          ]
        }
      ],
      "source": [
        "alpha = [1, 2, 3, 4, 5]\n",
        "beta = [3, 4, 5, 6, 9]\n",
        "gamma = \"Chandra\"\n",
        "print(list(zip(alpha, beta, gamma)))"
      ]
    },
    {
      "cell_type": "code",
      "source": [],
      "metadata": {
        "id": "TSDZjal48x7H"
      },
      "execution_count": null,
      "outputs": []
    },
    {
      "cell_type": "markdown",
      "source": [
        "2520 is the smallest number that can be divided by each of the numbers from 1 to 10 without any reminder. What is the smallest positive number that is evently divisible by all of the numbers from 1 to 20."
      ],
      "metadata": {
        "id": "qSKYUQQG8yqE"
      }
    },
    {
      "cell_type": "code",
      "source": [
        "import math\n",
        "def lcm(a:int, b:int) -> int:\n",
        "    return (a * b) / math.gcd(a, b)\n"
      ],
      "metadata": {
        "id": "JvT6JH-X9HHn"
      },
      "execution_count": null,
      "outputs": []
    },
    {
      "cell_type": "code",
      "source": [
        "def lcm_list(ns: list) -> int:\n",
        "    if len(ns) == 1:\n",
        "        return ns[0]\n",
        "    if len(ns) == 2:\n",
        "        return lcm(ns[0],ns[1])\n",
        "    return lcm_list(lcm(ns[0], ns[1] + ns[2:]))\n",
        "\n"
      ],
      "metadata": {
        "id": "MDpux9349Y13"
      },
      "execution_count": null,
      "outputs": []
    },
    {
      "cell_type": "code",
      "source": [
        "import functools\n",
        "def lcm(ns: list) -> int:\n",
        "    return functools.reduce(lcm, ns)"
      ],
      "metadata": {
        "id": "eCQ9q1dZ-Od8"
      },
      "execution_count": null,
      "outputs": []
    },
    {
      "cell_type": "code",
      "source": [],
      "metadata": {
        "id": "KeaEAFfz-mY6"
      },
      "execution_count": null,
      "outputs": []
    },
    {
      "cell_type": "markdown",
      "source": [
        "reduce\n",
        "reduce(f,l) -> reduce[f(L[0]) + f(L[1]) + f(L[2:]))"
      ],
      "metadata": {
        "id": "X2y6BKoo-pMT"
      }
    },
    {
      "cell_type": "markdown",
      "source": [
        "Euler Problem 8\n",
        "s = \"73167176531330624919225119674426574742355349194934\n",
        "96983520312774506326239578318016984801869478851843\n",
        "85861560789112949495459501737958331952853208805511\n",
        "12540698747158523863050715693290963295227443043557\n",
        "66896648950445244523161731856403098711121722383113\n",
        "62229893423380308135336276614282806444486645238749 30358907296290491560440772390713810515859307960866 70172427121883998797908792274921901699720888093776 65727333001053367881220235421809751254540594752243 52584907711670556013604839586446706324415722155397 53697817977846174064955149290862569321978468622482 83972241375657056057490261407972968652414535100474 82166370484403199890008895243450658541227588666881 16427171479924442928230863465674813919123162824586 17866458359124566529476545682848912883142607690042 24219022671055626321111109370544217506941658960408 07198403850962455444362981230987879927244284909188 84580156166097919133875499200524063689912560717606 05886116467109405077541002256983155200055935729725 71636269561882670428252483600823257530420752963450"
      ],
      "metadata": {
        "id": "UKB_Vha_B1Be"
      }
    },
    {
      "cell_type": "code",
      "source": [
        "s = \"73167176531330624919225119674426574742355349194934\\\n",
        "96983520312774506326239578318016984801869478851843\\\n",
        "85861560789112949495459501737958331952853208805511\\\n",
        "12540698747158523863050715693290963295227443043557\\\n",
        "66896648950445244523161731856403098711121722383113\\\n",
        "62229893423380308135336276614282806444486645238749\\\n",
        "30358907296290491560440772390713810515859307960866\\\n",
        "70172427121883998797908792274921901699720888093776\\\n",
        "65727333001053367881220235421809751254540594752243\\\n",
        "52584907711670556013604839586446706324415722155397\\\n",
        "53697817977846174064955149290862569321978468622482\\\n",
        "83972241375657056057490261407972968652414535100474\\\n",
        "82166370484403199890008895243450658541227588666881\\\n",
        "16427171479924442928230863465674813919123162824586\\\n",
        "17866458359124566529476545682848912883142607690042\\\n",
        "24219022671055626321111109370544217506941658960408\\\n",
        "07198403850962455444362981230987879927244284909188\\\n",
        "84580156166097919133875499200524063689912560717606\\\n",
        "05886116467109405077541002256983155200055935729725\\\n",
        "71636269561882670428252483600823257530420752963450\"\n",
        "len(s)"
      ],
      "metadata": {
        "colab": {
          "base_uri": "https://localhost:8080/"
        },
        "id": "89thUiw_CcNV",
        "outputId": "f624da61-363b-4a7e-c7b5-db1779f505ff"
      },
      "execution_count": null,
      "outputs": [
        {
          "output_type": "execute_result",
          "data": {
            "text/plain": [
              "1000"
            ]
          },
          "metadata": {},
          "execution_count": 10
        }
      ]
    },
    {
      "cell_type": "code",
      "source": [
        "def product(s:str) -> int:\n",
        "    prod = 1\n",
        "    for ch in s:\n",
        "        prod *= int(ch)\n",
        "    return prod"
      ],
      "metadata": {
        "id": "1G1peBHpB3ML"
      },
      "execution_count": null,
      "outputs": []
    },
    {
      "cell_type": "code",
      "source": [
        "i = 10\n",
        "s[i:i+5]"
      ],
      "metadata": {
        "colab": {
          "base_uri": "https://localhost:8080/",
          "height": 36
        },
        "id": "2kuficmWCOP7",
        "outputId": "cecbc9a5-ae19-4e32-fecd-718a2ec0fe8f"
      },
      "execution_count": null,
      "outputs": [
        {
          "output_type": "execute_result",
          "data": {
            "text/plain": [
              "'13306'"
            ],
            "application/vnd.google.colaboratory.intrinsic+json": {
              "type": "string"
            }
          },
          "metadata": {},
          "execution_count": 12
        }
      ]
    },
    {
      "cell_type": "code",
      "source": [
        "WINDOW_SIZE = 5\n",
        "answer = 0\n",
        "for start in range(len(s) - WINDOW_SIZE):\n",
        "    p = product(s[start: start+WINDOW_SIZE])\n",
        "    if(p > answer):\n",
        "       answer = p\n",
        "    return answer"
      ],
      "metadata": {
        "colab": {
          "base_uri": "https://localhost:8080/",
          "height": 130
        },
        "id": "wUZgMcPLCzdq",
        "outputId": "62d4469b-8f12-46dd-d3ca-9d722358bdd9"
      },
      "execution_count": null,
      "outputs": [
        {
          "output_type": "error",
          "ename": "SyntaxError",
          "evalue": "ignored",
          "traceback": [
            "\u001b[0;36m  File \u001b[0;32m\"<ipython-input-19-7099615c6899>\"\u001b[0;36m, line \u001b[0;32m7\u001b[0m\n\u001b[0;31m    return answer\u001b[0m\n\u001b[0m    ^\u001b[0m\n\u001b[0;31mSyntaxError\u001b[0m\u001b[0;31m:\u001b[0m 'return' outside function\n"
          ]
        }
      ]
    },
    {
      "cell_type": "code",
      "source": [
        "def eluer008() -> int:\n",
        "    STARTS = range(len(s) - WINDOWS_SIZE)\n",
        "    return max((product(s[i: i + WINDOW_SIZE]) for i in STARTS))"
      ],
      "metadata": {
        "id": "gr9IqLJqDqOR"
      },
      "execution_count": null,
      "outputs": []
    },
    {
      "cell_type": "markdown",
      "source": [
        "ODOMETER"
      ],
      "metadata": {
        "id": "kv1LLYkCER-O"
      }
    },
    {
      "cell_type": "code",
      "source": [
        "def is_ascending(n:int) -> bool:\n",
        "    digits = [int(ch) for ch in str(n) ]\n",
        "    return all(a < b for a, b in zip(digits, digits[1:]) )\n"
      ],
      "metadata": {
        "id": "XtlfCS4eEZbr"
      },
      "execution_count": null,
      "outputs": []
    },
    {
      "cell_type": "code",
      "source": [
        "def get_limits(n:int) -> tuple:\n",
        "    DIGITS = \"123456789\"\n",
        "    s = len(str(n))\n",
        "    return int(DIGITS[:s]), int(DIGITS[-s:])"
      ],
      "metadata": {
        "id": "PVC_OBUzE2bn"
      },
      "execution_count": null,
      "outputs": []
    },
    {
      "cell_type": "code",
      "source": [
        "get_limits(147)"
      ],
      "metadata": {
        "colab": {
          "base_uri": "https://localhost:8080/"
        },
        "id": "7Pgy-zGqFTrR",
        "outputId": "f005774f-058b-4d1f-cb04-a46a57c809e8"
      },
      "execution_count": null,
      "outputs": [
        {
          "output_type": "execute_result",
          "data": {
            "text/plain": [
              "(123, 789)"
            ]
          },
          "metadata": {},
          "execution_count": 26
        }
      ]
    },
    {
      "cell_type": "code",
      "source": [
        "def next_reading(reading: int) -> int:\n",
        "    START, LIMIT = get_limits(reading)\n",
        "    if reading == LIMIT:\n",
        "        return START\n",
        "    reading += 1\n",
        "    while not is_ascending(reading):\n",
        "        reading += 1\n",
        "    return reading"
      ],
      "metadata": {
        "id": "EUeT9ihGGPQR"
      },
      "execution_count": null,
      "outputs": []
    },
    {
      "cell_type": "code",
      "source": [
        "def prev_reading(reading: int) -> int:\n",
        "    START, LIMIT = get_limits(reading)\n",
        "    if reading == START:\n",
        "        return LIMIT\n",
        "    reading -= 1\n",
        "    while not is_ascending(reading):\n",
        "        reading -= 1\n",
        "    return reading"
      ],
      "metadata": {
        "id": "qLTdD3BWGQQX"
      },
      "execution_count": null,
      "outputs": []
    },
    {
      "cell_type": "code",
      "source": [
        "def next_nth_reading(reading: int, steps) -> int:\n",
        "    for _ in range(steps):\n",
        "        reading = next_reading(reading)\n",
        "    return reading\n",
        "def prev_nth_reading(reading:int, steps:int) -> int:\n",
        "    for _ in range(steps):\n",
        "        reading = prev_reading(reading)\n",
        "    return reading"
      ],
      "metadata": {
        "id": "gF1nv0QAGVJK"
      },
      "execution_count": null,
      "outputs": []
    },
    {
      "cell_type": "code",
      "source": [
        "def distance(a_reading: int, b_reading: int) -> int:\n",
        "    dist = 0\n",
        "    while a_reading != b_reading:\n",
        "        dist += 1\n",
        "        a_reading = next_reading(a_reading)\n",
        "    return dist"
      ],
      "metadata": {
        "id": "tQNg_KwDHVMJ"
      },
      "execution_count": null,
      "outputs": []
    },
    {
      "cell_type": "code",
      "source": [
        "prev_reading(234)"
      ],
      "metadata": {
        "colab": {
          "base_uri": "https://localhost:8080/"
        },
        "id": "qlWf7KkNHP4k",
        "outputId": "5a4c0e1b-c62f-473b-a5a5-456cd5ab44cc"
      },
      "execution_count": null,
      "outputs": [
        {
          "output_type": "execute_result",
          "data": {
            "text/plain": [
              "189"
            ]
          },
          "metadata": {},
          "execution_count": 45
        }
      ]
    },
    {
      "cell_type": "code",
      "source": [
        "next_reading(1256)"
      ],
      "metadata": {
        "colab": {
          "base_uri": "https://localhost:8080/"
        },
        "id": "sA78NGWwIl-W",
        "outputId": "dfe26572-ada4-41be-d36d-9b85cb568420"
      },
      "execution_count": null,
      "outputs": [
        {
          "output_type": "execute_result",
          "data": {
            "text/plain": [
              "1257"
            ]
          },
          "metadata": {},
          "execution_count": 46
        }
      ]
    },
    {
      "cell_type": "code",
      "source": [
        "next_nth_reading(2567, 10)"
      ],
      "metadata": {
        "colab": {
          "base_uri": "https://localhost:8080/"
        },
        "id": "FLPB8-ByIr2p",
        "outputId": "f3d2a524-72ed-480e-dce1-78a348dd6029"
      },
      "execution_count": null,
      "outputs": [
        {
          "output_type": "execute_result",
          "data": {
            "text/plain": [
              "3456"
            ]
          },
          "metadata": {},
          "execution_count": 47
        }
      ]
    },
    {
      "cell_type": "code",
      "source": [
        "def next_nth_reading(reading: int, steps = 1) -> int:\n",
        "    START, LIMIT = get_limits(reading)\n",
        "    for _ in range(steps):\n",
        "        if reading == LIMIT:\n",
        "            reading = START\n",
        "        else:\n",
        "            reading += 1\n",
        "            while not is_ascending(reading):\n",
        "                reading += 1\n",
        "    return reading"
      ],
      "metadata": {
        "id": "1wZvBvB3TS14"
      },
      "execution_count": null,
      "outputs": []
    },
    {
      "cell_type": "markdown",
      "source": [
        "# next_reading(127) ----> next_reading(127, 1)\n"
      ],
      "metadata": {
        "id": "fH7qYPQ7T9oK"
      }
    },
    {
      "cell_type": "code",
      "source": [
        "def prev_reading(reading:int, steps = 1) -> int:\n",
        "    START, LIMIT = get_limits(reading)\n",
        "    for _ in range(stes):\n",
        "        if reading == START:\n",
        "            reading = LIMIT\n",
        ""
      ],
      "metadata": {
        "id": "ujUgojUtUFWj"
      },
      "execution_count": null,
      "outputs": []
    },
    {
      "cell_type": "code",
      "source": [
        "len([_ for _ in range(1000, 10000) if is_ascending(_)] )"
      ],
      "metadata": {
        "colab": {
          "base_uri": "https://localhost:8080/"
        },
        "id": "oeHiB0gDZYrh",
        "outputId": "82cf1518-d628-40f4-cecf-bb7bae2cfd13"
      },
      "execution_count": null,
      "outputs": [
        {
          "output_type": "execute_result",
          "data": {
            "text/plain": [
              "126"
            ]
          },
          "metadata": {},
          "execution_count": 48
        }
      ]
    },
    {
      "cell_type": "code",
      "source": [
        "len([_ for _ in range(10, 100) if is_ascending(_)] )"
      ],
      "metadata": {
        "colab": {
          "base_uri": "https://localhost:8080/"
        },
        "id": "xCwR5Y73ZoIA",
        "outputId": "3fb98355-396e-4a90-8d62-e6d6ff830c84"
      },
      "execution_count": null,
      "outputs": [
        {
          "output_type": "execute_result",
          "data": {
            "text/plain": [
              "36"
            ]
          },
          "metadata": {},
          "execution_count": 49
        }
      ]
    },
    {
      "cell_type": "code",
      "source": [
        "from itertools import combinations as nCr\n",
        "print(list(nCr(\"123456789\", 2)))"
      ],
      "metadata": {
        "colab": {
          "base_uri": "https://localhost:8080/"
        },
        "id": "_6opTjDAa03L",
        "outputId": "7f9aee36-b0cc-48eb-ee55-e5a9a2cee655"
      },
      "execution_count": null,
      "outputs": [
        {
          "output_type": "stream",
          "name": "stdout",
          "text": [
            "[('1', '2'), ('1', '3'), ('1', '4'), ('1', '5'), ('1', '6'), ('1', '7'), ('1', '8'), ('1', '9'), ('2', '3'), ('2', '4'), ('2', '5'), ('2', '6'), ('2', '7'), ('2', '8'), ('2', '9'), ('3', '4'), ('3', '5'), ('3', '6'), ('3', '7'), ('3', '8'), ('3', '9'), ('4', '5'), ('4', '6'), ('4', '7'), ('4', '8'), ('4', '9'), ('5', '6'), ('5', '7'), ('5', '8'), ('5', '9'), ('6', '7'), ('6', '8'), ('6', '9'), ('7', '8'), ('7', '9'), ('8', '9')]\n"
          ]
        }
      ]
    },
    {
      "cell_type": "code",
      "source": [
        "[''.join(x) for x in nCr(\"123456789\", 2)]"
      ],
      "metadata": {
        "colab": {
          "base_uri": "https://localhost:8080/"
        },
        "id": "0-VGFGF7bRIq",
        "outputId": "b9b85fe4-cda9-44c1-d6d4-f99f67fcd127"
      },
      "execution_count": null,
      "outputs": [
        {
          "output_type": "execute_result",
          "data": {
            "text/plain": [
              "['12',\n",
              " '13',\n",
              " '14',\n",
              " '15',\n",
              " '16',\n",
              " '17',\n",
              " '18',\n",
              " '19',\n",
              " '23',\n",
              " '24',\n",
              " '25',\n",
              " '26',\n",
              " '27',\n",
              " '28',\n",
              " '29',\n",
              " '34',\n",
              " '35',\n",
              " '36',\n",
              " '37',\n",
              " '38',\n",
              " '39',\n",
              " '45',\n",
              " '46',\n",
              " '47',\n",
              " '48',\n",
              " '49',\n",
              " '56',\n",
              " '57',\n",
              " '58',\n",
              " '59',\n",
              " '67',\n",
              " '68',\n",
              " '69',\n",
              " '78',\n",
              " '79',\n",
              " '89']"
            ]
          },
          "metadata": {},
          "execution_count": 51
        }
      ]
    },
    {
      "cell_type": "code",
      "source": [
        "READINGS = []\n",
        "for size in range(1, 10):\n",
        "    READINGS.append(''.join(x) for x in nCr(\"123456789\", size))\n",
        ""
      ],
      "metadata": {
        "id": "pKztTvmobhhT"
      },
      "execution_count": null,
      "outputs": []
    },
    {
      "cell_type": "code",
      "source": [
        "READINGS = [] + READINGS\n"
      ],
      "metadata": {
        "id": "khgsVCsYb4z3"
      },
      "execution_count": null,
      "outputs": []
    },
    {
      "cell_type": "code",
      "source": [
        "len(READINGS[2])"
      ],
      "metadata": {
        "colab": {
          "base_uri": "https://localhost:8080/",
          "height": 165
        },
        "id": "qjw5DxaKcJyT",
        "outputId": "9f16ca05-8e8a-4d28-cdc5-8634c45d081d"
      },
      "execution_count": null,
      "outputs": [
        {
          "output_type": "error",
          "ename": "TypeError",
          "evalue": "ignored",
          "traceback": [
            "\u001b[0;31m---------------------------------------------------------------------------\u001b[0m",
            "\u001b[0;31mTypeError\u001b[0m                                 Traceback (most recent call last)",
            "\u001b[0;32m<ipython-input-68-edc07a627ffd>\u001b[0m in \u001b[0;36m<module>\u001b[0;34m\u001b[0m\n\u001b[0;32m----> 1\u001b[0;31m \u001b[0mlen\u001b[0m\u001b[0;34m(\u001b[0m\u001b[0mREADINGS\u001b[0m\u001b[0;34m[\u001b[0m\u001b[0;36m2\u001b[0m\u001b[0;34m]\u001b[0m\u001b[0;34m)\u001b[0m\u001b[0;34m\u001b[0m\u001b[0;34m\u001b[0m\u001b[0m\n\u001b[0m",
            "\u001b[0;31mTypeError\u001b[0m: object of type 'generator' has no len()"
          ]
        }
      ]
    },
    {
      "cell_type": "code",
      "source": [
        "def next_reading(reading: int, steps=1) -> int:\n",
        "    s = str(reading)\n",
        "    readings = READINGS[len(s)]\n",
        "    if s not in readings:\n",
        "        return -1\n",
        "    position = READINGS[len(s)].index(s)\n",
        "    new_position = (position + steps) % len(readings)\n",
        "    return int(readings[new_position])"
      ],
      "metadata": {
        "id": "JgbLkaficXSU"
      },
      "execution_count": null,
      "outputs": []
    },
    {
      "cell_type": "code",
      "source": [
        "def prev_reading(reading: int, steps=1) -> int:\n",
        "    s = str(reading)\n",
        "    readings = READINGS[len(s)]\n",
        "    if s not in readings:\n",
        "        return -1\n",
        "    position = READINGS[len(s)].index(s)\n",
        "    new_position = (position + steps) % len(readings)\n",
        "    return int(readings[new_position])"
      ],
      "metadata": {
        "id": "vrqWKWlNfTjA"
      },
      "execution_count": null,
      "outputs": []
    },
    {
      "cell_type": "code",
      "source": [],
      "metadata": {
        "id": "_KPC1i7Zhp5y"
      },
      "execution_count": null,
      "outputs": []
    },
    {
      "cell_type": "markdown",
      "source": [
        "\"12 Jan 1994\" -> 1994012\n",
        "\"7,Mar,2012\" -> 2012067\n",
        "\"29 DECEMBER,2000\" -> 2000364"
      ],
      "metadata": {
        "id": "GI-y1cmhhrcM"
      }
    },
    {
      "cell_type": "code",
      "source": [
        "from datetime import date\n",
        "def getdate_string(dt:str) -> int:\n",
        "   return date(dt.split(\" \")[0],dt.split(\" \")[1],dt.split(\" \")[2])\n"
      ],
      "metadata": {
        "id": "1JNln5bciU7Z"
      },
      "execution_count": null,
      "outputs": []
    },
    {
      "cell_type": "code",
      "source": [
        "months = [\"jan\", \"feb\", \"mar\", \"apr\", \"may\", \"jun\", \"jul\", \"aug\", \"sep\", \"oct\", \"nov\", \"dec\"]\n",
        "ordy_days = [0, 31, 28, 31, 30, 31, 30, 31, 31, 30, 31, 30, 31 ]\n",
        "leap_days = [0, 31, 29, 31, 30, 31, 30, 31, 31, 30, 31, 30, 31 ]\n",
        "import itertools\n",
        "ordy= dict(zip(months, itertool.accumulate(ordy_days)))\n"
      ],
      "metadata": {
        "colab": {
          "base_uri": "https://localhost:8080/",
          "height": 252
        },
        "id": "BwdgAj93jOfT",
        "outputId": "782f25ec-cb8a-473c-8f35-f81ffe0f422a"
      },
      "execution_count": null,
      "outputs": [
        {
          "output_type": "error",
          "ename": "ValueError",
          "evalue": "ignored",
          "traceback": [
            "\u001b[0;31m---------------------------------------------------------------------------\u001b[0m",
            "\u001b[0;31mValueError\u001b[0m                                Traceback (most recent call last)",
            "\u001b[0;32m<ipython-input-93-c76ecab8645a>\u001b[0m in \u001b[0;36m<module>\u001b[0;34m\u001b[0m\n\u001b[0;32m----> 1\u001b[0;31m \u001b[0mgetdate_string\u001b[0m\u001b[0;34m(\u001b[0m\u001b[0;34m\"12 Jan 1994\"\u001b[0m\u001b[0;34m)\u001b[0m\u001b[0;34m\u001b[0m\u001b[0;34m\u001b[0m\u001b[0m\n\u001b[0m",
            "\u001b[0;32m<ipython-input-92-f0f349c549d8>\u001b[0m in \u001b[0;36mgetdate_string\u001b[0;34m(dt)\u001b[0m\n\u001b[1;32m      1\u001b[0m \u001b[0;32mfrom\u001b[0m \u001b[0mdatetime\u001b[0m \u001b[0;32mimport\u001b[0m \u001b[0mdate\u001b[0m\u001b[0;34m\u001b[0m\u001b[0;34m\u001b[0m\u001b[0m\n\u001b[1;32m      2\u001b[0m \u001b[0;32mdef\u001b[0m \u001b[0mgetdate_string\u001b[0m\u001b[0;34m(\u001b[0m\u001b[0mdt\u001b[0m\u001b[0;34m:\u001b[0m\u001b[0mstr\u001b[0m\u001b[0;34m)\u001b[0m \u001b[0;34m->\u001b[0m \u001b[0mint\u001b[0m\u001b[0;34m:\u001b[0m\u001b[0;34m\u001b[0m\u001b[0;34m\u001b[0m\u001b[0m\n\u001b[0;32m----> 3\u001b[0;31m    \u001b[0;32mreturn\u001b[0m \u001b[0mdate\u001b[0m\u001b[0;34m(\u001b[0m\u001b[0mdt\u001b[0m\u001b[0;34m.\u001b[0m\u001b[0msplit\u001b[0m\u001b[0;34m(\u001b[0m\u001b[0;34m\"\"\u001b[0m\u001b[0;34m)\u001b[0m\u001b[0;34m[\u001b[0m\u001b[0;36m0\u001b[0m\u001b[0;34m]\u001b[0m\u001b[0;34m,\u001b[0m\u001b[0mdt\u001b[0m\u001b[0;34m.\u001b[0m\u001b[0msplit\u001b[0m\u001b[0;34m(\u001b[0m\u001b[0;34m\"\"\u001b[0m\u001b[0;34m)\u001b[0m\u001b[0;34m[\u001b[0m\u001b[0;36m0\u001b[0m\u001b[0;34m]\u001b[0m\u001b[0;34m,\u001b[0m\u001b[0mdt\u001b[0m\u001b[0;34m.\u001b[0m\u001b[0msplit\u001b[0m\u001b[0;34m(\u001b[0m\u001b[0;34m\"\"\u001b[0m\u001b[0;34m)\u001b[0m\u001b[0;34m[\u001b[0m\u001b[0;36m0\u001b[0m\u001b[0;34m]\u001b[0m\u001b[0;34m)\u001b[0m\u001b[0;34m.\u001b[0m\u001b[0mfromisoformat\u001b[0m\u001b[0;34m(\u001b[0m\u001b[0;34m)\u001b[0m\u001b[0;34m\u001b[0m\u001b[0;34m\u001b[0m\u001b[0m\n\u001b[0m",
            "\u001b[0;31mValueError\u001b[0m: empty separator"
          ]
        }
      ]
    },
    {
      "cell_type": "code",
      "source": [],
      "metadata": {
        "id": "-4u5Ij0kAW-u"
      },
      "execution_count": null,
      "outputs": []
    },
    {
      "cell_type": "markdown",
      "source": [
        "#Converting Roman numbers to Indo arabic and vice versa."
      ],
      "metadata": {
        "id": "TQTIbdhLAX5U"
      }
    },
    {
      "cell_type": "code",
      "source": [
        "Romans = [\"M\",\"D\",\"C\",\"L\",\"X\",\"V\",\"I\"]\n",
        "Arabic = [1000,500,100,50,10,5,1]\n",
        "r2a = dict(zip(Romans, Arabic))\n"
      ],
      "metadata": {
        "id": "A-AypR_oAdf5"
      },
      "execution_count": null,
      "outputs": []
    },
    {
      "cell_type": "code",
      "source": [
        "def arabic_to_roman(n:int) -> str:\n",
        "    roman_symbols = [\"M\", \"CM\", \"D\", \"CD\", \"C\", \"XC\", \"L\", \"XL\", \"X\", \"IX\", \"V\", \"IV\", \"I\"]\n",
        "    arabic_values = [1000, 900, 500, 400, 100, 90, 50, 40, 10, 9, 5, 4, 1]\n",
        "    a2r = dict(zip(arabic_values, roman_symbols))\n",
        "    roman = \"\"\n",
        "    for a in arabic_values:\n",
        "        roman += (n // a) * a2r[a]\n",
        "        n %= a\n",
        "    return roman"
      ],
      "metadata": {
        "id": "eX1ZYTD8EgbW"
      },
      "execution_count": null,
      "outputs": []
    },
    {
      "cell_type": "code",
      "source": [
        "print(arabic_to_roman(54))"
      ],
      "metadata": {
        "colab": {
          "base_uri": "https://localhost:8080/"
        },
        "id": "KpipiDmUF7N8",
        "outputId": "a1fe51e7-7c6d-4b01-c8b5-3d8a10772058"
      },
      "execution_count": null,
      "outputs": [
        {
          "output_type": "stream",
          "name": "stdout",
          "text": [
            "LIV\n"
          ]
        }
      ]
    },
    {
      "cell_type": "code",
      "source": [
        "def roman_to_arabic(roman:str) -> int:\n",
        "    roman_numerals = [\"M\", \"CM\", \"D\", \"CD\", \"C\", \"XC\", \"L\", \"XL\", \"X\", \"IX\", \"V\", \"IV\", \"I\"]\n",
        "    arabic = [1000, 900, 500, 400, 100, 90, 50, 40, 10, 9, 5, 4, 1]\n",
        "    r2a = dict(zip(roman_numerals, arabic))\n",
        "\n",
        "    roman = roman.replace(\"CM\", \"DCCCC\").replace(\"CD\", \"CCCC\")\n",
        "    roman = roman.replace(\"XC\", \"LXXXX\").replace(\"XL\", \"XXXX\")\n",
        "    roman = roman.replace(\"IX\", \"VIIII\").replace(\"IV\", \"IIII\")\n",
        "    return sum(r2a[rn] for rn in roman)\n"
      ],
      "metadata": {
        "id": "jmIH3uoKGc7h"
      },
      "execution_count": null,
      "outputs": []
    },
    {
      "cell_type": "code",
      "source": [
        "roman_to_arabic(\"XXCDV\")"
      ],
      "metadata": {
        "colab": {
          "base_uri": "https://localhost:8080/"
        },
        "id": "8quH3O7ZKqeZ",
        "outputId": "104500c1-301b-4e33-c6fa-92d7230126f2"
      },
      "execution_count": null,
      "outputs": [
        {
          "output_type": "execute_result",
          "data": {
            "text/plain": [
              "385"
            ]
          },
          "metadata": {},
          "execution_count": 102
        }
      ]
    },
    {
      "cell_type": "code",
      "source": [
        "def is_asceinding(n:int) -> bool:\n",
        "    sn = str(n)\n",
        "    return all(a < b for a, b in zip(sn, sn[1:]) )\n",
        "class odometer:\n",
        "    def __init__(self,size):\n",
        "        self.size = size\n",
        "        self.START = \"123456789\" [:size]\n",
        "        self.reading = self.START\n",
        "        self.LIMIT = \"123456789\" [-size:]\n",
        "\n",
        "    def __str__(self):\n",
        "        return str(self.reading)\n",
        "\n",
        "    def __repr__(self):\n",
        "        return f'{self.START} << {self.reading} >> {self.LIMIT}'\n",
        "\n",
        "    def next_reading(self, steps =1):\n",
        "        for _ in range(steps):\n",
        "            if self.reading == self.LIMIT:\n",
        "                self.reading = self.START\n",
        "            else:\n",
        "                self.reading += 1\n",
        "                while not is_ascending(self.reading):\n",
        "                    self.reading += 1\n",
        "\n",
        "    def prev_reading(self, steps =1):\n",
        "        for _ in range(steps):\n",
        "            if self.reading == self.START:\n",
        "                self.reading = self.LIMIT\n",
        "            else:\n",
        "                self.reading -= 1\n",
        "                while not is_ascending(self.reading):\n",
        "                    self.reading -= 1\n",
        "\n"
      ],
      "metadata": {
        "id": "Jb6Lj9-KPTcY"
      },
      "execution_count": null,
      "outputs": []
    },
    {
      "cell_type": "code",
      "source": [
        "a = odometer(4)\n",
        "print(repr(a))"
      ],
      "metadata": {
        "colab": {
          "base_uri": "https://localhost:8080/"
        },
        "id": "y2sXGCanQqmT",
        "outputId": "0a7bfab3-eebd-4c69-b9b9-8a0250e24423"
      },
      "execution_count": null,
      "outputs": [
        {
          "output_type": "stream",
          "name": "stdout",
          "text": [
            "1234 << 1234 >> 6789\n"
          ]
        }
      ]
    },
    {
      "cell_type": "code",
      "source": [
        "o1 = odometer(4)\n",
        "o2 = odometer(4)\n",
        "o1.next_reading(100)\n",
        "print(o1)\n",
        "print(o2)"
      ],
      "metadata": {
        "colab": {
          "base_uri": "https://localhost:8080/",
          "height": 356
        },
        "id": "qWUuANjIThO6",
        "outputId": "e73149e2-8b17-4b74-dd4c-469fd7d948b2"
      },
      "execution_count": null,
      "outputs": [
        {
          "output_type": "error",
          "ename": "TypeError",
          "evalue": "ignored",
          "traceback": [
            "\u001b[0;31m---------------------------------------------------------------------------\u001b[0m",
            "\u001b[0;31mTypeError\u001b[0m                                 Traceback (most recent call last)",
            "\u001b[0;32m<ipython-input-122-dd1a6fa8f743>\u001b[0m in \u001b[0;36m<module>\u001b[0;34m\u001b[0m\n\u001b[1;32m      1\u001b[0m \u001b[0mo1\u001b[0m \u001b[0;34m=\u001b[0m \u001b[0modometer\u001b[0m\u001b[0;34m(\u001b[0m\u001b[0;36m4\u001b[0m\u001b[0;34m)\u001b[0m\u001b[0;34m\u001b[0m\u001b[0;34m\u001b[0m\u001b[0m\n\u001b[1;32m      2\u001b[0m \u001b[0mo2\u001b[0m \u001b[0;34m=\u001b[0m \u001b[0modometer\u001b[0m\u001b[0;34m(\u001b[0m\u001b[0;36m4\u001b[0m\u001b[0;34m)\u001b[0m\u001b[0;34m\u001b[0m\u001b[0;34m\u001b[0m\u001b[0m\n\u001b[0;32m----> 3\u001b[0;31m \u001b[0mo1\u001b[0m\u001b[0;34m.\u001b[0m\u001b[0mnext_reading\u001b[0m\u001b[0;34m(\u001b[0m\u001b[0;36m100\u001b[0m\u001b[0;34m)\u001b[0m\u001b[0;34m\u001b[0m\u001b[0;34m\u001b[0m\u001b[0m\n\u001b[0m\u001b[1;32m      4\u001b[0m \u001b[0mprint\u001b[0m\u001b[0;34m(\u001b[0m\u001b[0mo1\u001b[0m\u001b[0;34m)\u001b[0m\u001b[0;34m\u001b[0m\u001b[0;34m\u001b[0m\u001b[0m\n\u001b[1;32m      5\u001b[0m \u001b[0mprint\u001b[0m\u001b[0;34m(\u001b[0m\u001b[0mo2\u001b[0m\u001b[0;34m)\u001b[0m\u001b[0;34m\u001b[0m\u001b[0;34m\u001b[0m\u001b[0m\n",
            "\u001b[0;32m<ipython-input-121-66ce2d867b87>\u001b[0m in \u001b[0;36mnext_reading\u001b[0;34m(self, steps)\u001b[0m\n\u001b[1;32m     20\u001b[0m                 \u001b[0mself\u001b[0m\u001b[0;34m.\u001b[0m\u001b[0mreading\u001b[0m \u001b[0;34m=\u001b[0m \u001b[0mself\u001b[0m\u001b[0;34m.\u001b[0m\u001b[0mSTART\u001b[0m\u001b[0;34m\u001b[0m\u001b[0;34m\u001b[0m\u001b[0m\n\u001b[1;32m     21\u001b[0m             \u001b[0;32melse\u001b[0m\u001b[0;34m:\u001b[0m\u001b[0;34m\u001b[0m\u001b[0;34m\u001b[0m\u001b[0m\n\u001b[0;32m---> 22\u001b[0;31m                 \u001b[0mself\u001b[0m\u001b[0;34m.\u001b[0m\u001b[0mreading\u001b[0m \u001b[0;34m+=\u001b[0m \u001b[0;36m1\u001b[0m\u001b[0;34m\u001b[0m\u001b[0;34m\u001b[0m\u001b[0m\n\u001b[0m\u001b[1;32m     23\u001b[0m                 \u001b[0;32mwhile\u001b[0m \u001b[0;32mnot\u001b[0m \u001b[0mis_ascending\u001b[0m\u001b[0;34m(\u001b[0m\u001b[0mself\u001b[0m\u001b[0;34m.\u001b[0m\u001b[0mreading\u001b[0m\u001b[0;34m)\u001b[0m\u001b[0;34m:\u001b[0m\u001b[0;34m\u001b[0m\u001b[0;34m\u001b[0m\u001b[0m\n\u001b[1;32m     24\u001b[0m                     \u001b[0mself\u001b[0m\u001b[0;34m.\u001b[0m\u001b[0mreading\u001b[0m \u001b[0;34m+=\u001b[0m \u001b[0;36m1\u001b[0m\u001b[0;34m\u001b[0m\u001b[0;34m\u001b[0m\u001b[0m\n",
            "\u001b[0;31mTypeError\u001b[0m: can only concatenate str (not \"int\") to str"
          ]
        }
      ]
    }
  ]
}