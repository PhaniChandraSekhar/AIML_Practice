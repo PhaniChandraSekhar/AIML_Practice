{
  "cells": [
    {
      "cell_type": "markdown",
      "metadata": {
        "id": "view-in-github",
        "colab_type": "text"
      },
      "source": [
        "<a href=\"https://colab.research.google.com/github/PhaniChandraSekhar/AIML_Practice/blob/main/AIML_Practice_Numpy_Starter.ipynb\" target=\"_parent\"><img src=\"https://colab.research.google.com/assets/colab-badge.svg\" alt=\"Open In Colab\"/></a>"
      ]
    },
    {
      "cell_type": "markdown",
      "metadata": {
        "id": "kkwQn-KO5YFI"
      },
      "source": [
        "# Introductory Program in AIML\n",
        "## A Program by Phani\n",
        "\n",
        "#### NumPy Starter - Class Notebook"
      ]
    },
    {
      "cell_type": "markdown",
      "source": [
        "## Objective :\n",
        "\n",
        "At the end of this experiment, you will be able to :\n",
        "\n",
        "* understand and use frequently used functions of Numpy Library"
      ],
      "metadata": {
        "id": "gh7uApUkVR44"
      }
    },
    {
      "cell_type": "code",
      "execution_count": null,
      "metadata": {
        "colab": {
          "base_uri": "https://localhost:8080/",
          "height": 35
        },
        "id": "bC5LWcDR5YFW",
        "outputId": "11c69436-7706-4479-b648-22f309bbe4c7"
      },
      "outputs": [
        {
          "output_type": "execute_result",
          "data": {
            "text/plain": [
              "'1.21.6'"
            ],
            "application/vnd.google.colaboratory.intrinsic+json": {
              "type": "string"
            }
          },
          "metadata": {},
          "execution_count": 2
        }
      ],
      "source": [
        "import numpy as np  # Calling or importing numpy library\n",
        "np.__version__      # WE can check version of numpy"
      ]
    },
    {
      "cell_type": "code",
      "source": [
        "import matplotlib.pyplot as plt"
      ],
      "metadata": {
        "id": "Y5LQ98kWy2yV"
      },
      "execution_count": null,
      "outputs": []
    },
    {
      "cell_type": "markdown",
      "metadata": {
        "id": "feY8IVWu5YFd"
      },
      "source": [
        "#### Creating 1-Dimensional Array"
      ]
    },
    {
      "cell_type": "code",
      "execution_count": null,
      "metadata": {
        "colab": {
          "base_uri": "https://localhost:8080/"
        },
        "id": "E6f5mCnA5YFe",
        "outputId": "a398e1a8-18c9-4ae5-e32d-67a810b9de49"
      },
      "outputs": [
        {
          "output_type": "stream",
          "name": "stdout",
          "text": [
            "[1 2 3 4 5 6]\n",
            "(6,)\n",
            "1\n",
            "6\n",
            "6\n",
            "<class 'numpy.ndarray'>\n"
          ]
        },
        {
          "output_type": "execute_result",
          "data": {
            "text/plain": [
              "dtype('int64')"
            ]
          },
          "metadata": {},
          "execution_count": 2
        }
      ],
      "source": [
        "a1=np.array([1,2,3,4,5,6]) # It is just like a list, coma seperated sequence of numbers or string or any other data type.\n",
        "# Notice Parenthesis after np.array and single openning square bracket and closing square brecket\n",
        "print(a1) # printing the array\n",
        "print(a1.shape)    # In 1-D array, shape gives counting of number of elements in forms of tuple here-->(6,)\n",
        "print(a1.ndim)     # It gives dimension of array , here it is 1D.\n",
        "print(np.size(a1)) # size always gives total number of elements in any array\n",
        "print(len(a1))     #  In 1D it gives counting of number of elements in array\n",
        "print(type(a1))    # It gives type of data structure, it is an object of class numpy ndarray .\n",
        "a1.dtype           # it gives type of data stored in array.For printing last variable we dont have to write print explicitly."
      ]
    },
    {
      "cell_type": "markdown",
      "metadata": {
        "id": "i3B47vbe5YFf"
      },
      "source": [
        "#### Creating 2-Dimensional Array"
      ]
    },
    {
      "cell_type": "code",
      "execution_count": null,
      "metadata": {
        "colab": {
          "base_uri": "https://localhost:8080/"
        },
        "id": "_Nv2Rm2F5YFh",
        "outputId": "2777d114-d34b-461f-d956-6bf757544fb4"
      },
      "outputs": [
        {
          "output_type": "stream",
          "name": "stdout",
          "text": [
            "[[ 1  2  3]\n",
            " [ 4  5  6]\n",
            " [ 7  8  9]\n",
            " [10 11 12]] \n",
            "\n",
            "(4, 3)\n",
            "2\n",
            "12\n",
            "4\n",
            "<class 'numpy.ndarray'>\n"
          ]
        },
        {
          "output_type": "execute_result",
          "data": {
            "text/plain": [
              "dtype('int64')"
            ]
          },
          "metadata": {},
          "execution_count": 3
        }
      ],
      "source": [
        "a2=np.array([[1,2,3],[4,5,6],[7,8,9],[10,11,12]])\n",
        "# Notice there are multiple (here 4) openning & closing square brecket inside first and last openning & closing square bracket.\n",
        "# Each square bracket represents a row and each coma seperated number represents a column.\n",
        "print(a2,'\\n') # printing the array a2.\n",
        "print(a2.shape)    # In 2-D array, shape gives counting of number of rows and columns in forms of tuple(4 rows and 3 columns).\n",
        "print(a2.ndim)     # It gives dimension of array , here it is 2D.\n",
        "print(np.size(a2)) # size always gives total number of elements in any array.\n",
        "print(len(a2))     #  In 2D it gives counting of number of rows present in an array.\n",
        "print(type(a2))    # It gives type of data structure, it is an object of class numpy ndarray .\n",
        "a2.dtype           # it gives type of data stored in array"
      ]
    },
    {
      "cell_type": "markdown",
      "metadata": {
        "id": "ZfFiZ5k55YFk"
      },
      "source": [
        "### NOTE: In numpy, 1- Dimensional Array has no concept of rows and column, it is just a sequence. Though, 1D array can be conveted into 2D."
      ]
    },
    {
      "cell_type": "code",
      "execution_count": null,
      "metadata": {
        "colab": {
          "base_uri": "https://localhost:8080/"
        },
        "id": "O4uOU5IM5YFn",
        "outputId": "7dc23a86-fb3b-4cf0-b42a-60c998673090"
      },
      "outputs": [
        {
          "output_type": "execute_result",
          "data": {
            "text/plain": [
              "array([ 0,  1,  2,  3,  4,  5,  6,  7,  8,  9, 10, 11])"
            ]
          },
          "metadata": {},
          "execution_count": 4
        }
      ],
      "source": [
        "ar1 = np.arange(12) # It generates 1D array.\n",
        "# In  --> arange--> 'a' for  array  nad 'range' is core python's--> range(start, end, increment/decrement)\n",
        "ar1 # for printing last variable we dont have to write print explicitly in Jupyter.\n",
        "# Here default start point is zero, default increment is 1 and end value is 12 which is not included as in range function.\n"
      ]
    },
    {
      "cell_type": "code",
      "execution_count": null,
      "metadata": {
        "colab": {
          "base_uri": "https://localhost:8080/"
        },
        "id": "yNxiB1_P5YFp",
        "outputId": "97ada58f-58da-4789-9fb0-322fb9a315af"
      },
      "outputs": [
        {
          "output_type": "execute_result",
          "data": {
            "text/plain": [
              "(12,)"
            ]
          },
          "metadata": {},
          "execution_count": 5
        }
      ],
      "source": [
        "ar1.shape # .shape > gives the shape of array ( row and column length)\n",
        "# ar1 is 1-Darray,thus it gives only counting of number of elements as there is no concept of rows and columns in 1D array"
      ]
    },
    {
      "cell_type": "code",
      "execution_count": null,
      "metadata": {
        "colab": {
          "base_uri": "https://localhost:8080/"
        },
        "id": "7U6Iad1C5YFr",
        "outputId": "ba0ad151-d367-49ab-ff54-ec624bd19ccf"
      },
      "outputs": [
        {
          "output_type": "execute_result",
          "data": {
            "text/plain": [
              "array([[ 0,  1,  2,  3],\n",
              "       [ 4,  5,  6,  7],\n",
              "       [ 8,  9, 10, 11]])"
            ]
          },
          "metadata": {},
          "execution_count": 6
        }
      ],
      "source": [
        "ar1.reshape(3,4) # Converts ar1 into two dimensional array of size : 3 rows and 4 columns.\n",
        "# Note number of elements must be same while reshaping, 3X4=12, counting of elements of reshaped array=initial array"
      ]
    },
    {
      "cell_type": "code",
      "execution_count": null,
      "metadata": {
        "colab": {
          "base_uri": "https://localhost:8080/"
        },
        "id": "zqqbrgHn5YFt",
        "outputId": "140b6262-51b0-465f-d06a-1794f8688db8"
      },
      "outputs": [
        {
          "output_type": "execute_result",
          "data": {
            "text/plain": [
              "array([[ 0,  1,  2],\n",
              "       [ 3,  4,  5],\n",
              "       [ 6,  7,  8],\n",
              "       [ 9, 10, 11]])"
            ]
          },
          "metadata": {},
          "execution_count": 7
        }
      ],
      "source": [
        "ar1.reshape(4,3) # This is also possible"
      ]
    },
    {
      "cell_type": "code",
      "execution_count": null,
      "metadata": {
        "colab": {
          "base_uri": "https://localhost:8080/"
        },
        "id": "NnRWSxjQ5YFt",
        "outputId": "6f585d24-1df0-401e-b3d0-526922384a78"
      },
      "outputs": [
        {
          "output_type": "execute_result",
          "data": {
            "text/plain": [
              "array([[ 0,  1,  2,  3,  4,  5],\n",
              "       [ 6,  7,  8,  9, 10, 11]])"
            ]
          },
          "metadata": {},
          "execution_count": 8
        }
      ],
      "source": [
        "ar1.reshape(2,6)# This is also possible"
      ]
    },
    {
      "cell_type": "code",
      "execution_count": null,
      "metadata": {
        "colab": {
          "base_uri": "https://localhost:8080/"
        },
        "id": "jpajR1Qq5YFu",
        "outputId": "6d207024-e2d0-433e-a751-9ae2b474d2ec"
      },
      "outputs": [
        {
          "output_type": "execute_result",
          "data": {
            "text/plain": [
              "array([[ 0,  1],\n",
              "       [ 2,  3],\n",
              "       [ 4,  5],\n",
              "       [ 6,  7],\n",
              "       [ 8,  9],\n",
              "       [10, 11]])"
            ]
          },
          "metadata": {},
          "execution_count": 9
        }
      ],
      "source": [
        "ar1.reshape(6,2)# This is also possible"
      ]
    },
    {
      "cell_type": "code",
      "execution_count": null,
      "metadata": {
        "colab": {
          "base_uri": "https://localhost:8080/"
        },
        "id": "eQM-5mq15YFv",
        "outputId": "236c9b43-c2c8-41b4-c263-2fe86cc479e9"
      },
      "outputs": [
        {
          "output_type": "execute_result",
          "data": {
            "text/plain": [
              "array([[ 0,  1,  2,  3,  4,  5,  6,  7,  8,  9, 10, 11]])"
            ]
          },
          "metadata": {},
          "execution_count": 10
        }
      ],
      "source": [
        "ar1_reshaped_r=ar1.reshape(1,12) # This is alos possible, Note it , a tricy one.\n",
        "# Converts ar1 into two dimensional array of size 1 row and 12 columns\n",
        "ar1_reshaped_r"
      ]
    },
    {
      "cell_type": "code",
      "execution_count": null,
      "metadata": {
        "colab": {
          "base_uri": "https://localhost:8080/"
        },
        "id": "7SCEI75K5YFw",
        "outputId": "baabaf22-76de-4d91-befb-8cdef7106778"
      },
      "outputs": [
        {
          "output_type": "stream",
          "name": "stdout",
          "text": [
            "[ 0  1  2  3  4  5  6  7  8  9 10 11] \n",
            "\n",
            "[[ 0  1  2  3  4  5  6  7  8  9 10 11]]\n"
          ]
        }
      ],
      "source": [
        "# compare ar1 and ar1_reshaped_r\n",
        "print(ar1,'\\n') #1D Array, just a sequence of number, no rows and no columns.\n",
        "print(ar1_reshaped_r) # 2D Array, a pair of square bracket inside first and last openning and closing bracket.1 row & 12 columns."
      ]
    },
    {
      "cell_type": "code",
      "execution_count": null,
      "metadata": {
        "colab": {
          "base_uri": "https://localhost:8080/"
        },
        "id": "OY8iB9_25YFx",
        "outputId": "ed36221c-7d05-481d-cec5-a84273e71618"
      },
      "outputs": [
        {
          "output_type": "execute_result",
          "data": {
            "text/plain": [
              "array([[ 0],\n",
              "       [ 1],\n",
              "       [ 2],\n",
              "       [ 3],\n",
              "       [ 4],\n",
              "       [ 5],\n",
              "       [ 6],\n",
              "       [ 7],\n",
              "       [ 8],\n",
              "       [ 9],\n",
              "       [10],\n",
              "       [11]])"
            ]
          },
          "metadata": {},
          "execution_count": 12
        }
      ],
      "source": [
        "ar1_reshaped_c=ar1.reshape(12,1) # This is alos possible, Note it , a tricy one.\n",
        "# Converts ar1 into two dimensional array of size 12 rows and 1columns\n",
        "ar1_reshaped_c"
      ]
    },
    {
      "cell_type": "code",
      "execution_count": null,
      "metadata": {
        "colab": {
          "base_uri": "https://localhost:8080/"
        },
        "id": "CegskrsJ5YFy",
        "outputId": "012c82f7-8fd0-42c6-efac-8a64a02d2862"
      },
      "outputs": [
        {
          "output_type": "stream",
          "name": "stdout",
          "text": [
            "[ 0  1  2  3  4  5  6  7  8  9 10 11] \n",
            "\n",
            "[[ 0]\n",
            " [ 1]\n",
            " [ 2]\n",
            " [ 3]\n",
            " [ 4]\n",
            " [ 5]\n",
            " [ 6]\n",
            " [ 7]\n",
            " [ 8]\n",
            " [ 9]\n",
            " [10]\n",
            " [11]]\n"
          ]
        }
      ],
      "source": [
        "# compare ar1 and ar1_reshaped_c\n",
        "print(ar1,'\\n') #1D Array, just a sequence of number, no rows and no columns.\n",
        "print(ar1_reshaped_c) # 2D Array, 12 pair of square bracket inside first and last openning and closing bracket.12 rows & 1 column."
      ]
    },
    {
      "cell_type": "code",
      "execution_count": null,
      "metadata": {
        "colab": {
          "base_uri": "https://localhost:8080/"
        },
        "id": "S6YwIQ8W5YFz",
        "outputId": "0f64e3f1-0029-4d0a-c765-306468f5e4fa"
      },
      "outputs": [
        {
          "output_type": "execute_result",
          "data": {
            "text/plain": [
              "array([-5., -4., -3., -2., -1.,  0.,  1.,  2.,  3.,  4.,  5.])"
            ]
          },
          "metadata": {},
          "execution_count": 14
        }
      ],
      "source": [
        "### Similar to np.arange,there is np.linspace, as given below:\n",
        "np.linspace(-5,5,11)"
      ]
    },
    {
      "cell_type": "markdown",
      "metadata": {
        "id": "1mzneIOA5YF0"
      },
      "source": [
        "##### Note: In above last two reshape operations, we have converted 1-D array into ---->1 row and multiple columns --> ar1.reshape(1,12)  or multiple rows and 1 columns --->ar1.reshape(12,1)\n",
        "* For doing this we must know number of elements in 1D array (here 12).\n",
        "* There is another way of doing this without knowing the number of elements in 1-D Array.As given below."
      ]
    },
    {
      "cell_type": "code",
      "execution_count": null,
      "metadata": {
        "colab": {
          "base_uri": "https://localhost:8080/"
        },
        "id": "LiQmLhq85YF1",
        "outputId": "e1cf96b9-f069-4680-d513-0415516a7878"
      },
      "outputs": [
        {
          "output_type": "stream",
          "name": "stdout",
          "text": [
            "[[ 0  1  2  3  4  5  6  7  8  9 10 11]] \n",
            "\n",
            "(1, 12) \n",
            "\n",
            "2 \n",
            "\n"
          ]
        },
        {
          "output_type": "execute_result",
          "data": {
            "text/plain": [
              "array([ 0,  1,  2,  3,  4,  5,  6,  7,  8,  9, 10, 11])"
            ]
          },
          "metadata": {},
          "execution_count": 15
        }
      ],
      "source": [
        "ar2=ar1[np.newaxis,:] # This operation converts one dimensional array into 1 row  and multiple columns(here 12).\n",
        "print(ar2,'\\n')\n",
        "print(ar2.shape,'\\n')\n",
        "print(ar2.ndim,'\\n') ## Gives the dimension of matrix\n",
        "\n",
        "# In above syntax first argument 'np.newaxis' , inside square bracket before coma is for  row\n",
        "# and second argument ':' is for column.\n",
        "# ar1 is converted into 1 row as 'np.newaxis' is in place of row and stored in ar2 .See the result below.\n",
        "# Note ar1 itself doesn't get changed.\n",
        "ar1"
      ]
    },
    {
      "cell_type": "code",
      "execution_count": null,
      "metadata": {
        "colab": {
          "base_uri": "https://localhost:8080/"
        },
        "id": "8KjzE0Mu5YF3",
        "outputId": "0aa9a672-69f0-4226-dee2-7653e028a692"
      },
      "outputs": [
        {
          "output_type": "stream",
          "name": "stdout",
          "text": [
            "[[ 0]\n",
            " [ 1]\n",
            " [ 2]\n",
            " [ 3]\n",
            " [ 4]\n",
            " [ 5]\n",
            " [ 6]\n",
            " [ 7]\n",
            " [ 8]\n",
            " [ 9]\n",
            " [10]\n",
            " [11]] \n",
            "\n",
            "(12, 1)\n"
          ]
        },
        {
          "output_type": "execute_result",
          "data": {
            "text/plain": [
              "2"
            ]
          },
          "metadata": {},
          "execution_count": 16
        }
      ],
      "source": [
        "ar3=ar1[:,np.newaxis]\n",
        "# ar1 is converted into 1 column as 'np.newaxis' is in place of column and stored in ar3 .See the result below.\n",
        "# Note ar1 itself doesn't get changed.Ten rows and one column\n",
        "print(ar3,'\\n')\n",
        "print(ar3.shape)\n",
        "ar3.ndim ## Gives the dimension of matrix"
      ]
    },
    {
      "cell_type": "markdown",
      "metadata": {
        "id": "rNW4rzP45YF4"
      },
      "source": [
        "### Arithmetic with NumPy Arrays"
      ]
    },
    {
      "cell_type": "code",
      "execution_count": null,
      "metadata": {
        "colab": {
          "base_uri": "https://localhost:8080/"
        },
        "id": "OtLJfDnO5YF5",
        "outputId": "bf137541-0ab5-404a-9083-4091ccbf69ea"
      },
      "outputs": [
        {
          "output_type": "execute_result",
          "data": {
            "text/plain": [
              "array([[1, 2, 3],\n",
              "       [2, 3, 4],\n",
              "       [5, 6, 7]])"
            ]
          },
          "metadata": {},
          "execution_count": 17
        }
      ],
      "source": [
        "a=np.array([[1,2,3],[2,3,4],[5,6,7]])\n",
        "a"
      ]
    },
    {
      "cell_type": "code",
      "execution_count": null,
      "metadata": {
        "colab": {
          "base_uri": "https://localhost:8080/"
        },
        "id": "35k9j5gu5YF6",
        "outputId": "2df95ee5-1f38-464e-d7fa-a3dc8398c0b3"
      },
      "outputs": [
        {
          "output_type": "execute_result",
          "data": {
            "text/plain": [
              "array([[ 4,  5,  6],\n",
              "       [ 7,  2,  9],\n",
              "       [10,  5, 12]])"
            ]
          },
          "metadata": {},
          "execution_count": 18
        }
      ],
      "source": [
        "b=np.array([[4,5,6],[7,2,9],[10,5,12]])\n",
        "b"
      ]
    },
    {
      "cell_type": "code",
      "execution_count": null,
      "metadata": {
        "colab": {
          "base_uri": "https://localhost:8080/"
        },
        "id": "WTbuGEiA5YF6",
        "outputId": "9b9bcf22-f35f-4c16-cfc2-4ec60f59949f"
      },
      "outputs": [
        {
          "output_type": "execute_result",
          "data": {
            "text/plain": [
              "array([[ 4, 10, 18],\n",
              "       [14,  6, 36],\n",
              "       [50, 30, 84]])"
            ]
          },
          "metadata": {},
          "execution_count": 19
        }
      ],
      "source": [
        "c1=a*b ## This is not  matrix multiplication but element-wise multiplication\n",
        "c1"
      ]
    },
    {
      "cell_type": "code",
      "execution_count": null,
      "metadata": {
        "colab": {
          "base_uri": "https://localhost:8080/"
        },
        "id": "Z2svcZ-u5YF6",
        "outputId": "c4d624cc-7863-4c85-835c-ac0088f75547"
      },
      "outputs": [
        {
          "output_type": "execute_result",
          "data": {
            "text/plain": [
              "array([[ 5,  7,  9],\n",
              "       [ 9,  5, 13],\n",
              "       [15, 11, 19]])"
            ]
          },
          "metadata": {},
          "execution_count": 20
        }
      ],
      "source": [
        "c=a+b # Matrix addition\n",
        "c"
      ]
    },
    {
      "cell_type": "code",
      "execution_count": null,
      "metadata": {
        "colab": {
          "base_uri": "https://localhost:8080/"
        },
        "id": "E-7QX-lG5YF7",
        "outputId": "537b700f-4d42-4332-9d1e-52c8610cad03"
      },
      "outputs": [
        {
          "output_type": "execute_result",
          "data": {
            "text/plain": [
              "array([[1.        , 0.5       , 0.33333333],\n",
              "       [0.5       , 0.33333333, 0.25      ],\n",
              "       [0.2       , 0.16666667, 0.14285714]])"
            ]
          },
          "metadata": {},
          "execution_count": 21
        }
      ],
      "source": [
        "1/a #This is not matrix inversiion, it is an element-wise inversion"
      ]
    },
    {
      "cell_type": "code",
      "execution_count": null,
      "metadata": {
        "colab": {
          "base_uri": "https://localhost:8080/"
        },
        "id": "xcwvOU1g5YF7",
        "outputId": "bf45b871-e38a-4e44-d8ee-d8effd8347d3"
      },
      "outputs": [
        {
          "output_type": "execute_result",
          "data": {
            "text/plain": [
              "array([[False, False, False],\n",
              "       [False,  True, False],\n",
              "       [False,  True, False]])"
            ]
          },
          "metadata": {},
          "execution_count": 22
        }
      ],
      "source": [
        "a>b # element-Wise comparison"
      ]
    },
    {
      "cell_type": "markdown",
      "metadata": {
        "id": "GXJcXNob5YF8"
      },
      "source": [
        "### Matrix Multiplication"
      ]
    },
    {
      "cell_type": "code",
      "execution_count": null,
      "metadata": {
        "colab": {
          "base_uri": "https://localhost:8080/"
        },
        "id": "NfFQn_YF5YF8",
        "outputId": "ad0784ba-9f4e-4fa6-a53d-d33b2bbdd3fa"
      },
      "outputs": [
        {
          "output_type": "execute_result",
          "data": {
            "text/plain": [
              "array([[ 48,  24,  60],\n",
              "       [ 69,  36,  87],\n",
              "       [132,  72, 168]])"
            ]
          },
          "metadata": {},
          "execution_count": 23
        }
      ],
      "source": [
        "c2=np.dot(a,b) ## This is matrix multiplication between two array a & b (defined above).\n",
        "c2"
      ]
    },
    {
      "cell_type": "code",
      "execution_count": null,
      "metadata": {
        "colab": {
          "base_uri": "https://localhost:8080/"
        },
        "id": "MPTah1D_5YF9",
        "outputId": "000dc9bb-0153-4123-eef8-95dfeae7f683"
      },
      "outputs": [
        {
          "output_type": "execute_result",
          "data": {
            "text/plain": [
              "array([[ 48,  24,  60],\n",
              "       [ 69,  36,  87],\n",
              "       [132,  72, 168]])"
            ]
          },
          "metadata": {},
          "execution_count": 24
        }
      ],
      "source": [
        "c3=a.dot(b)# This is also matrix multiplication\n",
        "c3"
      ]
    },
    {
      "cell_type": "markdown",
      "metadata": {
        "id": "JBuFf1CQ5YF9"
      },
      "source": [
        "\n",
        "\n",
        "![alt text](https://cdn.iiith.talentsprint.com/aiml/Experiment_related_data/Images/matrix_multi.png)"
      ]
    },
    {
      "cell_type": "markdown",
      "metadata": {
        "id": "numjGkSC5YF-"
      },
      "source": [
        "### Matrix Divison"
      ]
    },
    {
      "cell_type": "code",
      "execution_count": null,
      "metadata": {
        "colab": {
          "base_uri": "https://localhost:8080/"
        },
        "id": "DNaGIVZi5YF-",
        "outputId": "54fde72e-afaf-4d0b-ccc1-0ecfb3b1ceb2"
      },
      "outputs": [
        {
          "output_type": "stream",
          "name": "stdout",
          "text": [
            "[[ 1  2  3]\n",
            " [ 4 -3  6]\n",
            " [ 7  8  0]] \n",
            "\n",
            " [[1 1 1]\n",
            " [2 2 2]\n",
            " [3 3 3]] \n",
            "\n",
            "Matrix Division (M/N) :\n",
            "\n",
            " [[ 1.          2.          3.        ]\n",
            " [ 2.         -1.5         3.        ]\n",
            " [ 2.33333333  2.66666667  0.        ]]\n",
            " Matrix Division (M/N)  \n",
            "\n",
            "  [[ 1.          2.          3.        ]\n",
            " [ 2.         -1.5         3.        ]\n",
            " [ 2.33333333  2.66666667  0.        ]]\n"
          ]
        }
      ],
      "source": [
        "A = np.array([[1,2,3],[4,-3,6],[7,8,0]])\n",
        "B = np.array([[1,1,1],[2,2,2],[3,3,3]])\n",
        "print(A,'\\n\\n',B,'\\n')\n",
        "print( 'Matrix Division (M/N) :\\n\\n' , A/B)\n",
        "# OR\n",
        "print(' Matrix Division (M/N)  \\n\\n ', np.divide(A,B))\n",
        "## Basically A is multiplied with B inversed.Only valid if B inversed is defined."
      ]
    },
    {
      "cell_type": "markdown",
      "metadata": {
        "id": "xl71ZPtI5YF_"
      },
      "source": [
        "### Linear Algebra Library\n",
        "* Few more on this topic at the last of this module."
      ]
    },
    {
      "cell_type": "code",
      "execution_count": null,
      "metadata": {
        "id": "yghqJfeL5YF_"
      },
      "outputs": [],
      "source": [
        "from numpy.linalg import inv,det\n",
        "## This is linear algebra library of numpy which contains many linear algebra  functions and operations.\n",
        "## We call it for inverse and determinant calculation of matrix"
      ]
    },
    {
      "cell_type": "code",
      "execution_count": null,
      "metadata": {
        "colab": {
          "base_uri": "https://localhost:8080/"
        },
        "id": "0RTpYqIL5YGA",
        "outputId": "421989c9-5416-45e2-c6e1-5d711293edfd"
      },
      "outputs": [
        {
          "output_type": "execute_result",
          "data": {
            "text/plain": [
              "array([[2, 3],\n",
              "       [5, 9]])"
            ]
          },
          "metadata": {},
          "execution_count": 27
        }
      ],
      "source": [
        "a=np.array([[2,3],[5,9]])\n",
        "a"
      ]
    },
    {
      "cell_type": "code",
      "execution_count": null,
      "metadata": {
        "colab": {
          "base_uri": "https://localhost:8080/"
        },
        "id": "OTW0nAE55YGA",
        "outputId": "f1aee4c3-d06f-4835-a942-523a61472486"
      },
      "outputs": [
        {
          "output_type": "execute_result",
          "data": {
            "text/plain": [
              "3.0000000000000004"
            ]
          },
          "metadata": {},
          "execution_count": 28
        }
      ],
      "source": [
        "det(a)  # Determinant is not equal to zero thus inverse is defined"
      ]
    },
    {
      "cell_type": "code",
      "execution_count": null,
      "metadata": {
        "colab": {
          "base_uri": "https://localhost:8080/"
        },
        "id": "x017SjbQ5YGA",
        "outputId": "1611c0c1-dd4c-41d2-d5b4-0d5de6891569"
      },
      "outputs": [
        {
          "output_type": "execute_result",
          "data": {
            "text/plain": [
              "array([[ 3.        , -1.        ],\n",
              "       [-1.66666667,  0.66666667]])"
            ]
          },
          "metadata": {},
          "execution_count": 29
        }
      ],
      "source": [
        "b=inv(a) ##  b contain inverse of matrix a\n",
        "b"
      ]
    },
    {
      "cell_type": "code",
      "execution_count": null,
      "metadata": {
        "colab": {
          "base_uri": "https://localhost:8080/"
        },
        "id": "gqGhCEsn5YGB",
        "outputId": "08fc0e6e-6580-4deb-c529-61cf0ed2d257"
      },
      "outputs": [
        {
          "output_type": "execute_result",
          "data": {
            "text/plain": [
              "array([[ 1.00000000e+00, -1.11022302e-16],\n",
              "       [ 1.33226763e-15,  1.00000000e+00]])"
            ]
          },
          "metadata": {},
          "execution_count": 30
        }
      ],
      "source": [
        "np.dot(a,b) # Multiplying a matrix with its inverse produce identity matrix ,like:a*a^-(1)=1"
      ]
    },
    {
      "cell_type": "markdown",
      "metadata": {
        "id": "v43Ch2F75YGB"
      },
      "source": [
        "### Commonly used numpy.linalg function\n",
        "![alt text](https://cdn.iiith.talentsprint.com/aiml/Experiment_related_data/Images/numpy_linalg_func.png)\n",
        "\n",
        "![alt text](https://cdn.iiith.talentsprint.com/aiml/Experiment_related_data/Images/numpy_linalg_func1.png)\n",
        "\n"
      ]
    },
    {
      "cell_type": "markdown",
      "metadata": {
        "id": "liWeJ5Ne5YGC"
      },
      "source": [
        "###  Some standards array creation funcitons"
      ]
    },
    {
      "cell_type": "markdown",
      "metadata": {
        "id": "BQ9Q98OV5YGD"
      },
      "source": [
        "*  np.zeros(10)\n",
        "* np.zeros((3, 6))  --> note :> Tuple is passed\n",
        "* np.ones(4)\n",
        "* np.ones((3,4))\n",
        "* np.identity(3)      --> Produces Identity matrix of 3 by 3\n",
        "* np.eye(3)             --> Produces Identity matrix of 3 by 3\n",
        "* np.full((2,3),7)     --> It makes array of shape 2 by 3 having each element is as 7.\n",
        "* np.diag([22,33,44]) --> It makes square matrix with diagnal filled with value passed in list and all other elements remain 0."
      ]
    },
    {
      "cell_type": "code",
      "execution_count": null,
      "metadata": {
        "colab": {
          "base_uri": "https://localhost:8080/"
        },
        "id": "4H6Id7K75YGE",
        "outputId": "895ce680-c3b6-49f0-9680-9cc6eeb76a5c"
      },
      "outputs": [
        {
          "output_type": "execute_result",
          "data": {
            "text/plain": [
              "array([[0., 0., 0., 0.],\n",
              "       [0., 0., 0., 0.],\n",
              "       [0., 0., 0., 0.]])"
            ]
          },
          "metadata": {},
          "execution_count": 31
        }
      ],
      "source": [
        "np.zeros((3,4))"
      ]
    },
    {
      "cell_type": "code",
      "execution_count": null,
      "metadata": {
        "colab": {
          "base_uri": "https://localhost:8080/"
        },
        "id": "ImwjiMZY5YGE",
        "outputId": "c814f66f-5206-4092-d367-2ca9866569fe"
      },
      "outputs": [
        {
          "output_type": "execute_result",
          "data": {
            "text/plain": [
              "array([[1., 1.],\n",
              "       [1., 1.]])"
            ]
          },
          "metadata": {},
          "execution_count": 32
        }
      ],
      "source": [
        "np.ones((2,2))"
      ]
    },
    {
      "cell_type": "code",
      "execution_count": null,
      "metadata": {
        "colab": {
          "base_uri": "https://localhost:8080/"
        },
        "id": "EtP8JPM65YGF",
        "outputId": "56dfda7d-9b81-4a39-9aab-c85047e861a2"
      },
      "outputs": [
        {
          "output_type": "execute_result",
          "data": {
            "text/plain": [
              "array([[7, 7, 7],\n",
              "       [7, 7, 7]])"
            ]
          },
          "metadata": {},
          "execution_count": 33
        }
      ],
      "source": [
        "np.full((2,3),7)  # It makes array of shape 2 by 3 having each element is as 7."
      ]
    },
    {
      "cell_type": "code",
      "execution_count": null,
      "metadata": {
        "colab": {
          "base_uri": "https://localhost:8080/"
        },
        "id": "16qcvu085YGF",
        "outputId": "020e3800-d56e-4be3-a75f-ba082b32b662"
      },
      "outputs": [
        {
          "output_type": "execute_result",
          "data": {
            "text/plain": [
              "array([[1., 0., 0., 0.],\n",
              "       [0., 1., 0., 0.],\n",
              "       [0., 0., 1., 0.],\n",
              "       [0., 0., 0., 1.]])"
            ]
          },
          "metadata": {},
          "execution_count": 34
        }
      ],
      "source": [
        "np.eye(4)"
      ]
    },
    {
      "cell_type": "code",
      "execution_count": null,
      "metadata": {
        "colab": {
          "base_uri": "https://localhost:8080/"
        },
        "id": "UVptsGaJ5YGG",
        "outputId": "796892ed-8740-4bbf-b80b-bf3b1da837d2"
      },
      "outputs": [
        {
          "output_type": "execute_result",
          "data": {
            "text/plain": [
              "array([[22,  0,  0],\n",
              "       [ 0, 33,  0],\n",
              "       [ 0,  0, 44]])"
            ]
          },
          "metadata": {},
          "execution_count": 35
        }
      ],
      "source": [
        "np.diag([22,33,44])"
      ]
    },
    {
      "cell_type": "code",
      "execution_count": null,
      "metadata": {
        "colab": {
          "base_uri": "https://localhost:8080/"
        },
        "id": "_FNxgaJp5YGH",
        "outputId": "9d16903a-5406-4f61-9580-44f76a55fa4c"
      },
      "outputs": [
        {
          "output_type": "execute_result",
          "data": {
            "text/plain": [
              "array([[1, 2, 3],\n",
              "       [2, 3, 4],\n",
              "       [5, 6, 7]])"
            ]
          },
          "metadata": {},
          "execution_count": 36
        }
      ],
      "source": [
        "a=np.array([[1,2,3],[2,3,4],[5,6,7]])\n",
        "a"
      ]
    },
    {
      "cell_type": "code",
      "execution_count": null,
      "metadata": {
        "colab": {
          "base_uri": "https://localhost:8080/"
        },
        "id": "LryGIKRG5YGH",
        "outputId": "1607e9d7-7687-4a90-b260-2014f0dfadf9"
      },
      "outputs": [
        {
          "output_type": "execute_result",
          "data": {
            "text/plain": [
              "array([1, 3, 7])"
            ]
          },
          "metadata": {},
          "execution_count": 37
        }
      ],
      "source": [
        "np.diag(a)  # If we pass square matrix inside diag function, it gives its diagonal elements as 1 D Array."
      ]
    },
    {
      "cell_type": "markdown",
      "metadata": {
        "id": "hvSHLbM55YGI"
      },
      "source": [
        "### Concept of Broadcasting"
      ]
    },
    {
      "cell_type": "code",
      "execution_count": null,
      "metadata": {
        "colab": {
          "base_uri": "https://localhost:8080/"
        },
        "id": "H65f8_UC5YGI",
        "outputId": "bb249ddd-03e1-445c-bf56-d6ffe5f0be50"
      },
      "outputs": [
        {
          "output_type": "stream",
          "name": "stdout",
          "text": [
            "[[1 2 3]\n",
            " [4 5 6]]\n"
          ]
        },
        {
          "output_type": "execute_result",
          "data": {
            "text/plain": [
              "(2, 3)"
            ]
          },
          "metadata": {},
          "execution_count": 38
        }
      ],
      "source": [
        "M1=np.array([[1,2,3],[4,5,6]])\n",
        "print(M1)\n",
        "M1.shape"
      ]
    },
    {
      "cell_type": "code",
      "execution_count": null,
      "metadata": {
        "colab": {
          "base_uri": "https://localhost:8080/"
        },
        "id": "73BGlwea5YGJ",
        "outputId": "dfa81ba2-7036-44d7-921f-e0ef6c1d365e"
      },
      "outputs": [
        {
          "output_type": "stream",
          "name": "stdout",
          "text": [
            "[[8]\n",
            " [9]]\n"
          ]
        },
        {
          "output_type": "execute_result",
          "data": {
            "text/plain": [
              "(2, 1)"
            ]
          },
          "metadata": {},
          "execution_count": 39
        }
      ],
      "source": [
        "M2=np.array([[8],[9]])\n",
        "print(M2)\n",
        "M2.shape"
      ]
    },
    {
      "cell_type": "code",
      "execution_count": null,
      "metadata": {
        "colab": {
          "base_uri": "https://localhost:8080/"
        },
        "id": "4O86mKlJ5YGJ",
        "outputId": "dcdcc10d-a72c-4173-9a2f-12d24fa9c8e2"
      },
      "outputs": [
        {
          "output_type": "execute_result",
          "data": {
            "text/plain": [
              "array([[ 9, 10, 11],\n",
              "       [13, 14, 15]])"
            ]
          },
          "metadata": {},
          "execution_count": 40
        }
      ],
      "source": [
        "### Mathematically M1 and M2 can not be added as shape doesn't match ,but in numpy they can be added.\n",
        "### M2 has same number of rows as that of M1. Its column gets repicated so that its shape becomes equal to M1.\n",
        "### And then, both added.see result below\n",
        "M1+M2\n",
        "## This process of replication is broadcasting actually M2 gets broadcasted along the columns.\n",
        "## We will see result after replication and sum operation, broadcasted M2 is not visible,it is hidden step."
      ]
    },
    {
      "cell_type": "code",
      "execution_count": null,
      "metadata": {
        "colab": {
          "base_uri": "https://localhost:8080/"
        },
        "id": "J0ebWDxI5YGK",
        "outputId": "c6593d6c-fb4e-4314-96e4-41c85d1f1e31"
      },
      "outputs": [
        {
          "output_type": "stream",
          "name": "stdout",
          "text": [
            "[[10 20 30]]\n"
          ]
        },
        {
          "output_type": "execute_result",
          "data": {
            "text/plain": [
              "(1, 3)"
            ]
          },
          "metadata": {},
          "execution_count": 41
        }
      ],
      "source": [
        "# Making another array M3\n",
        "M3=np.array([[10,20,30]])\n",
        "print(M3)\n",
        "M3.shape"
      ]
    },
    {
      "cell_type": "code",
      "execution_count": null,
      "metadata": {
        "colab": {
          "base_uri": "https://localhost:8080/"
        },
        "id": "UeqLVnpH5YGL",
        "outputId": "0d55d1a2-0c79-4bab-bcbc-988d7ae02d78"
      },
      "outputs": [
        {
          "output_type": "execute_result",
          "data": {
            "text/plain": [
              "array([[11, 22, 33],\n",
              "       [14, 25, 36]])"
            ]
          },
          "metadata": {},
          "execution_count": 42
        }
      ],
      "source": [
        "### Mathematically M1 and M3 can not be added as shape doesn't match ,but in numpy they can be added.\n",
        "### M3 has same number of columnss as that of M1. Its row gets repicated so that its shape becomes equal to M1.\n",
        "### And then, both added.see result below\n",
        "M1+M3\n",
        "## This process of replication is broadcasting actually M3 gets broadcasted down the rows.\n",
        "## We will see result after replication and sum operation, broadcasted M3 is not visible,it is hidden step."
      ]
    },
    {
      "cell_type": "markdown",
      "metadata": {
        "id": "5vyCsbLi5YGM"
      },
      "source": [
        "### Concept of Axis\n",
        "##### Row and Column wise operation"
      ]
    },
    {
      "cell_type": "code",
      "execution_count": null,
      "metadata": {
        "colab": {
          "base_uri": "https://localhost:8080/"
        },
        "id": "499HpQUu5YGM",
        "outputId": "e2c6ffb4-5279-421a-e571-fbf8749cfcf5"
      },
      "outputs": [
        {
          "output_type": "execute_result",
          "data": {
            "text/plain": [
              "array([ 1,  2,  3,  4,  5,  6,  7,  8,  9, 10, 11, 12])"
            ]
          },
          "metadata": {},
          "execution_count": 43
        }
      ],
      "source": [
        "a=np.arange(1,13) ## Making 1D array.\n",
        "a"
      ]
    },
    {
      "cell_type": "code",
      "execution_count": null,
      "metadata": {
        "colab": {
          "base_uri": "https://localhost:8080/"
        },
        "id": "qae5RNPo5YGN",
        "outputId": "f0fbc412-4dad-4cff-92e2-4c11d106abb2"
      },
      "outputs": [
        {
          "output_type": "execute_result",
          "data": {
            "text/plain": [
              "array([[ 1,  2,  3],\n",
              "       [ 4,  5,  6],\n",
              "       [ 7,  8,  9],\n",
              "       [10, 11, 12]])"
            ]
          },
          "metadata": {},
          "execution_count": 44
        }
      ],
      "source": [
        "a.reshape(4,3) # Reshaping it"
      ]
    },
    {
      "cell_type": "code",
      "execution_count": null,
      "metadata": {
        "colab": {
          "base_uri": "https://localhost:8080/"
        },
        "id": "v92K0l805YGO",
        "outputId": "f6dd2812-c27b-443d-d57f-8c375c7a2527"
      },
      "outputs": [
        {
          "output_type": "execute_result",
          "data": {
            "text/plain": [
              "array([[ 1,  2,  3],\n",
              "       [ 4,  5,  6],\n",
              "       [ 7,  8,  9],\n",
              "       [10, 11, 12]])"
            ]
          },
          "metadata": {},
          "execution_count": 45
        }
      ],
      "source": [
        "a1=np.arange(1,13).reshape(4,3) # above two operation can be done in one shot.Storing result into a1.\n",
        "a1"
      ]
    },
    {
      "cell_type": "code",
      "execution_count": null,
      "metadata": {
        "colab": {
          "base_uri": "https://localhost:8080/"
        },
        "id": "ZUJzfim25YGO",
        "outputId": "ffbe1ee9-931f-4576-e07f-ecd5f44054c5"
      },
      "outputs": [
        {
          "output_type": "execute_result",
          "data": {
            "text/plain": [
              "78"
            ]
          },
          "metadata": {},
          "execution_count": 46
        }
      ],
      "source": [
        "a1.sum()"
      ]
    },
    {
      "cell_type": "code",
      "execution_count": null,
      "metadata": {
        "colab": {
          "base_uri": "https://localhost:8080/"
        },
        "id": "iYIRhf9c5YGP",
        "outputId": "34a42067-da94-40a9-c845-80a58fe432b2"
      },
      "outputs": [
        {
          "output_type": "execute_result",
          "data": {
            "text/plain": [
              "78"
            ]
          },
          "metadata": {},
          "execution_count": 47
        }
      ],
      "source": [
        "np.sum(a1)"
      ]
    },
    {
      "cell_type": "markdown",
      "metadata": {
        "id": "_MWJVI3o5YGQ"
      },
      "source": [
        "#### In 2D array axis=0 means, down the rows from top to bottom and axis=1 means along the columns from left to right as shown in figure below. Try running codes as written below.\n",
        "![alt text](https://cdn.iiith.talentsprint.com/aiml/Experiment_related_data/Images/axis_concept.png)"
      ]
    },
    {
      "cell_type": "code",
      "execution_count": null,
      "metadata": {
        "colab": {
          "base_uri": "https://localhost:8080/"
        },
        "id": "jsDczH9A5YGQ",
        "outputId": "3d3de122-aac3-48f5-ae82-febb7ad377f1"
      },
      "outputs": [
        {
          "output_type": "execute_result",
          "data": {
            "text/plain": [
              "array([22, 26, 30])"
            ]
          },
          "metadata": {},
          "execution_count": 48
        }
      ],
      "source": [
        "np.sum(a1,axis=0)"
      ]
    },
    {
      "cell_type": "code",
      "execution_count": null,
      "metadata": {
        "colab": {
          "base_uri": "https://localhost:8080/"
        },
        "id": "1mIbEchz5YGR",
        "outputId": "0dd1417e-6745-48fc-a8ed-97aa67a0ee2c"
      },
      "outputs": [
        {
          "output_type": "execute_result",
          "data": {
            "text/plain": [
              "array([22, 26, 30])"
            ]
          },
          "metadata": {},
          "execution_count": 49
        }
      ],
      "source": [
        "a1.sum(axis=0) # Above same operation can be done through this way as well."
      ]
    },
    {
      "cell_type": "code",
      "execution_count": null,
      "metadata": {
        "colab": {
          "base_uri": "https://localhost:8080/"
        },
        "id": "IutyL-y95YGR",
        "outputId": "f63e1c7c-310e-401a-82ad-283f1f4393f5"
      },
      "outputs": [
        {
          "output_type": "execute_result",
          "data": {
            "text/plain": [
              "array([22, 26, 30])"
            ]
          },
          "metadata": {},
          "execution_count": 50
        }
      ],
      "source": [
        "a1.sum(0)# This is also possible."
      ]
    },
    {
      "cell_type": "code",
      "execution_count": null,
      "metadata": {
        "colab": {
          "base_uri": "https://localhost:8080/"
        },
        "id": "xeaEWVU25YGV",
        "outputId": "37133b49-2aef-43e6-8523-7e8e833359bb"
      },
      "outputs": [
        {
          "output_type": "execute_result",
          "data": {
            "text/plain": [
              "array([ 6, 15, 24, 33])"
            ]
          },
          "metadata": {},
          "execution_count": 51
        }
      ],
      "source": [
        "np.sum(a1,axis=1)"
      ]
    },
    {
      "cell_type": "code",
      "execution_count": null,
      "metadata": {
        "colab": {
          "base_uri": "https://localhost:8080/"
        },
        "id": "ntzYM9SB5YGW",
        "outputId": "49b65dba-11f7-4bc9-f7e5-0542fcfed294"
      },
      "outputs": [
        {
          "output_type": "execute_result",
          "data": {
            "text/plain": [
              "array([ 6, 15, 24, 33])"
            ]
          },
          "metadata": {},
          "execution_count": 52
        }
      ],
      "source": [
        "a1.sum(axis=1) # Above same  operation can be done through this way as well."
      ]
    },
    {
      "cell_type": "code",
      "execution_count": null,
      "metadata": {
        "colab": {
          "base_uri": "https://localhost:8080/"
        },
        "id": "YZ_UmSTf5YGX",
        "outputId": "de3d3699-0f2c-43b2-a465-ea8633d1fb04"
      },
      "outputs": [
        {
          "output_type": "execute_result",
          "data": {
            "text/plain": [
              "array([ 6, 15, 24, 33])"
            ]
          },
          "metadata": {},
          "execution_count": 53
        }
      ],
      "source": [
        "a1.sum(1) # This is also possible."
      ]
    },
    {
      "cell_type": "markdown",
      "metadata": {
        "id": "LzaayKUV5YGY"
      },
      "source": [
        "#### Many other staticatical Methods, you can try: np.std , np.var , np.cumsum , np.cumpod , np.min , np.max , np.argmin , np.argmax , ..."
      ]
    },
    {
      "cell_type": "code",
      "execution_count": null,
      "metadata": {
        "colab": {
          "base_uri": "https://localhost:8080/"
        },
        "id": "ydlBgFZU5YGZ",
        "outputId": "0deaf7c6-70cf-4876-9dad-fa558de27a1e"
      },
      "outputs": [
        {
          "output_type": "execute_result",
          "data": {
            "text/plain": [
              "0"
            ]
          },
          "metadata": {},
          "execution_count": 54
        }
      ],
      "source": [
        "np.argmin(np.array([1,20,30,5,6,7,8,])) # Gives index of min valued element of array.\n",
        "## Note index starts from zero, thus value '1' of array has index of '0'."
      ]
    },
    {
      "cell_type": "code",
      "execution_count": null,
      "metadata": {
        "colab": {
          "base_uri": "https://localhost:8080/"
        },
        "id": "xPyHzQIm5YGZ",
        "outputId": "add1fb64-f603-46b9-cb74-252192d31323"
      },
      "outputs": [
        {
          "output_type": "execute_result",
          "data": {
            "text/plain": [
              "2"
            ]
          },
          "metadata": {},
          "execution_count": 55
        }
      ],
      "source": [
        "np.argmax(np.array([1,20,30,5,6,7,8,]))"
      ]
    },
    {
      "cell_type": "markdown",
      "metadata": {
        "id": "n5KiJoc45YGZ"
      },
      "source": [
        "### Stacking of arrays\n",
        "* np.hstack\n",
        "* np.vstack\n",
        "* np.concatenate\n",
        "\n",
        "###### We will learn all above  3 concepts making following three matrix, v1, v2 and v3.\n"
      ]
    },
    {
      "cell_type": "code",
      "execution_count": null,
      "metadata": {
        "colab": {
          "base_uri": "https://localhost:8080/"
        },
        "id": "q3m25k8e5YGa",
        "outputId": "e25045fa-b5c2-4725-d8af-bd008e4e90e9"
      },
      "outputs": [
        {
          "output_type": "stream",
          "name": "stdout",
          "text": [
            "[[1 2 3]\n",
            " [4 5 6]\n",
            " [7 8 9]] \n",
            "\n"
          ]
        },
        {
          "output_type": "execute_result",
          "data": {
            "text/plain": [
              "(3, 3)"
            ]
          },
          "metadata": {},
          "execution_count": 56
        }
      ],
      "source": [
        "v1=np.array([[1,2,3],[4,5,6],[7,8,9]])\n",
        "print(v1,'\\n')\n",
        "v1.shape"
      ]
    },
    {
      "cell_type": "code",
      "execution_count": null,
      "metadata": {
        "colab": {
          "base_uri": "https://localhost:8080/"
        },
        "id": "8rzHuxtd5YGa",
        "outputId": "e1947bb7-b6c7-4444-ece9-cc6e526f2bed"
      },
      "outputs": [
        {
          "output_type": "stream",
          "name": "stdout",
          "text": [
            "[[10]\n",
            " [20]\n",
            " [30]] \n",
            "\n"
          ]
        },
        {
          "output_type": "execute_result",
          "data": {
            "text/plain": [
              "(3, 1)"
            ]
          },
          "metadata": {},
          "execution_count": 57
        }
      ],
      "source": [
        "v2=np.array([[10],[20],[30]])\n",
        "print(v2,'\\n')\n",
        "v2.shape"
      ]
    },
    {
      "cell_type": "code",
      "execution_count": null,
      "metadata": {
        "colab": {
          "base_uri": "https://localhost:8080/"
        },
        "id": "iiGZQ4OC5YGa",
        "outputId": "2369de76-8ab3-45d1-ce8e-366d1bbdaf54"
      },
      "outputs": [
        {
          "output_type": "stream",
          "name": "stdout",
          "text": [
            "[[40 50 60]] \n",
            "\n"
          ]
        },
        {
          "output_type": "execute_result",
          "data": {
            "text/plain": [
              "(1, 3)"
            ]
          },
          "metadata": {},
          "execution_count": 58
        }
      ],
      "source": [
        "v3=np.array([[40,50,60]])\n",
        "print(v3,'\\n')\n",
        "v3.shape"
      ]
    },
    {
      "cell_type": "code",
      "execution_count": null,
      "metadata": {
        "colab": {
          "base_uri": "https://localhost:8080/"
        },
        "id": "uhsTIWv75YGb",
        "outputId": "425e7abf-68dc-4137-ba0c-9c9d86cdd6fa"
      },
      "outputs": [
        {
          "output_type": "execute_result",
          "data": {
            "text/plain": [
              "array([[ 1,  2,  3, 10],\n",
              "       [ 4,  5,  6, 20],\n",
              "       [ 7,  8,  9, 30]])"
            ]
          },
          "metadata": {},
          "execution_count": 59
        }
      ],
      "source": [
        "np.hstack([v1,v2]) # Notice:v1 and v2 have same number of rows.\n",
        "# Thus v2 is stacked after v1,this is horizontal stacking.v2 can also be stacked before v1,check yourself-->np.hstack([v2,v1])"
      ]
    },
    {
      "cell_type": "code",
      "execution_count": null,
      "metadata": {
        "colab": {
          "base_uri": "https://localhost:8080/"
        },
        "id": "E12kEer_5YGb",
        "outputId": "aab82503-41c7-4bb2-dfdd-565c7b44ff14"
      },
      "outputs": [
        {
          "output_type": "execute_result",
          "data": {
            "text/plain": [
              "array([[ 1,  2,  3],\n",
              "       [ 4,  5,  6],\n",
              "       [ 7,  8,  9],\n",
              "       [40, 50, 60]])"
            ]
          },
          "metadata": {},
          "execution_count": 60
        }
      ],
      "source": [
        "np.vstack([v1,v3]) # Notice v1 and v3 have same number of columns\n",
        "# Thus v3 is stacked below v1,this is vertical stacking.v3 can also be stacked before v1,check yourself-->np.vstack([v3,v1])"
      ]
    },
    {
      "cell_type": "markdown",
      "metadata": {
        "id": "GzUsRvmB5YGc"
      },
      "source": [
        "##### Above two operations  can be done through np.concatenate as below, notice  value of axis."
      ]
    },
    {
      "cell_type": "code",
      "execution_count": null,
      "metadata": {
        "colab": {
          "base_uri": "https://localhost:8080/"
        },
        "id": "nMTBmclY5YGc",
        "outputId": "6de86972-5d16-433d-a1e1-518ce5eec273"
      },
      "outputs": [
        {
          "output_type": "execute_result",
          "data": {
            "text/plain": [
              "array([[ 1,  2,  3, 10],\n",
              "       [ 4,  5,  6, 20],\n",
              "       [ 7,  8,  9, 30]])"
            ]
          },
          "metadata": {},
          "execution_count": 61
        }
      ],
      "source": [
        "np.concatenate([v1,v2],axis=1) # v2 is added as a column, thus axis=1 is passed."
      ]
    },
    {
      "cell_type": "code",
      "execution_count": null,
      "metadata": {
        "colab": {
          "base_uri": "https://localhost:8080/"
        },
        "id": "UCOVPrk95YGc",
        "outputId": "e9013dfa-bdb7-4cd2-aaf3-e68b2a25f717"
      },
      "outputs": [
        {
          "output_type": "execute_result",
          "data": {
            "text/plain": [
              "array([[ 1,  2,  3],\n",
              "       [ 4,  5,  6],\n",
              "       [ 7,  8,  9],\n",
              "       [40, 50, 60]])"
            ]
          },
          "metadata": {},
          "execution_count": 62
        }
      ],
      "source": [
        "np.concatenate([v1,v3],axis=0) # v3 is added as a row, thus axis=0 is passed."
      ]
    },
    {
      "cell_type": "markdown",
      "metadata": {
        "id": "zNDUjZTD5YGd"
      },
      "source": [
        "### Data Types for ndarrays"
      ]
    },
    {
      "cell_type": "code",
      "execution_count": null,
      "metadata": {
        "colab": {
          "base_uri": "https://localhost:8080/"
        },
        "id": "j7-VxXhh5YGe",
        "outputId": "50cb1991-7d69-436e-abe4-d25980da1545"
      },
      "outputs": [
        {
          "output_type": "stream",
          "name": "stdout",
          "text": [
            "float64\n",
            "int32\n"
          ]
        }
      ],
      "source": [
        "arr1 = np.array([1, 2, 3], dtype=np.float64) # We have defined data type a float 64 for this matrix\n",
        "arr2 = np.array([1, 2, 3], dtype=np.int32)  # We have defined data type a int32 for this matrix\n",
        "print(arr1.dtype)\n",
        "print(arr2.dtype)"
      ]
    },
    {
      "cell_type": "markdown",
      "metadata": {
        "id": "1JO2tZyZ5YGe"
      },
      "source": [
        "#### Following are the integer and float data types are there in numpy.\n",
        "\n",
        "![alt text](https://cdn.iiith.talentsprint.com/aiml/Experiment_related_data/Images/integer_float_data_types.png)"
      ]
    },
    {
      "cell_type": "code",
      "execution_count": null,
      "metadata": {
        "colab": {
          "base_uri": "https://localhost:8080/"
        },
        "id": "as6-8Y3u5YGe",
        "outputId": "326c260e-54c8-412c-d387-56ee55ee3d3e"
      },
      "outputs": [
        {
          "output_type": "stream",
          "name": "stdout",
          "text": [
            "[1 2 3 4 5]\n",
            "int64\n",
            "[1. 2. 3. 4. 5.]\n"
          ]
        },
        {
          "output_type": "execute_result",
          "data": {
            "text/plain": [
              "dtype('float64')"
            ]
          },
          "metadata": {},
          "execution_count": 64
        }
      ],
      "source": [
        "a = np.array([1, 2, 3, 4, 5]) ## type of this array is by default integer\n",
        "print(a)\n",
        "print(a.dtype)\n",
        "float_a = a.astype(np.float64) # type casting of array 'a' into float by using  astype() and storing to a variable-->floa_a\n",
        "print(float_a) ## we can see dot added in every element of array\n",
        "float_a.dtype"
      ]
    },
    {
      "cell_type": "code",
      "execution_count": null,
      "metadata": {
        "colab": {
          "base_uri": "https://localhost:8080/"
        },
        "id": "Y5j0Ge0V5YGf",
        "outputId": "1c930464-4747-4489-cb70-f0efc4cd13fa"
      },
      "outputs": [
        {
          "output_type": "stream",
          "name": "stdout",
          "text": [
            "[ 6.9 10.2 -0.6  0.5 12.9 10.1]\n"
          ]
        },
        {
          "output_type": "execute_result",
          "data": {
            "text/plain": [
              "array([ 6, 10,  0,  0, 12, 10], dtype=int32)"
            ]
          },
          "metadata": {},
          "execution_count": 65
        }
      ],
      "source": [
        "a1 = np.array([6.9, 10.2, -0.6, 0.5, 12.9, 10.1])\n",
        "print(a1)\n",
        "a1.astype(np.int32)# this is just a display a1 remains unchanged. We have to assign it into a new variable to store the chage\n",
        "## Converting float into integer will truncate the value after decimal point."
      ]
    },
    {
      "cell_type": "markdown",
      "metadata": {
        "id": "OnSi2_Eb5YGf"
      },
      "source": [
        "##### There are many other data type, like : bool(True, False), object(any python object), complex, string_, unicode. Explore on your own."
      ]
    },
    {
      "cell_type": "code",
      "execution_count": null,
      "metadata": {
        "colab": {
          "base_uri": "https://localhost:8080/"
        },
        "id": "9TZ4ZdN95YGg",
        "outputId": "f6baedb6-18b3-4f9e-c8ab-f413d1d9fc72"
      },
      "outputs": [
        {
          "output_type": "stream",
          "name": "stdout",
          "text": [
            "[b'1.25' b'-9.6' b'42']\n"
          ]
        },
        {
          "output_type": "execute_result",
          "data": {
            "text/plain": [
              "array([ 1.25, -9.6 , 42.  ])"
            ]
          },
          "metadata": {},
          "execution_count": 66
        }
      ],
      "source": [
        "ar_s = np.array(['1.25', '-9.6', '42'], dtype=np.string_)\n",
        "print(ar_s)\n",
        "ar_s.astype(float) # Conveting back into float data type"
      ]
    },
    {
      "cell_type": "code",
      "execution_count": null,
      "metadata": {
        "colab": {
          "base_uri": "https://localhost:8080/"
        },
        "id": "oLAuQ3cg5YGg",
        "outputId": "6e2e1903-665d-4b86-b478-857acd5e3694"
      },
      "outputs": [
        {
          "output_type": "stream",
          "name": "stdout",
          "text": [
            "['1.25' '-9.6' '42']\n"
          ]
        },
        {
          "output_type": "execute_result",
          "data": {
            "text/plain": [
              "array([ 1.25, -9.6 , 42.  ])"
            ]
          },
          "metadata": {},
          "execution_count": 67
        }
      ],
      "source": [
        "ar_s = np.array([1.25, -9.6, 42], dtype=str) ## This will also work\n",
        "print(ar_s)\n",
        "ar_s.astype(float) # Conveting back into float data type"
      ]
    },
    {
      "cell_type": "code",
      "execution_count": null,
      "metadata": {
        "colab": {
          "base_uri": "https://localhost:8080/"
        },
        "id": "-Y6xwDH55YGg",
        "outputId": "7416342c-a9bc-4d9e-87dc-3c39a506cafa"
      },
      "outputs": [
        {
          "output_type": "stream",
          "name": "stdout",
          "text": [
            "['1.25' '-9.6' '42']\n"
          ]
        },
        {
          "output_type": "execute_result",
          "data": {
            "text/plain": [
              "array([ 1.25, -9.6 , 42.  ])"
            ]
          },
          "metadata": {},
          "execution_count": 68
        }
      ],
      "source": [
        "ar_s = np.array(['1.25', '-9.6', '42']) ## Any character inside quotation is converted into string.\n",
        "print(ar_s)\n",
        "ar_s.astype(float) # Conveting back into float data type"
      ]
    },
    {
      "cell_type": "code",
      "execution_count": null,
      "metadata": {
        "colab": {
          "base_uri": "https://localhost:8080/"
        },
        "id": "4qIvf8rt5YGh",
        "outputId": "a2443840-b08c-40de-b4fe-ac7ad70debac"
      },
      "outputs": [
        {
          "output_type": "stream",
          "name": "stdout",
          "text": [
            "[0 1 2 3 4 5 6 7 8 9]\n"
          ]
        },
        {
          "output_type": "execute_result",
          "data": {
            "text/plain": [
              "array([0., 1., 2., 3., 4., 5., 6., 7., 8., 9.])"
            ]
          },
          "metadata": {},
          "execution_count": 69
        }
      ],
      "source": [
        "ar_int = np.arange(10)\n",
        "print(ar_int)\n",
        "ar_float = np.array([1.2, 2.70, 3.5, 4.8], dtype=np.float64)\n",
        "ar_int.astype(ar_float.dtype) # we are conveting data type of ar_int to that of type of ar_float.This could be a way as well!!"
      ]
    },
    {
      "cell_type": "markdown",
      "metadata": {
        "id": "dhiOxQdk5YGi"
      },
      "source": [
        "## Basic Indexing and Slicing\n",
        "#### 1-D Array"
      ]
    },
    {
      "cell_type": "code",
      "execution_count": null,
      "metadata": {
        "colab": {
          "base_uri": "https://localhost:8080/"
        },
        "id": "JmlYLZ1e5YGi",
        "outputId": "0adf5269-cca2-4dfc-d03f-f4ab996f628b"
      },
      "outputs": [
        {
          "output_type": "execute_result",
          "data": {
            "text/plain": [
              "array([1, 2, 3, 4, 5])"
            ]
          },
          "metadata": {},
          "execution_count": 70
        }
      ],
      "source": [
        "a1 = np.arange(1,6)\n",
        "a1  # This is 1D array. Index starts from zero(starting from left) ,i.e. zero indexed member of the array is 1."
      ]
    },
    {
      "cell_type": "code",
      "execution_count": null,
      "metadata": {
        "colab": {
          "base_uri": "https://localhost:8080/"
        },
        "id": "YnCRSTg75YGl",
        "outputId": "e1744f05-be45-4e69-f1fa-796677142f11"
      },
      "outputs": [
        {
          "output_type": "execute_result",
          "data": {
            "text/plain": [
              "2"
            ]
          },
          "metadata": {},
          "execution_count": 71
        }
      ],
      "source": [
        "a1[1] ## Square bracket is applied on arry to slice it. 1 is passed inside bracket to slice 1 indexed member of the array."
      ]
    },
    {
      "cell_type": "code",
      "execution_count": null,
      "metadata": {
        "colab": {
          "base_uri": "https://localhost:8080/"
        },
        "id": "EH2z4lZa5YGl",
        "outputId": "fbf68a75-259a-491a-a428-1a58c2838089"
      },
      "outputs": [
        {
          "output_type": "execute_result",
          "data": {
            "text/plain": [
              "array([2, 3])"
            ]
          },
          "metadata": {},
          "execution_count": 72
        }
      ],
      "source": [
        "a1[1:3] ## It gives sliced array taking 1 indexed element utpo 2 indexex element as any value after colon is not included.\n",
        "# Note: Any value after colon is not included.One element before this is included only.\n",
        "# Note Any value before colon is always included."
      ]
    },
    {
      "cell_type": "code",
      "execution_count": null,
      "metadata": {
        "colab": {
          "base_uri": "https://localhost:8080/"
        },
        "id": "cQHf7KbE5YGm",
        "outputId": "3efbf997-30d1-4cd8-a771-bbfef5ed04fe"
      },
      "outputs": [
        {
          "output_type": "stream",
          "name": "stdout",
          "text": [
            "[ 1 12 12  4  5]\n"
          ]
        }
      ],
      "source": [
        "a1[1:3] =12 # This is assignment operation, i.e. 1st and 2nd indexed value of the array is replaced with 12\n",
        "print(a1)   # See the result"
      ]
    },
    {
      "cell_type": "code",
      "execution_count": null,
      "metadata": {
        "colab": {
          "base_uri": "https://localhost:8080/"
        },
        "id": "O1bG9nSv5YGm",
        "outputId": "82640e51-b66e-4886-e044-759cd6788735"
      },
      "outputs": [
        {
          "output_type": "execute_result",
          "data": {
            "text/plain": [
              "array([12,  4,  5])"
            ]
          },
          "metadata": {},
          "execution_count": 74
        }
      ],
      "source": [
        "a1[2:] # 2nd indexed to last indexed element sliced."
      ]
    },
    {
      "cell_type": "code",
      "execution_count": null,
      "metadata": {
        "colab": {
          "base_uri": "https://localhost:8080/"
        },
        "id": "sCurx9Fq5YGn",
        "outputId": "e2c0de08-6908-41d0-966b-f7140c1fcfec"
      },
      "outputs": [
        {
          "output_type": "execute_result",
          "data": {
            "text/plain": [
              "array([ 1, 12, 12,  4,  5])"
            ]
          },
          "metadata": {},
          "execution_count": 75
        }
      ],
      "source": [
        "a1[:5] # From the very beginning to 4rth indexed elements are sliced, 5th indexed element not included."
      ]
    },
    {
      "cell_type": "code",
      "execution_count": null,
      "metadata": {
        "colab": {
          "base_uri": "https://localhost:8080/"
        },
        "id": "dX2v7z5C5YGn",
        "outputId": "33e2d276-3665-43ce-eb96-74f817553367"
      },
      "outputs": [
        {
          "output_type": "execute_result",
          "data": {
            "text/plain": [
              "array([ 1, 12, 12,  4,  5])"
            ]
          },
          "metadata": {},
          "execution_count": 76
        }
      ],
      "source": [
        "a1"
      ]
    },
    {
      "cell_type": "code",
      "execution_count": null,
      "metadata": {
        "colab": {
          "base_uri": "https://localhost:8080/"
        },
        "id": "IuOWOAZR5YGo",
        "outputId": "715807cc-f6f7-4657-ee0f-90a97fee0ae9"
      },
      "outputs": [
        {
          "output_type": "execute_result",
          "data": {
            "text/plain": [
              "array([12,  4,  5])"
            ]
          },
          "metadata": {},
          "execution_count": 77
        }
      ],
      "source": [
        "a_new=a1[2:] # It takes  2 indexed value till the last indexed value of the array and assign it in new varible a_new\n",
        "a_new"
      ]
    },
    {
      "cell_type": "code",
      "execution_count": null,
      "metadata": {
        "colab": {
          "base_uri": "https://localhost:8080/"
        },
        "id": "ayCmon2R5YGp",
        "outputId": "67db0c86-b278-4548-9a78-61f8f78c9308"
      },
      "outputs": [
        {
          "output_type": "execute_result",
          "data": {
            "text/plain": [
              "array([99,  4,  5])"
            ]
          },
          "metadata": {},
          "execution_count": 78
        }
      ],
      "source": [
        "a_new[0]=99 ## Now replacing 0 indexed value of the array by 99 and displaying it.\n",
        "a_new"
      ]
    },
    {
      "cell_type": "code",
      "execution_count": null,
      "metadata": {
        "colab": {
          "base_uri": "https://localhost:8080/"
        },
        "id": "oUiGYEdr5YGp",
        "outputId": "774019b9-66b4-4b66-918b-f8f98f981f2a"
      },
      "outputs": [
        {
          "output_type": "execute_result",
          "data": {
            "text/plain": [
              "array([ 1, 12, 99,  4,  5])"
            ]
          },
          "metadata": {},
          "execution_count": 79
        }
      ],
      "source": [
        "# Now lets check the initial array a1, This also gets changed.\n",
        "a1"
      ]
    },
    {
      "cell_type": "markdown",
      "metadata": {
        "id": "PdgNyNqN5YGq"
      },
      "source": [
        "* Thus any change on sliced array will cause corresponding change in initial array as well.To stop this we use .copy()"
      ]
    },
    {
      "cell_type": "code",
      "execution_count": null,
      "metadata": {
        "colab": {
          "base_uri": "https://localhost:8080/"
        },
        "id": "vHEThvCW5YGq",
        "outputId": "f8e42c18-b8d7-4a27-ffc2-91389deaa1a4"
      },
      "outputs": [
        {
          "output_type": "execute_result",
          "data": {
            "text/plain": [
              "array([ 1, 12, 99,  4,  5])"
            ]
          },
          "metadata": {},
          "execution_count": 80
        }
      ],
      "source": [
        "a1"
      ]
    },
    {
      "cell_type": "code",
      "execution_count": null,
      "metadata": {
        "colab": {
          "base_uri": "https://localhost:8080/"
        },
        "id": "sGlQCF-B5YGr",
        "outputId": "cba4be13-7158-49bd-dac6-21595d816fc0"
      },
      "outputs": [
        {
          "output_type": "execute_result",
          "data": {
            "text/plain": [
              "array([4, 5])"
            ]
          },
          "metadata": {},
          "execution_count": 81
        }
      ],
      "source": [
        "a1_copy=a1[3:].copy()# now sliced array is independently copied and change will not be reflected in original array a1.\n",
        "a1_copy"
      ]
    },
    {
      "cell_type": "code",
      "execution_count": null,
      "metadata": {
        "colab": {
          "base_uri": "https://localhost:8080/"
        },
        "id": "QeNYIPDo5YGs",
        "outputId": "fffc5445-5009-4e1b-89e9-7b4f945cc89a"
      },
      "outputs": [
        {
          "output_type": "execute_result",
          "data": {
            "text/plain": [
              "array([444,   5])"
            ]
          },
          "metadata": {},
          "execution_count": 82
        }
      ],
      "source": [
        "a1_copy[0]=444 # We are updating 0 indexed value to 444 and displaying it.\n",
        "a1_copy"
      ]
    },
    {
      "cell_type": "code",
      "execution_count": null,
      "metadata": {
        "colab": {
          "base_uri": "https://localhost:8080/"
        },
        "id": "DVPZ8DNw5YGt",
        "outputId": "5625ccd8-f0ff-42f1-d277-e624d8bd27b9"
      },
      "outputs": [
        {
          "output_type": "execute_result",
          "data": {
            "text/plain": [
              "array([ 1, 12, 99,  4,  5])"
            ]
          },
          "metadata": {},
          "execution_count": 83
        }
      ],
      "source": [
        "a1 # Now checking original aary a1, and no changes on it."
      ]
    },
    {
      "cell_type": "code",
      "execution_count": null,
      "metadata": {
        "colab": {
          "base_uri": "https://localhost:8080/"
        },
        "id": "eke3x4rE5YGt",
        "outputId": "50a57c7b-dd7e-485c-d26c-3239e643d60a"
      },
      "outputs": [
        {
          "output_type": "execute_result",
          "data": {
            "text/plain": [
              "array([64, 64, 64, 64, 64])"
            ]
          },
          "metadata": {},
          "execution_count": 84
        }
      ],
      "source": [
        "a1[:] = 64 # ':' -- change all element\n",
        "a1"
      ]
    },
    {
      "cell_type": "code",
      "execution_count": null,
      "metadata": {
        "colab": {
          "base_uri": "https://localhost:8080/"
        },
        "id": "zaK5Uqts5YGu",
        "outputId": "f13294ec-d324-483d-948a-bf91acf5ece5"
      },
      "outputs": [
        {
          "output_type": "execute_result",
          "data": {
            "text/plain": [
              "array([64, 64, 64, 64, 64])"
            ]
          },
          "metadata": {},
          "execution_count": 85
        }
      ],
      "source": [
        "a1"
      ]
    },
    {
      "cell_type": "code",
      "execution_count": null,
      "metadata": {
        "colab": {
          "base_uri": "https://localhost:8080/"
        },
        "id": "EBOIQP6e5YGv",
        "outputId": "bf8d2b22-f3c0-42bb-fe39-c9997bf1db67"
      },
      "outputs": [
        {
          "output_type": "execute_result",
          "data": {
            "text/plain": [
              "array([64, 64, 64])"
            ]
          },
          "metadata": {},
          "execution_count": 86
        }
      ],
      "source": [
        "a1[::2] # starting  from very begnning, it picks elements leaving one element in between."
      ]
    },
    {
      "cell_type": "code",
      "execution_count": null,
      "metadata": {
        "colab": {
          "base_uri": "https://localhost:8080/"
        },
        "id": "OU4SnOGm5YGv",
        "outputId": "283f8a64-f24f-4e62-c0fe-7d0b4f46ee20"
      },
      "outputs": [
        {
          "output_type": "execute_result",
          "data": {
            "text/plain": [
              "64"
            ]
          },
          "metadata": {},
          "execution_count": 87
        }
      ],
      "source": [
        "a1[-1] # negative index stars with -1  from  right to left"
      ]
    },
    {
      "cell_type": "code",
      "execution_count": null,
      "metadata": {
        "colab": {
          "base_uri": "https://localhost:8080/"
        },
        "id": "xbVjrlA95YGw",
        "outputId": "dad81e2c-a405-4ebb-e9c1-2949a1b7476f"
      },
      "outputs": [
        {
          "output_type": "execute_result",
          "data": {
            "text/plain": [
              "array([64, 64])"
            ]
          },
          "metadata": {},
          "execution_count": 88
        }
      ],
      "source": [
        "a1[:-3] # See what happens!"
      ]
    },
    {
      "cell_type": "code",
      "execution_count": null,
      "metadata": {
        "colab": {
          "base_uri": "https://localhost:8080/"
        },
        "id": "7oD9Bxxv5YGw",
        "outputId": "cade9e7f-d7a7-47c1-e39e-1dac77bb1506"
      },
      "outputs": [
        {
          "output_type": "execute_result",
          "data": {
            "text/plain": [
              "array([64, 64, 64])"
            ]
          },
          "metadata": {},
          "execution_count": 89
        }
      ],
      "source": [
        "a1[-3:] ## See what happens!"
      ]
    },
    {
      "cell_type": "code",
      "execution_count": null,
      "metadata": {
        "colab": {
          "base_uri": "https://localhost:8080/"
        },
        "id": "jk-VYN0l5YGx",
        "outputId": "d48643a4-faf8-460d-d910-1e6837284c10"
      },
      "outputs": [
        {
          "output_type": "execute_result",
          "data": {
            "text/plain": [
              "array([64, 64, 64, 64, 64])"
            ]
          },
          "metadata": {},
          "execution_count": 90
        }
      ],
      "source": [
        "a1[::-1] # it will reverse the 1D array, like list"
      ]
    },
    {
      "cell_type": "markdown",
      "metadata": {
        "id": "BKXYjD0L5YGy"
      },
      "source": [
        "#### Slicing and indexing continue : 2-D Array"
      ]
    },
    {
      "cell_type": "code",
      "execution_count": null,
      "metadata": {
        "colab": {
          "base_uri": "https://localhost:8080/"
        },
        "id": "cvQq0_r15YGy",
        "outputId": "b6c71a74-3232-4d22-d98a-322d2a0e8e0b"
      },
      "outputs": [
        {
          "output_type": "execute_result",
          "data": {
            "text/plain": [
              "array([[ 1,  2,  3,  4],\n",
              "       [ 4,  5,  6,  7],\n",
              "       [ 7,  8,  9, 10]])"
            ]
          },
          "metadata": {},
          "execution_count": 91
        }
      ],
      "source": [
        "a2d = np.array([[1, 2, 3, 4], [4, 5, 6, 7], [7, 8, 9, 10]]) ## Creating a 2D array\n",
        "a2d  # column and row index starts from zero.Three rows ( with index :0,1,2;starting from top)\n",
        "     # and four columns (with index:0,1,2,3; starting from left)\n",
        "     # Negative indexing also valid: for rows from bottom to top :-1,-2,-3\n",
        "     # For columns from right to left :-1,-2,-3,-4"
      ]
    },
    {
      "cell_type": "markdown",
      "metadata": {
        "id": "Fn6axAPW5YGz"
      },
      "source": [
        "#### Go through the codes below and compare the result with this image.\n",
        "\n",
        "![alt text](https://cdn.iiith.talentsprint.com/aiml/Experiment_related_data/Images/2D_array_slicing.png)"
      ]
    },
    {
      "cell_type": "code",
      "execution_count": null,
      "metadata": {
        "colab": {
          "base_uri": "https://localhost:8080/"
        },
        "id": "fqtLz7kV5YG0",
        "outputId": "4d060999-cb24-4cad-f035-94ec0c01743a"
      },
      "outputs": [
        {
          "output_type": "execute_result",
          "data": {
            "text/plain": [
              "array([ 7,  8,  9, 10])"
            ]
          },
          "metadata": {},
          "execution_count": 92
        }
      ],
      "source": [
        "a2d[2] # On passing single integer value inside square bracket select corresponding indexed row. 2nd indexed row sliced"
      ]
    },
    {
      "cell_type": "code",
      "execution_count": null,
      "metadata": {
        "colab": {
          "base_uri": "https://localhost:8080/"
        },
        "id": "IzP-DRhR5YG2",
        "outputId": "9591dcd6-21ed-4fe9-d596-9f07c503fc62"
      },
      "outputs": [
        {
          "output_type": "execute_result",
          "data": {
            "text/plain": [
              "array([1, 2, 3, 4])"
            ]
          },
          "metadata": {},
          "execution_count": 93
        }
      ],
      "source": [
        "a2d[0] # zeroth row sliced."
      ]
    },
    {
      "cell_type": "code",
      "execution_count": null,
      "metadata": {
        "colab": {
          "base_uri": "https://localhost:8080/"
        },
        "id": "oKeYETQz5YG3",
        "outputId": "44dcff2e-aeb3-4e5a-afbc-2e7fafede271"
      },
      "outputs": [
        {
          "output_type": "execute_result",
          "data": {
            "text/plain": [
              "7"
            ]
          },
          "metadata": {},
          "execution_count": 94
        }
      ],
      "source": [
        "a2d[1,3] # first value before coma is for row index and second value after coma is for column index."
      ]
    },
    {
      "cell_type": "code",
      "execution_count": null,
      "metadata": {
        "colab": {
          "base_uri": "https://localhost:8080/"
        },
        "id": "eCCi7now5YG4",
        "outputId": "1894f195-93d8-45d8-c066-6514d4db8f2f"
      },
      "outputs": [
        {
          "output_type": "execute_result",
          "data": {
            "text/plain": [
              "7"
            ]
          },
          "metadata": {},
          "execution_count": 95
        }
      ],
      "source": [
        "a2d[1][3] # This way also possible"
      ]
    },
    {
      "cell_type": "code",
      "execution_count": null,
      "metadata": {
        "colab": {
          "base_uri": "https://localhost:8080/"
        },
        "id": "OwIn5eUs5YG6",
        "outputId": "685b0d47-6fe7-450b-e7e4-e5beee421c53"
      },
      "outputs": [
        {
          "output_type": "execute_result",
          "data": {
            "text/plain": [
              "5"
            ]
          },
          "metadata": {},
          "execution_count": 96
        }
      ],
      "source": [
        "a2d[-2,-3] ## Using negative index"
      ]
    },
    {
      "cell_type": "code",
      "execution_count": null,
      "metadata": {
        "colab": {
          "base_uri": "https://localhost:8080/"
        },
        "id": "SJ6jRclf5YG7",
        "outputId": "32ace661-8fd4-43a3-831e-ba958d7891d7"
      },
      "outputs": [
        {
          "output_type": "execute_result",
          "data": {
            "text/plain": [
              "array([[ 5,  6,  7],\n",
              "       [ 8,  9, 10]])"
            ]
          },
          "metadata": {},
          "execution_count": 97
        }
      ],
      "source": [
        "a2d[-2:,-3:]"
      ]
    },
    {
      "cell_type": "code",
      "execution_count": null,
      "metadata": {
        "colab": {
          "base_uri": "https://localhost:8080/"
        },
        "id": "THcKux4I5YG7",
        "outputId": "9c803efe-f21e-4791-cbd2-0e4e4a768170"
      },
      "outputs": [
        {
          "output_type": "execute_result",
          "data": {
            "text/plain": [
              "array([[1, 2],\n",
              "       [4, 5]])"
            ]
          },
          "metadata": {},
          "execution_count": 98
        }
      ],
      "source": [
        "a2d[:-1,:-2] ### from very beginning to -2 indexed row (i.e -3 and -2 indexed row) and -3,-4 indexed columns are sliced"
      ]
    },
    {
      "cell_type": "code",
      "execution_count": null,
      "metadata": {
        "colab": {
          "base_uri": "https://localhost:8080/"
        },
        "id": "q0QJippO5YG8",
        "outputId": "be56c812-e094-411a-bbc0-ae983ba4249a"
      },
      "outputs": [
        {
          "output_type": "execute_result",
          "data": {
            "text/plain": [
              "array([ 7,  8,  9, 10])"
            ]
          },
          "metadata": {},
          "execution_count": 99
        }
      ],
      "source": [
        "a2d[-1,:] # last(bottom) row and all columns"
      ]
    },
    {
      "cell_type": "code",
      "execution_count": null,
      "metadata": {
        "colab": {
          "base_uri": "https://localhost:8080/"
        },
        "id": "7jEmPNZt5YG8",
        "outputId": "3cc7b3a4-4b14-4bc7-de76-2ed07bd1d3ec"
      },
      "outputs": [
        {
          "output_type": "execute_result",
          "data": {
            "text/plain": [
              "array([ 4,  7, 10])"
            ]
          },
          "metadata": {},
          "execution_count": 100
        }
      ],
      "source": [
        "a2d[:,-1] # All rows and last column(right most columns)"
      ]
    },
    {
      "cell_type": "code",
      "execution_count": null,
      "metadata": {
        "colab": {
          "base_uri": "https://localhost:8080/"
        },
        "id": "0Ep_ofWa5YG9",
        "outputId": "571a548f-f496-4539-a3e4-9b7b810af5ff"
      },
      "outputs": [
        {
          "output_type": "stream",
          "name": "stdout",
          "text": [
            "[[ 1  2  3  4]\n",
            " [ 4  5  6  7]\n",
            " [ 7  8  9 10]]\n"
          ]
        },
        {
          "output_type": "execute_result",
          "data": {
            "text/plain": [
              "array([[1, 2, 3, 4],\n",
              "       [4, 5, 6, 7]])"
            ]
          },
          "metadata": {},
          "execution_count": 101
        }
      ],
      "source": [
        "print(a2d)\n",
        "a2d[:2] ## from very beginning to 1 indexed row, i.e 0 and 1 index row sliced. 2 is not included."
      ]
    },
    {
      "cell_type": "code",
      "execution_count": null,
      "metadata": {
        "colab": {
          "base_uri": "https://localhost:8080/"
        },
        "id": "wARRktQP5YG-",
        "outputId": "4895d7ab-cb62-473b-fcce-81b2d13ff763"
      },
      "outputs": [
        {
          "output_type": "execute_result",
          "data": {
            "text/plain": [
              "array([[3, 4],\n",
              "       [6, 7]])"
            ]
          },
          "metadata": {},
          "execution_count": 102
        }
      ],
      "source": [
        "a2d[:2, 2:] # ( 0 ,1 ) indexed rows and 2 to last indexed columns are sliced."
      ]
    },
    {
      "cell_type": "code",
      "execution_count": null,
      "metadata": {
        "colab": {
          "base_uri": "https://localhost:8080/"
        },
        "id": "mHdhyVt45YG-",
        "outputId": "a5456d78-14fc-43c7-b143-56d4c1d02e20"
      },
      "outputs": [
        {
          "output_type": "execute_result",
          "data": {
            "text/plain": [
              "array([4, 5])"
            ]
          },
          "metadata": {},
          "execution_count": 103
        }
      ],
      "source": [
        "a2d[1, :2] # 1 indexed row and (0,1) indexed columns are sliced ."
      ]
    },
    {
      "cell_type": "code",
      "execution_count": null,
      "metadata": {
        "colab": {
          "base_uri": "https://localhost:8080/"
        },
        "id": "DeIkDgCv5YG_",
        "outputId": "42b48e90-ce3b-4ebc-8e48-6dbc11970119"
      },
      "outputs": [
        {
          "output_type": "execute_result",
          "data": {
            "text/plain": [
              "array([3, 6])"
            ]
          },
          "metadata": {},
          "execution_count": 104
        }
      ],
      "source": [
        "a2d[:2, 2] # Explain yourself?"
      ]
    },
    {
      "cell_type": "code",
      "execution_count": null,
      "metadata": {
        "colab": {
          "base_uri": "https://localhost:8080/"
        },
        "id": "vUnCJzLK5YG_",
        "outputId": "0b458426-572c-424b-fed6-b22015440476"
      },
      "outputs": [
        {
          "output_type": "execute_result",
          "data": {
            "text/plain": [
              "array([[1],\n",
              "       [4],\n",
              "       [7]])"
            ]
          },
          "metadata": {},
          "execution_count": 105
        }
      ],
      "source": [
        "a2d[:, :1] # All rows and 0 column ( from very beginning, but 1 not included i.e. zeroth column ) sliced."
      ]
    },
    {
      "cell_type": "code",
      "execution_count": null,
      "metadata": {
        "colab": {
          "base_uri": "https://localhost:8080/"
        },
        "id": "6ePbyzfz5YHA",
        "outputId": "c35b6114-5213-4b6c-f679-b31f2d589045"
      },
      "outputs": [
        {
          "output_type": "execute_result",
          "data": {
            "text/plain": [
              "array([[ 1,  2,  3,  4],\n",
              "       [ 4,  5,  6,  7],\n",
              "       [ 7,  8,  9, 10]])"
            ]
          },
          "metadata": {},
          "execution_count": 106
        }
      ],
      "source": [
        "a2d"
      ]
    },
    {
      "cell_type": "code",
      "execution_count": null,
      "metadata": {
        "colab": {
          "base_uri": "https://localhost:8080/"
        },
        "id": "kG8B_-kz5YHA",
        "outputId": "990678cc-187b-4129-8b9c-cb7bc49f5dc6"
      },
      "outputs": [
        {
          "output_type": "execute_result",
          "data": {
            "text/plain": [
              "array([[ 1,  0,  0,  0],\n",
              "       [ 4,  0,  0,  0],\n",
              "       [ 7,  8,  9, 10]])"
            ]
          },
          "metadata": {},
          "execution_count": 107
        }
      ],
      "source": [
        "a2d[:2, 1:] = 0 ## This is assignment operation, a2d  itself gets changed.\n",
        "a2d"
      ]
    },
    {
      "cell_type": "markdown",
      "metadata": {
        "id": "8BQtOqxe5YHB"
      },
      "source": [
        "### Matrix Multiplication from scratch\n",
        "* Iterating over  an array"
      ]
    },
    {
      "cell_type": "code",
      "execution_count": null,
      "metadata": {
        "colab": {
          "base_uri": "https://localhost:8080/"
        },
        "id": "JGRjoxKR5YHB",
        "outputId": "ce4a9324-e8a0-46ec-c510-59b0b10898fc"
      },
      "outputs": [
        {
          "output_type": "execute_result",
          "data": {
            "text/plain": [
              "array([[1, 3, 2, 7],\n",
              "       [0, 4, 5, 8]])"
            ]
          },
          "metadata": {},
          "execution_count": 108
        }
      ],
      "source": [
        "x=np.array([[1,3,2,7],[0,4,5,8]])\n",
        "x"
      ]
    },
    {
      "cell_type": "code",
      "execution_count": null,
      "metadata": {
        "colab": {
          "base_uri": "https://localhost:8080/"
        },
        "id": "6wGijsJl5YHC",
        "outputId": "455e3113-51e9-472f-81ac-678b84682014"
      },
      "outputs": [
        {
          "output_type": "stream",
          "name": "stdout",
          "text": [
            "1\n",
            "3\n",
            "2\n",
            "7\n",
            "0\n",
            "4\n",
            "5\n",
            "8\n"
          ]
        }
      ],
      "source": [
        "n1=x.shape[0] ## number of rows\n",
        "n2=x.shape[1] ## number of columns\n",
        "#a=[]\n",
        "for i in range(n1):   #iterating over rows\n",
        "    for j in range(n2):  ## iterating over colums\n",
        "        #a.append(x[i,j])\n",
        "        print(x[i,j])"
      ]
    },
    {
      "cell_type": "code",
      "execution_count": null,
      "metadata": {
        "colab": {
          "base_uri": "https://localhost:8080/"
        },
        "id": "gC7VURSU5YHC",
        "outputId": "7589b3ae-e315-4f1b-933c-73a64cb38537"
      },
      "outputs": [
        {
          "output_type": "stream",
          "name": "stdout",
          "text": [
            "1\n",
            "3\n",
            "2\n",
            "7\n",
            "0\n",
            "4\n",
            "5\n",
            "8\n"
          ]
        }
      ],
      "source": [
        "for i in np.nditer(x):\n",
        "    print(i)"
      ]
    },
    {
      "cell_type": "code",
      "execution_count": null,
      "metadata": {
        "colab": {
          "base_uri": "https://localhost:8080/"
        },
        "id": "TSO36Cpa5YHD",
        "outputId": "0881f85e-5b3a-42bc-ca15-5fa18c2293f7"
      },
      "outputs": [
        {
          "output_type": "stream",
          "name": "stdout",
          "text": [
            "[[1 2 3]\n",
            " [4 1 3]] \n",
            "\n",
            " [[1 3]\n",
            " [2 3]\n",
            " [4 5]]\n"
          ]
        }
      ],
      "source": [
        "a=np.array([[1,2,3],[4,1,3]])\n",
        "b=np.array([[1,3],[2,3],[4,5]])\n",
        "print(a,'\\n\\n',b)"
      ]
    },
    {
      "cell_type": "code",
      "execution_count": null,
      "metadata": {
        "colab": {
          "base_uri": "https://localhost:8080/"
        },
        "id": "dvYWFiJI5YHE",
        "outputId": "2d8b64ea-a0c9-4525-ae74-4e27582df226"
      },
      "outputs": [
        {
          "output_type": "execute_result",
          "data": {
            "text/plain": [
              "array([[17, 24],\n",
              "       [18, 30]])"
            ]
          },
          "metadata": {},
          "execution_count": 112
        }
      ],
      "source": [
        "a.dot(b) ## Matrix Multiplicatin of  a  and b."
      ]
    },
    {
      "cell_type": "code",
      "execution_count": null,
      "metadata": {
        "id": "uAeONX8n5YHH"
      },
      "outputs": [],
      "source": [
        "# Making a Function for matrix Multiplication\n",
        "def matrix_mul(a,b):\n",
        "    n1=a.shape[0] #number of rows of first matirx\n",
        "    n2=a.shape[1] #number of columns of first matirx\n",
        "    n3=b.shape[0] #number of rows of second matirx\n",
        "    n4=b.shape[1] #number of columns of second matirx\n",
        "    if n2==n3:\n",
        "        c=np.zeros((n1,n4))\n",
        "        for i in range(n1):# iterating over rows of first matrix,\n",
        "            for j in range(n4):#iterating over column of second matrix\n",
        "                sum1=0\n",
        "                for k in range(n3):#iterating over rows of second matirx\n",
        "                    sum1=sum1+a[i,k]*b[k,j]\n",
        "                    c[i,j]=sum1\n",
        "        return c\n",
        "    else:\n",
        "        print('Ops! Matrix order mismatch.')"
      ]
    },
    {
      "cell_type": "code",
      "execution_count": null,
      "metadata": {
        "colab": {
          "base_uri": "https://localhost:8080/"
        },
        "id": "FVmvFe6d5YHI",
        "outputId": "c0739175-3b09-4158-8864-6de5550f4ca8"
      },
      "outputs": [
        {
          "output_type": "execute_result",
          "data": {
            "text/plain": [
              "array([[17., 24.],\n",
              "       [18., 30.]])"
            ]
          },
          "metadata": {},
          "execution_count": 114
        }
      ],
      "source": [
        "matrix_mul(a,b) # calling function for calculating matrix multiplication of a and b."
      ]
    },
    {
      "cell_type": "markdown",
      "metadata": {
        "id": "s46M-lMB5YHI"
      },
      "source": [
        "### Concept of 3-D Array"
      ]
    },
    {
      "cell_type": "code",
      "execution_count": null,
      "metadata": {
        "colab": {
          "base_uri": "https://localhost:8080/"
        },
        "id": "SV2EqsP-5YHI",
        "outputId": "881a8397-46fa-4d72-c2b7-4f2c2c408a01"
      },
      "outputs": [
        {
          "output_type": "execute_result",
          "data": {
            "text/plain": [
              "array([[[ 1,  2,  3],\n",
              "        [ 4,  5,  6]],\n",
              "\n",
              "       [[ 7,  8,  9],\n",
              "        [10, 11, 12]]])"
            ]
          },
          "metadata": {},
          "execution_count": 115
        }
      ],
      "source": [
        "a3d = np.array([[[1, 2, 3], [4, 5, 6]], [[7, 8, 9], [10, 11, 12]]])\n",
        "a3d ## Three dimensional array"
      ]
    },
    {
      "cell_type": "markdown",
      "metadata": {
        "id": "8i1xd9X35YHJ"
      },
      "source": [
        "#### Notice in above result there are  two 2-D array each having shape of 2 by 3 stacked one after another.\n",
        "#### Thus in 3-D array, multiple 2-D arrays are stacked one after another.\n",
        "\n",
        "![alt text](https://cdn.iiith.talentsprint.com/aiml/Experiment_related_data/Images/3d_array_concept1.png)"
      ]
    },
    {
      "cell_type": "markdown",
      "metadata": {
        "id": "cDWnH2oR5YHJ"
      },
      "source": [
        "#### Imagine k number of 2D arrays each having i numbers of  rows and j number of columns, stacked one after another. As in figure below:\n",
        "\n",
        "![alt text](https://cdn.iiith.talentsprint.com/aiml/Experiment_related_data/Images/3d_array_concept2.png)\n"
      ]
    },
    {
      "cell_type": "code",
      "execution_count": null,
      "metadata": {
        "colab": {
          "base_uri": "https://localhost:8080/"
        },
        "id": "H_R4bg3-5YHK",
        "outputId": "3472c7c3-33b7-4f32-8ac2-4152f488f510"
      },
      "outputs": [
        {
          "output_type": "execute_result",
          "data": {
            "text/plain": [
              "(2, 2, 3)"
            ]
          },
          "metadata": {},
          "execution_count": 116
        }
      ],
      "source": [
        "a3d.shape ## first element gives number of 2D array and 2nd, 3rd element give number of rows and columns of each 2D array.\n",
        "# In this case two  2D  array each having shape (2,3)."
      ]
    },
    {
      "cell_type": "code",
      "execution_count": null,
      "metadata": {
        "colab": {
          "base_uri": "https://localhost:8080/"
        },
        "id": "OJC6wvMo5YHK",
        "outputId": "e943afe0-b830-4ab7-d766-38f7eee3e55b"
      },
      "outputs": [
        {
          "output_type": "execute_result",
          "data": {
            "text/plain": [
              "12"
            ]
          },
          "metadata": {},
          "execution_count": 117
        }
      ],
      "source": [
        "np.size(a3d) # np.size always gives number of total elements in any array"
      ]
    },
    {
      "cell_type": "code",
      "execution_count": null,
      "metadata": {
        "colab": {
          "base_uri": "https://localhost:8080/"
        },
        "id": "ycpk0yvc5YHK",
        "outputId": "fc898c9e-4e5d-44f2-cd9c-167668aa8694"
      },
      "outputs": [
        {
          "output_type": "execute_result",
          "data": {
            "text/plain": [
              "array([[1, 2, 3],\n",
              "       [4, 5, 6]])"
            ]
          },
          "metadata": {},
          "execution_count": 118
        }
      ],
      "source": [
        "a3d[0] # First 2d Array is zeroth indexed array, that we get after slicing."
      ]
    },
    {
      "cell_type": "code",
      "execution_count": null,
      "metadata": {
        "colab": {
          "base_uri": "https://localhost:8080/"
        },
        "id": "_Iyx7Az55YHL",
        "outputId": "dcc96294-a594-4014-e018-e2eae59e85fb"
      },
      "outputs": [
        {
          "output_type": "execute_result",
          "data": {
            "text/plain": [
              "array([[ 7,  8,  9],\n",
              "       [10, 11, 12]])"
            ]
          },
          "metadata": {},
          "execution_count": 119
        }
      ],
      "source": [
        "a3d[1] #"
      ]
    },
    {
      "cell_type": "code",
      "execution_count": null,
      "metadata": {
        "colab": {
          "base_uri": "https://localhost:8080/"
        },
        "id": "Lmy5l6KX5YHM",
        "outputId": "6314a287-c216-431d-e3e6-e7579667c770"
      },
      "outputs": [
        {
          "output_type": "execute_result",
          "data": {
            "text/plain": [
              "4"
            ]
          },
          "metadata": {},
          "execution_count": 120
        }
      ],
      "source": [
        "a3d[0,1,0] # This gives first indexed row and zeroth indexed column element of zeroth indexed 2D array, i.e. 4."
      ]
    },
    {
      "cell_type": "code",
      "execution_count": null,
      "metadata": {
        "colab": {
          "base_uri": "https://localhost:8080/"
        },
        "id": "vM39GHfz5YHN",
        "outputId": "3c2e657b-dc86-4956-d73e-74d94053ea26"
      },
      "outputs": [
        {
          "output_type": "execute_result",
          "data": {
            "text/plain": [
              "array([7, 8, 9])"
            ]
          },
          "metadata": {},
          "execution_count": 121
        }
      ],
      "source": [
        "a3d[1, 0] ## zeroth row of  1 indexed 2D array gets sliced from a3d."
      ]
    },
    {
      "cell_type": "code",
      "execution_count": null,
      "metadata": {
        "colab": {
          "base_uri": "https://localhost:8080/"
        },
        "id": "bZgD2L7f5YHN",
        "outputId": "4d10ae66-5e6e-4687-d0e8-65e559b1df83"
      },
      "outputs": [
        {
          "output_type": "execute_result",
          "data": {
            "text/plain": [
              "array([7, 8, 9])"
            ]
          },
          "metadata": {},
          "execution_count": 122
        }
      ],
      "source": [
        "x = a3d[1] # This way is also possible\n",
        "x[0]"
      ]
    },
    {
      "cell_type": "markdown",
      "metadata": {
        "id": "X9n0gdzL5YHN"
      },
      "source": [
        "### Boolean Indexing"
      ]
    },
    {
      "cell_type": "code",
      "execution_count": null,
      "metadata": {
        "colab": {
          "base_uri": "https://localhost:8080/"
        },
        "id": "6G3o2_og5YHO",
        "outputId": "e269dc4d-48c6-4c29-dcdc-77db4c620889"
      },
      "outputs": [
        {
          "output_type": "stream",
          "name": "stdout",
          "text": [
            "[[ 1  2  3  4]\n",
            " [ 5  6  7  8]\n",
            " [ 9 10 11 12]\n",
            " [13 14 15 16]\n",
            " [17 18 19 20]\n",
            " [21 22 23 24]\n",
            " [25 26 27 28]] \n",
            "\n",
            "['Mango' 'Apple' 'Banana' 'Mango' 'Banana' 'Apple' 'Apple']\n"
          ]
        }
      ],
      "source": [
        "names = np.array(['Mango', 'Apple', 'Banana', 'Mango', 'Banana', 'Apple', 'Apple'])\n",
        "data = np.arange(1,29).reshape(7,4)\n",
        "print(data,'\\n')\n",
        "print(names)"
      ]
    },
    {
      "cell_type": "code",
      "execution_count": null,
      "metadata": {
        "colab": {
          "base_uri": "https://localhost:8080/"
        },
        "id": "h3aEe4TO5YHO",
        "outputId": "4688e746-3bc7-4387-a450-e5d24e0b173a"
      },
      "outputs": [
        {
          "output_type": "execute_result",
          "data": {
            "text/plain": [
              "array([False,  True, False, False, False,  True,  True])"
            ]
          },
          "metadata": {},
          "execution_count": 124
        }
      ],
      "source": [
        "names == 'Apple'"
      ]
    },
    {
      "cell_type": "code",
      "execution_count": null,
      "metadata": {
        "colab": {
          "base_uri": "https://localhost:8080/"
        },
        "id": "Xjf_1-yp5YHP",
        "outputId": "0758fb38-9685-4a90-864d-8914691134d7"
      },
      "outputs": [
        {
          "output_type": "execute_result",
          "data": {
            "text/plain": [
              "array([[ 5,  6,  7,  8],\n",
              "       [21, 22, 23, 24],\n",
              "       [25, 26, 27, 28]])"
            ]
          },
          "metadata": {},
          "execution_count": 125
        }
      ],
      "source": [
        "data[names == 'Apple']"
      ]
    },
    {
      "cell_type": "code",
      "execution_count": null,
      "metadata": {
        "colab": {
          "base_uri": "https://localhost:8080/"
        },
        "id": "QZxC08BG5YHP",
        "outputId": "8429f977-23df-44e0-dbdd-71f11ffb46fb"
      },
      "outputs": [
        {
          "output_type": "execute_result",
          "data": {
            "text/plain": [
              "array([ 8, 24, 28])"
            ]
          },
          "metadata": {},
          "execution_count": 126
        }
      ],
      "source": [
        "data[names == 'Apple', 2:]\n",
        "data[names == 'Apple', 3]"
      ]
    },
    {
      "cell_type": "code",
      "execution_count": null,
      "metadata": {
        "colab": {
          "base_uri": "https://localhost:8080/"
        },
        "id": "YwWcEw435YHQ",
        "outputId": "8350743a-004f-4124-e2f9-5a1826715320"
      },
      "outputs": [
        {
          "output_type": "execute_result",
          "data": {
            "text/plain": [
              "array([[ 1,  2,  3,  4],\n",
              "       [ 9, 10, 11, 12],\n",
              "       [13, 14, 15, 16],\n",
              "       [17, 18, 19, 20]])"
            ]
          },
          "metadata": {},
          "execution_count": 127
        }
      ],
      "source": [
        "#names != 'Apple'\n",
        "data[~(names == 'Apple')]"
      ]
    },
    {
      "cell_type": "code",
      "execution_count": null,
      "metadata": {
        "colab": {
          "base_uri": "https://localhost:8080/"
        },
        "id": "vHzfCYgc5YHQ",
        "outputId": "7345a77f-f2f3-4355-c2ab-0cfa69c6c415"
      },
      "outputs": [
        {
          "output_type": "execute_result",
          "data": {
            "text/plain": [
              "array([[ 1,  2,  3,  4],\n",
              "       [ 9, 10, 11, 12],\n",
              "       [13, 14, 15, 16],\n",
              "       [17, 18, 19, 20]])"
            ]
          },
          "metadata": {},
          "execution_count": 128
        }
      ],
      "source": [
        "cond = names == 'Apple'\n",
        "data[~cond]"
      ]
    },
    {
      "cell_type": "code",
      "execution_count": null,
      "metadata": {
        "colab": {
          "base_uri": "https://localhost:8080/"
        },
        "id": "umP-Udd65YHR",
        "outputId": "a22e2794-cfbc-428b-c8d8-ce6e09917cb7"
      },
      "outputs": [
        {
          "output_type": "execute_result",
          "data": {
            "text/plain": [
              "array([[ 1,  2,  3,  4],\n",
              "       [ 5,  6,  7,  8],\n",
              "       [13, 14, 15, 16],\n",
              "       [21, 22, 23, 24],\n",
              "       [25, 26, 27, 28]])"
            ]
          },
          "metadata": {},
          "execution_count": 129
        }
      ],
      "source": [
        "cond1 = (names == 'Apple') | (names == 'Mango') ## '|'--> OR operator\n",
        "cond1\n",
        "data[cond1]"
      ]
    },
    {
      "cell_type": "code",
      "execution_count": null,
      "metadata": {
        "colab": {
          "base_uri": "https://localhost:8080/"
        },
        "id": "ZVHMUxJq5YHR",
        "outputId": "a0fcf1f4-f185-46cf-e664-269887e549cb"
      },
      "outputs": [
        {
          "output_type": "execute_result",
          "data": {
            "text/plain": [
              "array([], shape=(0, 4), dtype=int64)"
            ]
          },
          "metadata": {},
          "execution_count": 130
        }
      ],
      "source": [
        "mask = (names == 'Apple') & (names == 'Mango') # '&' --> AND operator\n",
        "data[mask] ## Explaing why the result is empty array."
      ]
    },
    {
      "cell_type": "code",
      "execution_count": null,
      "metadata": {
        "colab": {
          "base_uri": "https://localhost:8080/"
        },
        "id": "sPyV-g4W5YHa",
        "outputId": "5315d2d5-bf35-4dcf-83c2-4bfbaedc6841"
      },
      "outputs": [
        {
          "output_type": "execute_result",
          "data": {
            "text/plain": [
              "array([[ 0,  0,  0,  0],\n",
              "       [ 0,  0,  0,  0],\n",
              "       [ 0,  0,  0,  0],\n",
              "       [13, 14, 15, 16],\n",
              "       [17, 18, 19, 20],\n",
              "       [21, 22, 23, 24],\n",
              "       [25, 26, 27, 28]])"
            ]
          },
          "metadata": {},
          "execution_count": 131
        }
      ],
      "source": [
        "data[data < 13] = 0\n",
        "data"
      ]
    },
    {
      "cell_type": "code",
      "execution_count": null,
      "metadata": {
        "colab": {
          "base_uri": "https://localhost:8080/"
        },
        "id": "Qbn7Dn975YHa",
        "outputId": "1654ab9e-f058-4241-faf5-64ab52abb980"
      },
      "outputs": [
        {
          "output_type": "execute_result",
          "data": {
            "text/plain": [
              "array([[ 0,  0,  0,  0],\n",
              "       [ 7,  7,  7,  7],\n",
              "       [ 7,  7,  7,  7],\n",
              "       [13, 14, 15, 16],\n",
              "       [ 7,  7,  7,  7],\n",
              "       [ 7,  7,  7,  7],\n",
              "       [ 7,  7,  7,  7]])"
            ]
          },
          "metadata": {},
          "execution_count": 132
        }
      ],
      "source": [
        "data[names != 'Mango'] = 7\n",
        "data"
      ]
    },
    {
      "cell_type": "markdown",
      "metadata": {
        "id": "1-EK5_ac5YHb"
      },
      "source": [
        "### Fancy Indexing"
      ]
    },
    {
      "cell_type": "code",
      "execution_count": null,
      "metadata": {
        "colab": {
          "base_uri": "https://localhost:8080/"
        },
        "id": "RW3kf0r55YHc",
        "outputId": "79cfafa2-5e07-4b2f-b577-d9a37302b5db"
      },
      "outputs": [
        {
          "output_type": "execute_result",
          "data": {
            "text/plain": [
              "array([[0., 0., 0., 0.],\n",
              "       [1., 1., 1., 1.],\n",
              "       [2., 2., 2., 2.],\n",
              "       [3., 3., 3., 3.],\n",
              "       [4., 4., 4., 4.],\n",
              "       [5., 5., 5., 5.],\n",
              "       [6., 6., 6., 6.],\n",
              "       [7., 7., 7., 7.]])"
            ]
          },
          "metadata": {},
          "execution_count": 133
        }
      ],
      "source": [
        "a1 = np.empty((8, 4))\n",
        "for i in range(8):\n",
        "    a1[i] = i\n",
        "a1"
      ]
    },
    {
      "cell_type": "code",
      "execution_count": null,
      "metadata": {
        "colab": {
          "base_uri": "https://localhost:8080/"
        },
        "id": "Ioyb3Pdy5YHd",
        "outputId": "c038e931-f430-4f8a-9a85-63e581e77135"
      },
      "outputs": [
        {
          "output_type": "execute_result",
          "data": {
            "text/plain": [
              "array([[4., 4., 4., 4.],\n",
              "       [3., 3., 3., 3.],\n",
              "       [0., 0., 0., 0.],\n",
              "       [6., 6., 6., 6.]])"
            ]
          },
          "metadata": {},
          "execution_count": 134
        }
      ],
      "source": [
        "a1[[4, 3, 0, 6]] # This will slice corresponding rows"
      ]
    },
    {
      "cell_type": "code",
      "execution_count": null,
      "metadata": {
        "colab": {
          "base_uri": "https://localhost:8080/"
        },
        "id": "oXRMUk5Z5YHd",
        "outputId": "306a12d4-bf5b-4d4c-ab0c-aae397ee5ae8"
      },
      "outputs": [
        {
          "output_type": "execute_result",
          "data": {
            "text/plain": [
              "array([[5., 5., 5., 5.],\n",
              "       [3., 3., 3., 3.],\n",
              "       [1., 1., 1., 1.]])"
            ]
          },
          "metadata": {},
          "execution_count": 135
        }
      ],
      "source": [
        "a1[[-3, -5, -7]]"
      ]
    },
    {
      "cell_type": "code",
      "execution_count": null,
      "metadata": {
        "colab": {
          "base_uri": "https://localhost:8080/"
        },
        "id": "PJPs0mrH5YHe",
        "outputId": "468a6025-432a-4ada-94c0-8d61c72790c9"
      },
      "outputs": [
        {
          "output_type": "execute_result",
          "data": {
            "text/plain": [
              "array([[ 0,  1,  2,  3],\n",
              "       [ 4,  5,  6,  7],\n",
              "       [ 8,  9, 10, 11],\n",
              "       [12, 13, 14, 15],\n",
              "       [16, 17, 18, 19],\n",
              "       [20, 21, 22, 23],\n",
              "       [24, 25, 26, 27],\n",
              "       [28, 29, 30, 31]])"
            ]
          },
          "metadata": {},
          "execution_count": 136
        }
      ],
      "source": [
        "a2 = np.arange(32).reshape((8, 4))\n",
        "a2\n",
        "#a2[[1, 5, 7, 2], [0, 3, 1, 2]]"
      ]
    },
    {
      "cell_type": "code",
      "execution_count": null,
      "metadata": {
        "colab": {
          "base_uri": "https://localhost:8080/"
        },
        "id": "DwZjgAWJ5YHe",
        "outputId": "28b1370a-aa7d-433b-e986-b78bd176a93c"
      },
      "outputs": [
        {
          "output_type": "execute_result",
          "data": {
            "text/plain": [
              "array([ 4, 23, 29, 10])"
            ]
          },
          "metadata": {},
          "execution_count": 137
        }
      ],
      "source": [
        "a2[[1, 5, 7, 2], [0, 3, 1, 2]]"
      ]
    },
    {
      "cell_type": "code",
      "execution_count": null,
      "metadata": {
        "colab": {
          "base_uri": "https://localhost:8080/"
        },
        "id": "Quxmf_qU5YHf",
        "outputId": "9dcee5ff-eaf5-41ec-e9ed-4689c791046d"
      },
      "outputs": [
        {
          "output_type": "execute_result",
          "data": {
            "text/plain": [
              "array([ 4, 23])"
            ]
          },
          "metadata": {},
          "execution_count": 138
        }
      ],
      "source": [
        "a2[[1, 5], [0, 3]]"
      ]
    },
    {
      "cell_type": "code",
      "execution_count": null,
      "metadata": {
        "colab": {
          "base_uri": "https://localhost:8080/"
        },
        "id": "y4eObsQ55YHf",
        "outputId": "4cc59390-9bca-4e0c-e1db-cb98df3ff8e4"
      },
      "outputs": [
        {
          "output_type": "execute_result",
          "data": {
            "text/plain": [
              "array([ 4, 23, 29, 10])"
            ]
          },
          "metadata": {},
          "execution_count": 139
        }
      ],
      "source": [
        "a2[[1, 5, 7, 2], [0, 3, 1, 2]]"
      ]
    },
    {
      "cell_type": "code",
      "execution_count": null,
      "metadata": {
        "colab": {
          "base_uri": "https://localhost:8080/"
        },
        "id": "iRFzOI585YHg",
        "outputId": "0be122d0-46c1-4a6f-d7d5-c1259ad53e21"
      },
      "outputs": [
        {
          "output_type": "execute_result",
          "data": {
            "text/plain": [
              "array([[ 4,  7,  5,  6],\n",
              "       [20, 23, 21, 22],\n",
              "       [28, 31, 29, 30],\n",
              "       [ 8, 11,  9, 10]])"
            ]
          },
          "metadata": {},
          "execution_count": 140
        }
      ],
      "source": [
        "a2[[1, 5, 7, 2]][:, [0, 3, 1, 2]]# first extracting the rows and then resuffling the column of that extracted matrix"
      ]
    },
    {
      "cell_type": "code",
      "execution_count": null,
      "metadata": {
        "colab": {
          "base_uri": "https://localhost:8080/"
        },
        "id": "m1OuLSvc5YHg",
        "outputId": "04857119-d1fa-4984-b411-b8d70bc361be"
      },
      "outputs": [
        {
          "output_type": "execute_result",
          "data": {
            "text/plain": [
              "array([[ 4,  5,  6,  7],\n",
              "       [20, 21, 22, 23],\n",
              "       [28, 29, 30, 31],\n",
              "       [ 8,  9, 10, 11]])"
            ]
          },
          "metadata": {},
          "execution_count": 141
        }
      ],
      "source": [
        "a2[[1, 5, 7, 2]]"
      ]
    },
    {
      "cell_type": "code",
      "execution_count": null,
      "metadata": {
        "colab": {
          "base_uri": "https://localhost:8080/"
        },
        "id": "HLQoM76R5YHh",
        "outputId": "20f5b50d-a85d-4e0a-b961-55f1800c54f1"
      },
      "outputs": [
        {
          "output_type": "execute_result",
          "data": {
            "text/plain": [
              "array([[ 0,  1,  2,  3],\n",
              "       [ 4,  5,  6,  7],\n",
              "       [ 8,  9, 10, 11],\n",
              "       [12, 13, 14, 15],\n",
              "       [16, 17, 18, 19],\n",
              "       [20, 21, 22, 23],\n",
              "       [24, 25, 26, 27],\n",
              "       [28, 29, 30, 31]])"
            ]
          },
          "metadata": {},
          "execution_count": 142
        }
      ],
      "source": [
        "a2"
      ]
    },
    {
      "cell_type": "code",
      "execution_count": null,
      "metadata": {
        "colab": {
          "base_uri": "https://localhost:8080/"
        },
        "id": "FLZdPxTw5YHh",
        "outputId": "c07cdf2a-2882-4569-d4ec-517a4b9aa25e"
      },
      "outputs": [
        {
          "output_type": "execute_result",
          "data": {
            "text/plain": [
              "array([[ 4,  5,  6,  7],\n",
              "       [20, 21, 22, 23],\n",
              "       [28, 29, 30, 31],\n",
              "       [ 8,  9, 10, 11]])"
            ]
          },
          "metadata": {},
          "execution_count": 143
        }
      ],
      "source": [
        "a2[[1, 5, 7, 2]]"
      ]
    },
    {
      "cell_type": "markdown",
      "metadata": {
        "id": "frn_x3ek5YHh"
      },
      "source": [
        "## Universal Function : Element-Wise Array Operation"
      ]
    },
    {
      "cell_type": "code",
      "execution_count": null,
      "metadata": {
        "colab": {
          "base_uri": "https://localhost:8080/"
        },
        "id": "FnH_0EYt5YHi",
        "outputId": "cdfa2fe8-211b-41b1-a109-003bf3fc4b09"
      },
      "outputs": [
        {
          "output_type": "execute_result",
          "data": {
            "text/plain": [
              "array([0, 1, 2, 3, 4, 5, 6, 7, 8, 9])"
            ]
          },
          "metadata": {},
          "execution_count": 144
        }
      ],
      "source": [
        "a5 = np.arange(10)\n",
        "a5"
      ]
    },
    {
      "cell_type": "code",
      "execution_count": null,
      "metadata": {
        "colab": {
          "base_uri": "https://localhost:8080/"
        },
        "id": "-62cU-1X5YHi",
        "outputId": "3168adac-a2d8-4278-e3d3-9c6624cfe78a"
      },
      "outputs": [
        {
          "output_type": "execute_result",
          "data": {
            "text/plain": [
              "array([ 0,  1,  4,  9, 16, 25, 36, 49, 64, 81])"
            ]
          },
          "metadata": {},
          "execution_count": 145
        }
      ],
      "source": [
        "np.power(a5,2) ## It calcualtes square of each element and array of same shape as original is obtained."
      ]
    },
    {
      "cell_type": "code",
      "execution_count": null,
      "metadata": {
        "colab": {
          "base_uri": "https://localhost:8080/"
        },
        "id": "1diMuUw75YHj",
        "outputId": "b7237390-bcf7-4463-a28f-e552f5f847d2"
      },
      "outputs": [
        {
          "output_type": "execute_result",
          "data": {
            "text/plain": [
              "array([0.        , 1.        , 1.41421356, 1.73205081, 2.        ,\n",
              "       2.23606798, 2.44948974, 2.64575131, 2.82842712, 3.        ])"
            ]
          },
          "metadata": {},
          "execution_count": 146
        }
      ],
      "source": [
        "np.sqrt(a5) #np.sqrt(a5)# square root"
      ]
    },
    {
      "cell_type": "code",
      "execution_count": null,
      "metadata": {
        "colab": {
          "base_uri": "https://localhost:8080/"
        },
        "id": "StHg30mO5YHj",
        "outputId": "a2b35629-225b-4123-b225-8e5c0726da5a"
      },
      "outputs": [
        {
          "output_type": "execute_result",
          "data": {
            "text/plain": [
              "array([1.00000000e+00, 2.71828183e+00, 7.38905610e+00, 2.00855369e+01,\n",
              "       5.45981500e+01, 1.48413159e+02, 4.03428793e+02, 1.09663316e+03,\n",
              "       2.98095799e+03, 8.10308393e+03])"
            ]
          },
          "metadata": {},
          "execution_count": 147
        }
      ],
      "source": [
        "np.exp(a5) #np.exp(a5) # Exponential"
      ]
    },
    {
      "cell_type": "markdown",
      "metadata": {
        "id": "axLU-Akp5YHk"
      },
      "source": [
        "###### Note : In all above three operation, we are able to operate on each element of an array in one shot. This is fast and called universal function, which  is element-wise opeation."
      ]
    },
    {
      "cell_type": "code",
      "execution_count": null,
      "metadata": {
        "colab": {
          "base_uri": "https://localhost:8080/"
        },
        "id": "XfEIvf8t5YHk",
        "outputId": "4d3b4e1f-565f-428f-db47-496832992baa"
      },
      "outputs": [
        {
          "output_type": "stream",
          "name": "stdout",
          "text": [
            "[0.   1.25 2.5  3.75 5.   6.25 7.5  8.75]\n",
            "[0 1 2 3 4 5 6 7]\n"
          ]
        },
        {
          "output_type": "execute_result",
          "data": {
            "text/plain": [
              "array([0.  , 1.25, 2.5 , 3.75, 5.  , 6.25, 7.5 , 8.75])"
            ]
          },
          "metadata": {},
          "execution_count": 148
        }
      ],
      "source": [
        "x = np.arange(8)*1.25\n",
        "y = np.arange(8)\n",
        "print(x)\n",
        "print(y)\n",
        "np.maximum(x, y)# minimum"
      ]
    },
    {
      "cell_type": "code",
      "execution_count": null,
      "metadata": {
        "colab": {
          "base_uri": "https://localhost:8080/"
        },
        "id": "QtSUykTs5YHl",
        "outputId": "f10acb1b-e0bb-4671-8092-2118f5f1dc66"
      },
      "outputs": [
        {
          "output_type": "execute_result",
          "data": {
            "text/plain": [
              "array([0.  , 1.25, 2.5 , 3.75, 5.  , 6.25, 7.5 , 8.75])"
            ]
          },
          "metadata": {},
          "execution_count": 149
        }
      ],
      "source": [
        "x"
      ]
    },
    {
      "cell_type": "code",
      "execution_count": null,
      "metadata": {
        "id": "IFcP9LNl5YHl"
      },
      "outputs": [],
      "source": [
        "a,b=np.modf(x) ### first variable gives after decimal values"
      ]
    },
    {
      "cell_type": "code",
      "execution_count": null,
      "metadata": {
        "colab": {
          "base_uri": "https://localhost:8080/"
        },
        "id": "NeRoq65q5YHm",
        "outputId": "b4f3c3e6-506f-42ca-cef7-3c29aa3c6169"
      },
      "outputs": [
        {
          "output_type": "execute_result",
          "data": {
            "text/plain": [
              "array([0.  , 0.25, 0.5 , 0.75, 0.  , 0.25, 0.5 , 0.75])"
            ]
          },
          "metadata": {},
          "execution_count": 151
        }
      ],
      "source": [
        "a"
      ]
    },
    {
      "cell_type": "code",
      "execution_count": null,
      "metadata": {
        "colab": {
          "base_uri": "https://localhost:8080/"
        },
        "id": "xGjhPikB5YHn",
        "outputId": "703c153c-275c-495c-e614-2250477a6c96"
      },
      "outputs": [
        {
          "output_type": "execute_result",
          "data": {
            "text/plain": [
              "array([0., 1., 2., 3., 5., 6., 7., 8.])"
            ]
          },
          "metadata": {},
          "execution_count": 152
        }
      ],
      "source": [
        "b"
      ]
    },
    {
      "cell_type": "code",
      "execution_count": null,
      "metadata": {
        "colab": {
          "base_uri": "https://localhost:8080/"
        },
        "id": "Sdoa5Vbb5YHn",
        "outputId": "781cb56d-30e4-428a-a7a7-f1f7ed2c4663"
      },
      "outputs": [
        {
          "output_type": "execute_result",
          "data": {
            "text/plain": [
              "array([0, 1, 2, 3, 4, 5, 6, 7])"
            ]
          },
          "metadata": {},
          "execution_count": 153
        }
      ],
      "source": [
        "y"
      ]
    },
    {
      "cell_type": "code",
      "execution_count": null,
      "metadata": {
        "colab": {
          "base_uri": "https://localhost:8080/"
        },
        "id": "WgHMOtRu5YHo",
        "outputId": "04d15edf-6ed4-4dc5-cfb8-ad1ec38c4f50"
      },
      "outputs": [
        {
          "output_type": "execute_result",
          "data": {
            "text/plain": [
              "8.75"
            ]
          },
          "metadata": {},
          "execution_count": 154
        }
      ],
      "source": [
        "np.max((x,y)) # gives maximum of all element from both x and y"
      ]
    },
    {
      "cell_type": "code",
      "execution_count": null,
      "metadata": {
        "colab": {
          "base_uri": "https://localhost:8080/"
        },
        "id": "W52zR8tv5YHo",
        "outputId": "0bc356b8-520e-4b61-aa78-2e07150c2519"
      },
      "outputs": [
        {
          "output_type": "execute_result",
          "data": {
            "text/plain": [
              "array([ 4.25282681, -6.69650848,  5.94149742,  0.25284681, -0.96748094,\n",
              "        5.397491  ,  9.87168739])"
            ]
          },
          "metadata": {},
          "execution_count": 155
        }
      ],
      "source": [
        "a6 = np.random.randn(7) * 5\n",
        "a6\n",
        "#remainder, whole_part = np.modf(arr)\n",
        "#remainder\n",
        "#whole_part"
      ]
    },
    {
      "cell_type": "code",
      "execution_count": null,
      "metadata": {
        "colab": {
          "base_uri": "https://localhost:8080/"
        },
        "id": "lTTbQVb95YHp",
        "outputId": "115ee97a-840c-49f1-d12e-f5bccc848ae0"
      },
      "outputs": [
        {
          "output_type": "execute_result",
          "data": {
            "text/plain": [
              "array([ 0.25282681, -0.69650848,  0.94149742,  0.25284681, -0.96748094,\n",
              "        0.397491  ,  0.87168739])"
            ]
          },
          "metadata": {},
          "execution_count": 156
        }
      ],
      "source": [
        "remainder, whole_part = np.modf(a6)\n",
        "remainder"
      ]
    },
    {
      "cell_type": "code",
      "execution_count": null,
      "metadata": {
        "colab": {
          "base_uri": "https://localhost:8080/"
        },
        "id": "Fv6O8MkX5YHp",
        "outputId": "6b1958ef-f5fd-47e0-f735-7620898f9f9b"
      },
      "outputs": [
        {
          "output_type": "execute_result",
          "data": {
            "text/plain": [
              "array([ 4., -6.,  5.,  0., -0.,  5.,  9.])"
            ]
          },
          "metadata": {},
          "execution_count": 157
        }
      ],
      "source": [
        "whole_part"
      ]
    },
    {
      "cell_type": "markdown",
      "metadata": {
        "id": "Vs4s7pZE5YHq"
      },
      "source": [
        "##### Many other universal functions are there. Try on your own.\n",
        "![alt text](https://cdn.iiith.talentsprint.com/aiml/Experiment_related_data/Images/Uni_func.png)"
      ]
    },
    {
      "cell_type": "markdown",
      "metadata": {
        "id": "9b-6roEU5YHq"
      },
      "source": [
        "### Array-Oriented operations with Arrays\n",
        "* meshgrid"
      ]
    },
    {
      "cell_type": "code",
      "execution_count": null,
      "metadata": {
        "colab": {
          "base_uri": "https://localhost:8080/"
        },
        "id": "VIkr2ZX_5YHr",
        "outputId": "d268bbbb-9084-4270-918a-6e384fdb89c8"
      },
      "outputs": [
        {
          "output_type": "stream",
          "name": "stdout",
          "text": [
            "[-3. -2. -1.  0.  1.  2.  3.] \n",
            "\n",
            "[-3. -2. -1.  0.  1.  2.  3.] \n",
            "\n"
          ]
        }
      ],
      "source": [
        "x=np.linspace(-3,3,7)\n",
        "y=np.linspace(-3,3,7)\n",
        "print(x,'\\n')\n",
        "print(y,'\\n')"
      ]
    },
    {
      "cell_type": "markdown",
      "metadata": {
        "id": "J5y1oRWl5YHr"
      },
      "source": [
        "#### np.meshgrid\n",
        "* It is a function which generates x and y co-ordinates  of all possible points on graph paper composed by given x and y axis values. In this case x and y both have 7/7 values from -3 to 3 so there are 7X7=49 data points on  graph paper thus meshgrid generate 49 x-cordinate and 49 y-conrdinate of each 49 data points as  given below.\n",
        "\n",
        "![alt text](https://cdn.iiith.talentsprint.com/aiml/Experiment_related_data/Images/meshgrid.png)\n",
        "\n",
        "\n",
        "#####  Now check this code below."
      ]
    },
    {
      "cell_type": "code",
      "execution_count": null,
      "metadata": {
        "colab": {
          "base_uri": "https://localhost:8080/"
        },
        "id": "_x1hCtBd5YHr",
        "outputId": "1f74a563-b229-4600-b834-0a842e144c36"
      },
      "outputs": [
        {
          "output_type": "stream",
          "name": "stdout",
          "text": [
            "[[-3. -2. -1.  0.  1.  2.  3.]\n",
            " [-3. -2. -1.  0.  1.  2.  3.]\n",
            " [-3. -2. -1.  0.  1.  2.  3.]\n",
            " [-3. -2. -1.  0.  1.  2.  3.]\n",
            " [-3. -2. -1.  0.  1.  2.  3.]\n",
            " [-3. -2. -1.  0.  1.  2.  3.]\n",
            " [-3. -2. -1.  0.  1.  2.  3.]] \n",
            "\n",
            "[[-3. -3. -3. -3. -3. -3. -3.]\n",
            " [-2. -2. -2. -2. -2. -2. -2.]\n",
            " [-1. -1. -1. -1. -1. -1. -1.]\n",
            " [ 0.  0.  0.  0.  0.  0.  0.]\n",
            " [ 1.  1.  1.  1.  1.  1.  1.]\n",
            " [ 2.  2.  2.  2.  2.  2.  2.]\n",
            " [ 3.  3.  3.  3.  3.  3.  3.]]\n"
          ]
        }
      ],
      "source": [
        "xs,ys = np.meshgrid(x, y)\n",
        "print(xs,'\\n')\n",
        "print(ys)"
      ]
    },
    {
      "cell_type": "code",
      "execution_count": null,
      "metadata": {
        "colab": {
          "base_uri": "https://localhost:8080/"
        },
        "id": "-K7V9tKk5YHs",
        "outputId": "c36fdf83-efc4-4e1e-86b3-f34ed683352c"
      },
      "outputs": [
        {
          "output_type": "execute_result",
          "data": {
            "text/plain": [
              "(7, 7)"
            ]
          },
          "metadata": {},
          "execution_count": 160
        }
      ],
      "source": [
        "xs.shape"
      ]
    },
    {
      "cell_type": "code",
      "execution_count": null,
      "metadata": {
        "colab": {
          "base_uri": "https://localhost:8080/"
        },
        "id": "vbbabzmI5YHs",
        "outputId": "3a182dbd-e60d-42b7-f6bd-8df1dfed73ec"
      },
      "outputs": [
        {
          "output_type": "execute_result",
          "data": {
            "text/plain": [
              "(7, 7)"
            ]
          },
          "metadata": {},
          "execution_count": 161
        }
      ],
      "source": [
        "ys.shape"
      ]
    },
    {
      "cell_type": "code",
      "execution_count": null,
      "metadata": {
        "colab": {
          "base_uri": "https://localhost:8080/"
        },
        "id": "6NhA7VZh5YHt",
        "outputId": "1b3e8184-1af3-4475-ec1e-2ffb64663523"
      },
      "outputs": [
        {
          "output_type": "execute_result",
          "data": {
            "text/plain": [
              "array([-3., -2., -1.,  0.,  1.,  2.,  3., -3., -2., -1.,  0.,  1.,  2.,\n",
              "        3., -3., -2., -1.,  0.,  1.,  2.,  3., -3., -2., -1.,  0.,  1.,\n",
              "        2.,  3., -3., -2., -1.,  0.,  1.,  2.,  3., -3., -2., -1.,  0.,\n",
              "        1.,  2.,  3., -3., -2., -1.,  0.,  1.,  2.,  3.])"
            ]
          },
          "metadata": {},
          "execution_count": 162
        }
      ],
      "source": [
        "x1=xs.ravel() # Convert 2D into 1D\n",
        "x1"
      ]
    },
    {
      "cell_type": "code",
      "execution_count": null,
      "metadata": {
        "colab": {
          "base_uri": "https://localhost:8080/"
        },
        "id": "AT_LOdHF5YHt",
        "outputId": "35a8a32c-3a54-40d4-864f-8e293fa1f6ff"
      },
      "outputs": [
        {
          "output_type": "execute_result",
          "data": {
            "text/plain": [
              "array([-3., -3., -3., -3., -3., -3., -3., -2., -2., -2., -2., -2., -2.,\n",
              "       -2., -1., -1., -1., -1., -1., -1., -1.,  0.,  0.,  0.,  0.,  0.,\n",
              "        0.,  0.,  1.,  1.,  1.,  1.,  1.,  1.,  1.,  2.,  2.,  2.,  2.,\n",
              "        2.,  2.,  2.,  3.,  3.,  3.,  3.,  3.,  3.,  3.])"
            ]
          },
          "metadata": {},
          "execution_count": 163
        }
      ],
      "source": [
        "y1=ys.ravel() # Convert 2D into 1D\n",
        "y1"
      ]
    },
    {
      "cell_type": "code",
      "execution_count": null,
      "metadata": {
        "colab": {
          "base_uri": "https://localhost:8080/",
          "height": 265
        },
        "id": "19MswvDo5YHu",
        "outputId": "77764500-1081-467c-cd99-871f46887d87"
      },
      "outputs": [
        {
          "output_type": "display_data",
          "data": {
            "text/plain": [
              "<Figure size 432x288 with 1 Axes>"
            ],
            "image/png": "[encoded data removed]"
          },
          "metadata": {
            "needs_background": "light"
          }
        }
      ],
      "source": [
        "import matplotlib.pyplot as plt ## Importing matplotlib library for plotting\n",
        "plt.plot(x1,y1,'ro') # For plotting data points we have to pass x and y coordinates of each point as seperate 1D array or list.\n",
        "# 'r'-->for red color and alphabet'o'--> for dot representing each point.\n",
        "plt.grid(True) # It make graph paper like grid when True is passed.\n",
        "plt.axhline() # Plot horizontal line at y=0, i.e. x-asis.\n",
        "plt.axvline() # Plot vertical line at x=0, i.e. y-axis.\n",
        "plt.show()"
      ]
    },
    {
      "cell_type": "code",
      "execution_count": null,
      "metadata": {
        "colab": {
          "base_uri": "https://localhost:8080/"
        },
        "id": "orw6r5nS5YHu",
        "outputId": "2badff33-328b-474f-96a5-264b31cc8751"
      },
      "outputs": [
        {
          "output_type": "execute_result",
          "data": {
            "text/plain": [
              "array([[-3., -3.],\n",
              "       [-2., -3.],\n",
              "       [-1., -3.],\n",
              "       [ 0., -3.],\n",
              "       [ 1., -3.],\n",
              "       [ 2., -3.],\n",
              "       [ 3., -3.],\n",
              "       [-3., -2.],\n",
              "       [-2., -2.],\n",
              "       [-1., -2.],\n",
              "       [ 0., -2.],\n",
              "       [ 1., -2.],\n",
              "       [ 2., -2.],\n",
              "       [ 3., -2.],\n",
              "       [-3., -1.],\n",
              "       [-2., -1.],\n",
              "       [-1., -1.],\n",
              "       [ 0., -1.],\n",
              "       [ 1., -1.],\n",
              "       [ 2., -1.],\n",
              "       [ 3., -1.],\n",
              "       [-3.,  0.],\n",
              "       [-2.,  0.],\n",
              "       [-1.,  0.],\n",
              "       [ 0.,  0.],\n",
              "       [ 1.,  0.],\n",
              "       [ 2.,  0.],\n",
              "       [ 3.,  0.],\n",
              "       [-3.,  1.],\n",
              "       [-2.,  1.],\n",
              "       [-1.,  1.],\n",
              "       [ 0.,  1.],\n",
              "       [ 1.,  1.],\n",
              "       [ 2.,  1.],\n",
              "       [ 3.,  1.],\n",
              "       [-3.,  2.],\n",
              "       [-2.,  2.],\n",
              "       [-1.,  2.],\n",
              "       [ 0.,  2.],\n",
              "       [ 1.,  2.],\n",
              "       [ 2.,  2.],\n",
              "       [ 3.,  2.],\n",
              "       [-3.,  3.],\n",
              "       [-2.,  3.],\n",
              "       [-1.,  3.],\n",
              "       [ 0.,  3.],\n",
              "       [ 1.,  3.],\n",
              "       [ 2.,  3.],\n",
              "       [ 3.,  3.]])"
            ]
          },
          "metadata": {},
          "execution_count": 165
        }
      ],
      "source": [
        "Each_points=np.c_[x1,y1] ## check youself, what np.c_ is doing here.\n",
        "Each_points"
      ]
    },
    {
      "cell_type": "code",
      "execution_count": null,
      "metadata": {
        "colab": {
          "base_uri": "https://localhost:8080/"
        },
        "id": "_rrgDhny5YHv",
        "outputId": "4d6fe263-f34f-4257-f356-46406c822e52"
      },
      "outputs": [
        {
          "output_type": "execute_result",
          "data": {
            "text/plain": [
              "array([[-3., -3.],\n",
              "       [-2., -3.],\n",
              "       [-1., -3.],\n",
              "       [ 0., -3.],\n",
              "       [ 1., -3.],\n",
              "       [ 2., -3.],\n",
              "       [ 3., -3.],\n",
              "       [-3., -2.],\n",
              "       [-2., -2.],\n",
              "       [-1., -2.],\n",
              "       [ 0., -2.],\n",
              "       [ 1., -2.],\n",
              "       [ 2., -2.],\n",
              "       [ 3., -2.],\n",
              "       [-3., -1.],\n",
              "       [-2., -1.],\n",
              "       [-1., -1.],\n",
              "       [ 0., -1.],\n",
              "       [ 1., -1.],\n",
              "       [ 2., -1.],\n",
              "       [ 3., -1.],\n",
              "       [-3.,  0.],\n",
              "       [-2.,  0.],\n",
              "       [-1.,  0.],\n",
              "       [ 0.,  0.],\n",
              "       [ 1.,  0.],\n",
              "       [ 2.,  0.],\n",
              "       [ 3.,  0.],\n",
              "       [-3.,  1.],\n",
              "       [-2.,  1.],\n",
              "       [-1.,  1.],\n",
              "       [ 0.,  1.],\n",
              "       [ 1.,  1.],\n",
              "       [ 2.,  1.],\n",
              "       [ 3.,  1.],\n",
              "       [-3.,  2.],\n",
              "       [-2.,  2.],\n",
              "       [-1.,  2.],\n",
              "       [ 0.,  2.],\n",
              "       [ 1.,  2.],\n",
              "       [ 2.,  2.],\n",
              "       [ 3.,  2.],\n",
              "       [-3.,  3.],\n",
              "       [-2.,  3.],\n",
              "       [-1.,  3.],\n",
              "       [ 0.,  3.],\n",
              "       [ 1.,  3.],\n",
              "       [ 2.,  3.],\n",
              "       [ 3.,  3.]])"
            ]
          },
          "metadata": {},
          "execution_count": 166
        }
      ],
      "source": [
        "Each_points = np.c_[xs.ravel(), ys.ravel()]\n",
        "Each_points"
      ]
    },
    {
      "cell_type": "markdown",
      "metadata": {
        "id": "ZKiQa1Yu5YHw"
      },
      "source": [
        "### Expressing Conditional Logic as Array Operations"
      ]
    },
    {
      "cell_type": "code",
      "execution_count": null,
      "metadata": {
        "id": "VtncW2A75YHw"
      },
      "outputs": [],
      "source": [
        "x = np.array([1.1, 1.2, 1.3, 1.4, 1.5])\n",
        "y = np.array([2.1, 2.2, 2.3, 2.4, 2.5])\n",
        "cond = np.array([True, False, True, True, False])"
      ]
    },
    {
      "cell_type": "code",
      "execution_count": null,
      "metadata": {
        "colab": {
          "base_uri": "https://localhost:8080/"
        },
        "id": "HA4o8B2C5YHw",
        "outputId": "bfc464c8-0573-4f65-ef70-0efa16b552e2"
      },
      "outputs": [
        {
          "output_type": "stream",
          "name": "stdout",
          "text": [
            "(1.1, 2.1, True)\n",
            "(1.2, 2.2, False)\n",
            "(1.3, 2.3, True)\n",
            "(1.4, 2.4, True)\n",
            "(1.5, 2.5, False)\n"
          ]
        }
      ],
      "source": [
        "d=zip(x, y, cond)\n",
        "for i in d:\n",
        "    print(i)"
      ]
    },
    {
      "cell_type": "code",
      "execution_count": null,
      "metadata": {
        "colab": {
          "base_uri": "https://localhost:8080/"
        },
        "id": "i1P1X0Nb5YHx",
        "outputId": "860ba088-78bb-4d3d-d2fa-8a1d606eff42"
      },
      "outputs": [
        {
          "output_type": "execute_result",
          "data": {
            "text/plain": [
              "[1.1, 2.2, 1.3, 1.4, 2.5]"
            ]
          },
          "metadata": {},
          "execution_count": 169
        }
      ],
      "source": [
        "result = [(x if c else y) for x, y, c in zip(x, y, cond)]  ## Comprehension\n",
        "result"
      ]
    },
    {
      "cell_type": "code",
      "execution_count": null,
      "metadata": {
        "colab": {
          "base_uri": "https://localhost:8080/"
        },
        "id": "NMu4Nymy5YHx",
        "outputId": "eb886e8a-7604-4e76-dba1-18d388f1b5dc"
      },
      "outputs": [
        {
          "output_type": "execute_result",
          "data": {
            "text/plain": [
              "array([1.1, 2.2, 1.3, 1.4, 2.5])"
            ]
          },
          "metadata": {},
          "execution_count": 170
        }
      ],
      "source": [
        "result = np.where(cond, x, y) ## inside np.where forTrue value of cond, x is chosen else y is chosen\n",
        "result"
      ]
    },
    {
      "cell_type": "code",
      "execution_count": null,
      "metadata": {
        "colab": {
          "base_uri": "https://localhost:8080/"
        },
        "id": "lLK94jlg5YHx",
        "outputId": "3cbba7ae-3e38-427e-b16e-ad0b2e65d97c"
      },
      "outputs": [
        {
          "output_type": "execute_result",
          "data": {
            "text/plain": [
              "array([[4, 4, 5],\n",
              "       [1, 2, 3],\n",
              "       [0, 1, 2]])"
            ]
          },
          "metadata": {},
          "execution_count": 171
        }
      ],
      "source": [
        "arr = np.array([[4, 4,5],[1,2,3],[0,1,2,]])\n",
        "arr"
      ]
    },
    {
      "cell_type": "code",
      "execution_count": null,
      "metadata": {
        "colab": {
          "base_uri": "https://localhost:8080/"
        },
        "id": "Gd_HYgHs5YHy",
        "outputId": "1411b329-220d-44dc-e197-d5f7feb86e49"
      },
      "outputs": [
        {
          "output_type": "execute_result",
          "data": {
            "text/plain": [
              "array([[ 4,  4,  5],\n",
              "       [10, 20,  3],\n",
              "       [ 0, 10, 20]])"
            ]
          },
          "metadata": {},
          "execution_count": 172
        }
      ],
      "source": [
        "np.where(arr <= 2, arr*10, arr)\n",
        "# If conditional statement is True, then corresponding value  of 'arr' is multiplied by 10\n",
        "# and if False then corresponding  value of 'arr' remains as it is.\n",
        "# Note 'arr' itself doesn't chang. This is just a display. To use it we have to store it in another variable."
      ]
    },
    {
      "cell_type": "code",
      "execution_count": null,
      "metadata": {
        "colab": {
          "base_uri": "https://localhost:8080/"
        },
        "id": "cgGbr70h5YHy",
        "outputId": "df44780d-6190-4f69-e6e6-44734c855e3f"
      },
      "outputs": [
        {
          "output_type": "execute_result",
          "data": {
            "text/plain": [
              "array([[4, 4, 5],\n",
              "       [1, 2, 3],\n",
              "       [0, 1, 2]])"
            ]
          },
          "metadata": {},
          "execution_count": 173
        }
      ],
      "source": [
        "arr # It remains same"
      ]
    },
    {
      "cell_type": "code",
      "execution_count": null,
      "metadata": {
        "colab": {
          "base_uri": "https://localhost:8080/"
        },
        "id": "xWs4eYzL5YHy",
        "outputId": "ca5c1ed3-6d3e-485e-8fea-86ef22d996ad"
      },
      "outputs": [
        {
          "output_type": "execute_result",
          "data": {
            "text/plain": [
              "3"
            ]
          },
          "metadata": {},
          "execution_count": 174
        }
      ],
      "source": [
        "(arr >=4).sum() ## Explain what is happening here?"
      ]
    },
    {
      "cell_type": "code",
      "execution_count": null,
      "metadata": {
        "colab": {
          "base_uri": "https://localhost:8080/"
        },
        "id": "bVGOuTSo5YHz",
        "outputId": "f96457d2-6988-4f97-e8da-3fb0eda5b0c5"
      },
      "outputs": [
        {
          "output_type": "execute_result",
          "data": {
            "text/plain": [
              "13"
            ]
          },
          "metadata": {},
          "execution_count": 175
        }
      ],
      "source": [
        "arr[arr>=4].sum() ## Explain what is happening here?"
      ]
    },
    {
      "cell_type": "markdown",
      "metadata": {
        "id": "YZwKaBdb5YHz"
      },
      "source": [
        "### Sorting"
      ]
    },
    {
      "cell_type": "code",
      "execution_count": null,
      "metadata": {
        "colab": {
          "base_uri": "https://localhost:8080/"
        },
        "id": "2MJIM2T65YH0",
        "outputId": "1963fc19-5219-4270-b9f8-4c1e60e799f8"
      },
      "outputs": [
        {
          "output_type": "execute_result",
          "data": {
            "text/plain": [
              "array([20,  5,  6, -1,  2, 30,  8,  9, 10])"
            ]
          },
          "metadata": {},
          "execution_count": 176
        }
      ],
      "source": [
        "arr = np.array([20,5,6,-1,2,30,8,9,10])\n",
        "arr\n",
        "# arr.sort()\n",
        "# arr"
      ]
    },
    {
      "cell_type": "code",
      "execution_count": null,
      "metadata": {
        "colab": {
          "base_uri": "https://localhost:8080/"
        },
        "id": "jt610KjD5YH0",
        "outputId": "ebbc9414-7660-4402-8355-33ada5df97da"
      },
      "outputs": [
        {
          "output_type": "execute_result",
          "data": {
            "text/plain": [
              "array([-1,  2,  5,  6,  8,  9, 10, 20, 30])"
            ]
          },
          "metadata": {},
          "execution_count": 177
        }
      ],
      "source": [
        "arr.sort()\n",
        "arr"
      ]
    },
    {
      "cell_type": "code",
      "execution_count": null,
      "metadata": {
        "colab": {
          "base_uri": "https://localhost:8080/"
        },
        "id": "G17YsRlt5YH1",
        "outputId": "2a3839bb-7b23-460e-9bb2-384258b388a6"
      },
      "outputs": [
        {
          "output_type": "execute_result",
          "data": {
            "text/plain": [
              "array([[12,  5,  0],\n",
              "       [ 3, 11,  3],\n",
              "       [ 7,  9,  3],\n",
              "       [ 5,  2,  4],\n",
              "       [ 7,  6,  8]])"
            ]
          },
          "metadata": {},
          "execution_count": 178
        }
      ],
      "source": [
        "np.random.seed(0)\n",
        "arr = np.random.choice(np.arange(15),15).reshape(5, 3) # Check random topic given below for np.random.choice\n",
        "arr\n"
      ]
    },
    {
      "cell_type": "code",
      "execution_count": null,
      "metadata": {
        "colab": {
          "base_uri": "https://localhost:8080/"
        },
        "id": "kWhbWl485YH1",
        "outputId": "e64e93c4-19ac-4557-d5e9-e91739f75724"
      },
      "outputs": [
        {
          "output_type": "execute_result",
          "data": {
            "text/plain": [
              "array([[ 0,  5, 12],\n",
              "       [ 3,  3, 11],\n",
              "       [ 3,  7,  9],\n",
              "       [ 2,  4,  5],\n",
              "       [ 6,  7,  8]])"
            ]
          },
          "metadata": {},
          "execution_count": 179
        }
      ],
      "source": [
        "arr.sort() #  By defalut it sorts according to axis 1\n",
        "arr  # Note array itselt gets sorted"
      ]
    },
    {
      "cell_type": "code",
      "execution_count": null,
      "metadata": {
        "colab": {
          "base_uri": "https://localhost:8080/"
        },
        "id": "cMzHIfRP5YH2",
        "outputId": "c782b913-4db4-4d98-d49c-da4945e5847c"
      },
      "outputs": [
        {
          "output_type": "execute_result",
          "data": {
            "text/plain": [
              "array([[ 0,  3,  5],\n",
              "       [ 2,  4,  8],\n",
              "       [ 3,  5,  9],\n",
              "       [ 3,  7, 11],\n",
              "       [ 6,  7, 12]])"
            ]
          },
          "metadata": {},
          "execution_count": 180
        }
      ],
      "source": [
        "arr.sort(0)\n",
        "arr"
      ]
    },
    {
      "cell_type": "markdown",
      "metadata": {
        "id": "boEfSAxo5YH3"
      },
      "source": [
        "### Unique and Other Set Logic for 1-D Array"
      ]
    },
    {
      "cell_type": "code",
      "execution_count": null,
      "metadata": {
        "colab": {
          "base_uri": "https://localhost:8080/"
        },
        "id": "wVEINMVa5YH3",
        "outputId": "dea65648-21f5-4d56-abe0-38ef920b3378"
      },
      "outputs": [
        {
          "output_type": "stream",
          "name": "stdout",
          "text": [
            "(array(['Bob', 'Joe', 'Will'], dtype='<U4'), array([2, 3, 2])) \n",
            "\n",
            "\n",
            "['Bob' 'Joe' 'Will']\n",
            "[2 3 2]\n"
          ]
        }
      ],
      "source": [
        "names = np.array(['Bob', 'Joe', 'Will', 'Bob', 'Will', 'Joe', 'Joe'])\n",
        "\n",
        "tup=np.unique(names,return_counts=True)\n",
        "print(tup,'\\n\\n')\n",
        "# This will return a tuple containg two array, first arry is composed of all the unique names\n",
        "# Second array is composed of counting of each unique name\n",
        "# Below is the code for unpacking the tuple and storing two array in two different array which can be used further\n",
        "u_name,count_name=np.unique(names,return_counts=True)\n",
        "print(u_name)\n",
        "print(count_name)"
      ]
    },
    {
      "cell_type": "code",
      "execution_count": null,
      "metadata": {
        "colab": {
          "base_uri": "https://localhost:8080/"
        },
        "id": "3n-g_B7E5YH4",
        "outputId": "ec99cf12-67a4-4c07-eb54-f766a67b7ba4"
      },
      "outputs": [
        {
          "output_type": "stream",
          "name": "stdout",
          "text": [
            "[1 2 3 4]\n",
            "[2 2 5 2]\n"
          ]
        }
      ],
      "source": [
        "ints = np.array([3, 3, 3, 2, 2, 1, 1, 4, 4,3,3])\n",
        "unique_value,count=np.unique(ints,return_counts=True)\n",
        "print(unique_value)\n",
        "print(count)"
      ]
    },
    {
      "cell_type": "markdown",
      "metadata": {
        "id": "h-pbffJ95YH4"
      },
      "source": [
        " There are two useful function np.argmax  and np.argmin.\n",
        "* np.argmax --> It gives index of largest value in any array.\n",
        "* np.argmin --> It gives index of samllest value in any array."
      ]
    },
    {
      "cell_type": "code",
      "execution_count": null,
      "metadata": {
        "colab": {
          "base_uri": "https://localhost:8080/"
        },
        "id": "exMeeoJm5YH5",
        "outputId": "73a2bdc0-de35-4d74-af28-944fc7900dde"
      },
      "outputs": [
        {
          "output_type": "execute_result",
          "data": {
            "text/plain": [
              "2"
            ]
          },
          "metadata": {},
          "execution_count": 183
        }
      ],
      "source": [
        "ind=np.argmax(count) ## It gives index of largest value in 'count', i.e index of value '5'.\n",
        "ind"
      ]
    },
    {
      "cell_type": "code",
      "execution_count": null,
      "metadata": {
        "colab": {
          "base_uri": "https://localhost:8080/"
        },
        "id": "JU5ILyVW5YH6",
        "outputId": "689e5667-be57-40d8-ba6d-9ab63cad8447"
      },
      "outputs": [
        {
          "output_type": "execute_result",
          "data": {
            "text/plain": [
              "3"
            ]
          },
          "metadata": {},
          "execution_count": 184
        }
      ],
      "source": [
        "unique_value[ind] ## This gives the unique value which is repeated maximum times."
      ]
    },
    {
      "cell_type": "code",
      "execution_count": null,
      "metadata": {
        "colab": {
          "base_uri": "https://localhost:8080/"
        },
        "id": "qyAdSqEr5YH7",
        "outputId": "38fd3574-56fb-494b-8e2c-5471a2e0aa65"
      },
      "outputs": [
        {
          "output_type": "stream",
          "name": "stdout",
          "text": [
            "3\n"
          ]
        }
      ],
      "source": [
        "# Above operation in one shot\n",
        "ints = np.array([3, 3, 3, 2, 2, 1, 1, 4, 4,3,3])\n",
        "unique_value,count=np.unique(ints,return_counts=True)\n",
        "print(unique_value[np.argmax(count)]) ## This gives maximum repeated numbe of array 'ints'."
      ]
    },
    {
      "cell_type": "code",
      "execution_count": null,
      "metadata": {
        "colab": {
          "base_uri": "https://localhost:8080/"
        },
        "id": "tsL9DWR45YH7",
        "outputId": "e67bae61-b84d-4af9-f523-b7e938816581"
      },
      "outputs": [
        {
          "output_type": "execute_result",
          "data": {
            "text/plain": [
              "{'Apple', 'Bob', 'Joe', 'Mango', 'Will'}"
            ]
          },
          "metadata": {},
          "execution_count": 186
        }
      ],
      "source": [
        "# set also gives unique value.\n",
        "names = np.array(['Mango','Bob', 'Joe', 'Will', 'Bob', 'Will', 'Joe', 'Joe','Apple'])\n",
        "set(names) ## It automatically gives sorted result."
      ]
    },
    {
      "cell_type": "code",
      "execution_count": null,
      "metadata": {
        "colab": {
          "base_uri": "https://localhost:8080/"
        },
        "id": "VT3fDXfk5YH8",
        "outputId": "d93882f8-23b4-4f71-b9de-3ac4be929fe0"
      },
      "outputs": [
        {
          "output_type": "execute_result",
          "data": {
            "text/plain": [
              "['Apple', 'Mango', 'Joe', 'Bob', 'Will']"
            ]
          },
          "metadata": {},
          "execution_count": 187
        }
      ],
      "source": [
        "list(set(names)) # conveting set inot list"
      ]
    },
    {
      "cell_type": "code",
      "execution_count": null,
      "metadata": {
        "colab": {
          "base_uri": "https://localhost:8080/"
        },
        "id": "sROHl6Sa5YH8",
        "outputId": "d552e361-e926-4479-cf7e-750cc35f2ff6"
      },
      "outputs": [
        {
          "output_type": "execute_result",
          "data": {
            "text/plain": [
              "array([ True, False, False,  True,  True, False,  True])"
            ]
          },
          "metadata": {},
          "execution_count": 188
        }
      ],
      "source": [
        "values = np.array([6, 0, 0, 3, 2, 5, 6])\n",
        "np.in1d(values, [2, 3, 6]) # Gives boolean indicating whether each element of array 'values' is contained in array [2,3,6]"
      ]
    },
    {
      "cell_type": "markdown",
      "metadata": {
        "id": "XXTiNMMZ5YH9"
      },
      "source": [
        "Many other set Operationa are there: np.intersect1d(x,y), np.union(x,y)....Check youself!!"
      ]
    },
    {
      "cell_type": "markdown",
      "metadata": {
        "id": "Lw0jkhCb5YH9"
      },
      "source": [
        "### Saving and loading   Array data"
      ]
    },
    {
      "cell_type": "code",
      "execution_count": null,
      "metadata": {
        "id": "b-WGaxQ85YH9"
      },
      "outputs": [],
      "source": [
        "a1 = np.array([[10,20],[40,50]]) ## Creating an array named a1\n",
        "np.save('data_mat',a1)          #saving this array a1 with name as 'data_mat'\n",
        "# destination of location where we want to store can be passed as given below\n",
        "#np.save(r'C:\\Users\\hP\\Desktop\\Test_Folder\\data_mat2',a1)"
      ]
    },
    {
      "cell_type": "code",
      "execution_count": null,
      "metadata": {
        "colab": {
          "base_uri": "https://localhost:8080/"
        },
        "id": "DEulm9f35YH-",
        "outputId": "0a49a1b7-eb88-4798-ab22-66ebcea80376"
      },
      "outputs": [
        {
          "output_type": "execute_result",
          "data": {
            "text/plain": [
              "array([[10, 20],\n",
              "       [40, 50]])"
            ]
          },
          "metadata": {},
          "execution_count": 60
        }
      ],
      "source": [
        "np.load('data_mat.npy') # Loading that array again\n",
        "# np.load(r'C:\\Users\\hP\\Desktop\\Test_Folder\\data_mat2.npy')# Complete path should be passed where 'data_mat2' is saved."
      ]
    },
    {
      "cell_type": "code",
      "execution_count": null,
      "metadata": {
        "id": "Fdkpem5m5YH_"
      },
      "outputs": [],
      "source": [
        "b1=np.array([[1,2,3,4],[5,6,7,8]])"
      ]
    },
    {
      "cell_type": "code",
      "execution_count": null,
      "metadata": {
        "id": "CRVjgbuW5YIA"
      },
      "outputs": [],
      "source": [
        "np.savez('array_archive.npz', a=a1, b=b1) # Multiple array can be saved as archive using savez"
      ]
    },
    {
      "cell_type": "code",
      "execution_count": null,
      "metadata": {
        "colab": {
          "base_uri": "https://localhost:8080/"
        },
        "id": "31JT6XGt5YIA",
        "outputId": "a78f70af-6205-43cf-947a-8c9a168fea54"
      },
      "outputs": [
        {
          "output_type": "execute_result",
          "data": {
            "text/plain": [
              "array([[1, 2, 3, 4],\n",
              "       [5, 6, 7, 8]])"
            ]
          },
          "metadata": {},
          "execution_count": 194
        }
      ],
      "source": [
        "arch = np.load('array_archive.npz') # This is the way it can be load.\n",
        "arch['b']                           # Applying square bracket each array can be loaded seperately, her b i loaded"
      ]
    },
    {
      "cell_type": "code",
      "execution_count": null,
      "metadata": {
        "colab": {
          "base_uri": "https://localhost:8080/"
        },
        "id": "qrLXieR55YIA",
        "outputId": "1de63a65-ff29-4f91-907b-8c994ae7406d"
      },
      "outputs": [
        {
          "output_type": "execute_result",
          "data": {
            "text/plain": [
              "array([[10, 20],\n",
              "       [40, 50]])"
            ]
          },
          "metadata": {},
          "execution_count": 195
        }
      ],
      "source": [
        "arch['a']                           # a is loaded."
      ]
    },
    {
      "cell_type": "markdown",
      "metadata": {
        "id": "LLXEJdQv5YIB"
      },
      "source": [
        "### Random Number Generation\n",
        "* Note :These are random numbers and changed every time we run.\n",
        "* seed is used for fixing a set of random numbers.\n",
        "* Don't forget to see documentation."
      ]
    },
    {
      "cell_type": "markdown",
      "metadata": {
        "id": "TeJpvWSm5YIB"
      },
      "source": [
        "###### np.random.normal"
      ]
    },
    {
      "cell_type": "code",
      "execution_count": null,
      "metadata": {
        "id": "EmMzDOMO5YIC"
      },
      "outputs": [],
      "source": [
        "samples = np.random.normal(loc=0,scale=1,size=100) # It generated 10(size) random number from normal distribution\n",
        "#print(samples)       # Having mean(loc)=0 and standard deviation(scale)=1, (Default value if not passed by user).\n",
        "                                                  # any value can be passed for mean,std, and size."
      ]
    },
    {
      "cell_type": "code",
      "execution_count": null,
      "metadata": {
        "colab": {
          "base_uri": "https://localhost:8080/"
        },
        "id": "N8q75hVl5YIC",
        "outputId": "8195fcd9-a342-454f-ae97-753972d19e7d"
      },
      "outputs": [
        {
          "output_type": "stream",
          "name": "stdout",
          "text": [
            "-0.012483231697743196 1.0055100410954674\n"
          ]
        }
      ],
      "source": [
        "print(np.mean(samples), np.std(samples))\n",
        "# Checking for mean  and std, (approx mean=0 and std=1 ,as we increse the size).Check it by incresing value of size."
      ]
    },
    {
      "cell_type": "code",
      "execution_count": null,
      "metadata": {
        "colab": {
          "base_uri": "https://localhost:8080/"
        },
        "id": "Vb9Z6bhN5YID",
        "outputId": "bcf2087d-85c6-43ce-c43d-48bce2559491"
      },
      "outputs": [
        {
          "output_type": "stream",
          "name": "stdout",
          "text": [
            "9.715097139834059 5.349252649231885\n"
          ]
        }
      ],
      "source": [
        "samples = np.random.normal(loc=10,scale=5.5,size=1000) # It generated 1000 (size) random number from normal distribution\n",
        "#print(samples)                                    # Having mean(loc)=10 and standard deviation(scale)=5.5\n",
        "print(np.mean(samples), np.std(samples))\n",
        "# Checking for mean  and std, (approx  mean=10 and std=5.5 ,as we increse the size)"
      ]
    },
    {
      "cell_type": "code",
      "execution_count": null,
      "metadata": {
        "colab": {
          "base_uri": "https://localhost:8080/"
        },
        "id": "a5CK8jl45YID",
        "outputId": "6f37a1ad-022e-4f0e-9f0a-999efac6b5d4"
      },
      "outputs": [
        {
          "output_type": "execute_result",
          "data": {
            "text/plain": [
              "array([[ 1.26741165,  0.49949823, -0.06205313,  1.25916713],\n",
              "       [ 0.70411102, -1.49567952,  2.52636824,  1.76992139],\n",
              "       [-0.16821422,  0.3779101 ,  1.32435875, -0.17220079],\n",
              "       [ 0.73035179,  1.10457847, -1.01482591, -0.60233185]])"
            ]
          },
          "metadata": {},
          "execution_count": 199
        }
      ],
      "source": [
        "A_norm = np.random.normal(size=(4, 4)) # It generates a 4X4 2-D array where values are normally distributed\n",
        "                                        # with mean=0 and std=1 (default values,if not passed by user)\n",
        "A_norm"
      ]
    },
    {
      "cell_type": "markdown",
      "metadata": {
        "id": "RS8hVcFJ5YIE"
      },
      "source": [
        "##### numpy.random.randn"
      ]
    },
    {
      "cell_type": "code",
      "execution_count": null,
      "metadata": {
        "colab": {
          "base_uri": "https://localhost:8080/"
        },
        "id": "Xf6UEb7e5YIE",
        "outputId": "6ea18abf-c451-467f-d81f-30139993f936"
      },
      "outputs": [
        {
          "output_type": "execute_result",
          "data": {
            "text/plain": [
              "array([ 0.9214084 ,  0.46081448,  0.92379656, -0.13256801, -0.28900521,\n",
              "       -1.99863948, -1.14600043,  0.04706609,  0.82455722,  0.53117837])"
            ]
          },
          "metadata": {},
          "execution_count": 200
        }
      ],
      "source": [
        "np.random.randn(10) #Return a sample (or samples) from the “standard normal” distribution, i.e. mean is always 0 and std=1."
      ]
    },
    {
      "cell_type": "code",
      "execution_count": null,
      "metadata": {
        "colab": {
          "base_uri": "https://localhost:8080/"
        },
        "id": "Q61oTtKL5YIG",
        "outputId": "8c6ac1d7-38e7-4107-f2f0-99ff5dfa6655"
      },
      "outputs": [
        {
          "output_type": "execute_result",
          "data": {
            "text/plain": [
              "array([ 9.29466914,  8.50525638, 11.19448798, ..., 18.08957431,\n",
              "        9.73856666,  6.97221628])"
            ]
          },
          "metadata": {},
          "execution_count": 201
        }
      ],
      "source": [
        "# For random samples from Normally distribution with mean= mu and standard deviation=sigma   we can use:\n",
        "# sigma * np.random.randn(size) + mu\n",
        "\n",
        "ar1=5.5*np.random.randn(10000)+10 ## sigma=5.5, mu=10\n",
        "ar1"
      ]
    },
    {
      "cell_type": "code",
      "execution_count": null,
      "metadata": {
        "colab": {
          "base_uri": "https://localhost:8080/"
        },
        "id": "1J_d54b_5YIH",
        "outputId": "9949eb98-fec4-49ba-87be-d444f27b63cf"
      },
      "outputs": [
        {
          "output_type": "stream",
          "name": "stdout",
          "text": [
            "9.93940025200578 5.445935112151301\n"
          ]
        }
      ],
      "source": [
        "print(np.mean(ar1),np.std(ar1))"
      ]
    },
    {
      "cell_type": "code",
      "execution_count": null,
      "metadata": {
        "colab": {
          "base_uri": "https://localhost:8080/"
        },
        "id": "zosf0bhf5YIH",
        "outputId": "0b867da1-5f04-4eb6-b040-f6eeff0ed0e3"
      },
      "outputs": [
        {
          "output_type": "execute_result",
          "data": {
            "text/plain": [
              "array([[ 3.34987069, 16.034996  , 10.98902574, 10.53678624, 13.30829557],\n",
              "       [ 1.33908778, -3.09232735, 11.23358339, 12.27932685, -1.38209871],\n",
              "       [10.37940838,  5.16801239,  8.75493292, 11.57899336,  9.30829472]])"
            ]
          },
          "metadata": {},
          "execution_count": 203
        }
      ],
      "source": [
        "## for 2D array:\n",
        "5.5*np.random.randn(3,5)+10"
      ]
    },
    {
      "cell_type": "markdown",
      "metadata": {
        "id": "eijBGyTr5YIJ"
      },
      "source": [
        "##### np.random.randint"
      ]
    },
    {
      "cell_type": "code",
      "execution_count": null,
      "metadata": {
        "colab": {
          "base_uri": "https://localhost:8080/"
        },
        "id": "Y5l5vZlg5YIJ",
        "outputId": "2b7c4d05-410c-4c38-d22b-994aadce379e"
      },
      "outputs": [
        {
          "output_type": "execute_result",
          "data": {
            "text/plain": [
              "array([ 7, 13, 12, 15,  5,  8, 14, 15, 15, 14])"
            ]
          },
          "metadata": {},
          "execution_count": 204
        }
      ],
      "source": [
        "np.random.randint(low=3, high=16, size=10) # Return random integers from low (inclusive) to high (exclusive)."
      ]
    },
    {
      "cell_type": "code",
      "execution_count": null,
      "metadata": {
        "colab": {
          "base_uri": "https://localhost:8080/"
        },
        "id": "r02JULLS5YIK",
        "outputId": "59179ae5-2886-4479-bb76-03707e50b902"
      },
      "outputs": [
        {
          "output_type": "execute_result",
          "data": {
            "text/plain": [
              "array([14, 13, 11,  5,  5, 12, 14,  4,  8,  9])"
            ]
          },
          "metadata": {},
          "execution_count": 205
        }
      ],
      "source": [
        "np.random.randint(3,16,10)"
      ]
    },
    {
      "cell_type": "code",
      "execution_count": null,
      "metadata": {
        "colab": {
          "base_uri": "https://localhost:8080/"
        },
        "id": "0q2ZKBJ95YIL",
        "outputId": "0c787c67-4ef3-451b-85c7-eaf652591e91"
      },
      "outputs": [
        {
          "output_type": "execute_result",
          "data": {
            "text/plain": [
              "array([15,  8,  3,  6, 14,  6, 10, 12,  6,  8])"
            ]
          },
          "metadata": {},
          "execution_count": 206
        }
      ],
      "source": [
        "np.random.seed(0) ## Seed is used to fix a set of random number.Now same random numbers are generated for every run.\n",
        "#Different set of random numbers for differetn seed value\n",
        "np.random.randint(3,16,10)"
      ]
    },
    {
      "cell_type": "markdown",
      "metadata": {
        "id": "M2FuaKMy5YIL"
      },
      "source": [
        "##### np.random.choice"
      ]
    },
    {
      "cell_type": "code",
      "execution_count": null,
      "metadata": {
        "colab": {
          "base_uri": "https://localhost:8080/"
        },
        "id": "MX-WavCm5YIM",
        "outputId": "480abf5c-b2b2-4707-eecb-dd1078ca09aa"
      },
      "outputs": [
        {
          "output_type": "execute_result",
          "data": {
            "text/plain": [
              "array(['Laxman', 'Satrudhan', 'Ram'], dtype='<U9')"
            ]
          },
          "metadata": {},
          "execution_count": 207
        }
      ],
      "source": [
        "Name=np.array(['Ram','Sita','Laxman','Bharat','Satrudhan'])\n",
        "np.random.choice(Name, size=3, replace=True) # Generates 3 random sample from a given 1-D array 'Name',samples can be repeated."
      ]
    },
    {
      "cell_type": "code",
      "execution_count": null,
      "metadata": {
        "colab": {
          "base_uri": "https://localhost:8080/"
        },
        "id": "EzgMSRzI5YIN",
        "outputId": "468a1a75-0a9b-4d75-f420-fee6328b209a"
      },
      "outputs": [
        {
          "output_type": "execute_result",
          "data": {
            "text/plain": [
              "array(['Bharat', 'Sita', 'Laxman'], dtype='<U9')"
            ]
          },
          "metadata": {},
          "execution_count": 208
        }
      ],
      "source": [
        "a=np.array(['Ram','Sita','Laxman','Bharat','Satrudhan'])\n",
        "np.random.choice(a, size=3, replace=False) # If replace=False, Sample can not be repeated"
      ]
    },
    {
      "cell_type": "markdown",
      "metadata": {
        "id": "00c63pJm5YIN"
      },
      "source": [
        "######  There are may others random functions in Numpy--> Explore on your own."
      ]
    },
    {
      "cell_type": "markdown",
      "metadata": {
        "id": "TzVoJ-Ie5YIO"
      },
      "source": [
        "### Random Walks\n",
        "* Try to explain  code below yourself"
      ]
    },
    {
      "cell_type": "code",
      "execution_count": null,
      "metadata": {
        "colab": {
          "base_uri": "https://localhost:8080/",
          "height": 265
        },
        "id": "Gd-1CjQw5YIO",
        "outputId": "c57822c3-19b2-4c26-8c7f-749ac5138e71"
      },
      "outputs": [
        {
          "output_type": "display_data",
          "data": {
            "text/plain": [
              "<Figure size 432x288 with 1 Axes>"
            ],
            "image/png": "[encoded data removed]"
          },
          "metadata": {
            "needs_background": "light"
          }
        }
      ],
      "source": [
        "nsteps = 1000\n",
        "draws = np.random.randint(0, 2, size=nsteps)\n",
        "steps = np.where(draws > 0, 1, -1)\n",
        "walk = steps.cumsum()\n",
        "plt.plot(walk[:100])\n",
        "plt.show()"
      ]
    },
    {
      "cell_type": "markdown",
      "metadata": {
        "id": "4SvdJZQV5YIP"
      },
      "source": [
        "### Few more on linear Algebra"
      ]
    },
    {
      "cell_type": "markdown",
      "metadata": {
        "id": "RX-l_7kW5YIP"
      },
      "source": [
        "##### Solving Equations\n",
        "\n",
        "* AX = B\n",
        "\n",
        "![alt text](https://cdn.iiith.talentsprint.com/aiml/Experiment_related_data/Images/equations.png)\n",
        "\n",
        "* We have to frame above eqution in array as below:"
      ]
    },
    {
      "cell_type": "code",
      "execution_count": null,
      "metadata": {
        "colab": {
          "base_uri": "https://localhost:8080/"
        },
        "id": "7m0LyUVa5YIQ",
        "outputId": "c8658e5c-84d8-4eaa-da7d-c33d863c45a6"
      },
      "outputs": [
        {
          "output_type": "execute_result",
          "data": {
            "text/plain": [
              "array([[ 4, -2,  3],\n",
              "       [ 1,  3, -4],\n",
              "       [ 3,  1,  2]])"
            ]
          },
          "metadata": {},
          "execution_count": 210
        }
      ],
      "source": [
        "A=np.array([[4,-2,3],[1,3,-4],[3,1,2]]) # This is matrix of coefficient\n",
        "A"
      ]
    },
    {
      "cell_type": "code",
      "execution_count": null,
      "metadata": {
        "colab": {
          "base_uri": "https://localhost:8080/"
        },
        "id": "vd6VYR6p5YIQ",
        "outputId": "be602b5a-04f8-4966-fbaa-10eec0e0286e"
      },
      "outputs": [
        {
          "output_type": "execute_result",
          "data": {
            "text/plain": [
              "array([[ 1],\n",
              "       [-7],\n",
              "       [ 5]])"
            ]
          },
          "metadata": {},
          "execution_count": 211
        }
      ],
      "source": [
        "B=np.array([[1],[-7],[5]])  # Matrix for representing RHS Values of above three equations\n",
        "B"
      ]
    },
    {
      "cell_type": "code",
      "execution_count": null,
      "metadata": {
        "colab": {
          "base_uri": "https://localhost:8080/"
        },
        "id": "HoJnloi15YIR",
        "outputId": "9b032a8d-6e15-4936-9a83-918d7dc6d62c"
      },
      "outputs": [
        {
          "output_type": "execute_result",
          "data": {
            "text/plain": [
              "array([[-1.],\n",
              "       [ 2.],\n",
              "       [ 3.]])"
            ]
          },
          "metadata": {},
          "execution_count": 212
        }
      ],
      "source": [
        "var_values = np.linalg.solve(A,B)\n",
        "var_values"
      ]
    },
    {
      "cell_type": "markdown",
      "metadata": {
        "id": "h-PBUGmc5YIR"
      },
      "source": [
        "###### Thus x=-1,y=2 and z=3 are the answers of above three  linear equations in x,y,z."
      ]
    },
    {
      "cell_type": "markdown",
      "metadata": {
        "id": "rieQg52M5YIS"
      },
      "source": [
        "###### Transpose of an array"
      ]
    },
    {
      "cell_type": "code",
      "execution_count": null,
      "metadata": {
        "colab": {
          "base_uri": "https://localhost:8080/"
        },
        "id": "SUERh0Ht5YIT",
        "outputId": "7c39cf68-afbc-4e8d-efc0-3b428888c6d0"
      },
      "outputs": [
        {
          "output_type": "stream",
          "name": "stdout",
          "text": [
            "[[ 1  2  3]\n",
            " [ 4 -3  6]\n",
            " [ 7  8  0]] \n",
            "\n",
            "Transpose of A : \n",
            "\n",
            " [[ 1  4  7]\n",
            " [ 2 -3  8]\n",
            " [ 3  6  0]]\n"
          ]
        }
      ],
      "source": [
        "A = np.array([[1,2,3],[4,-3,6],[7,8,0]])\n",
        "print( A,'\\n')\n",
        "print('Transpose of A : \\n\\n', A.T)"
      ]
    },
    {
      "cell_type": "markdown",
      "metadata": {
        "id": "j-8pQJSX5YIU"
      },
      "source": [
        "###### Rank of an array"
      ]
    },
    {
      "cell_type": "code",
      "execution_count": null,
      "metadata": {
        "colab": {
          "base_uri": "https://localhost:8080/"
        },
        "id": "M54VCAfO5YIV",
        "outputId": "407acd77-e32a-4502-d2b8-08849569339f"
      },
      "outputs": [
        {
          "output_type": "stream",
          "name": "stdout",
          "text": [
            "Rank of array A:  3\n"
          ]
        }
      ],
      "source": [
        "print(\"Rank of array A: \", np.linalg.matrix_rank(A))"
      ]
    },
    {
      "cell_type": "markdown",
      "metadata": {
        "id": "_G1sunYB5YIV"
      },
      "source": [
        "###### Trace of an array"
      ]
    },
    {
      "cell_type": "code",
      "execution_count": null,
      "metadata": {
        "colab": {
          "base_uri": "https://localhost:8080/"
        },
        "id": "IXI3jKre5YIW",
        "outputId": "284a5c4d-90a1-435b-89e2-1a3dc2a47356"
      },
      "outputs": [
        {
          "output_type": "stream",
          "name": "stdout",
          "text": [
            "Trace of Array A:   -2\n"
          ]
        }
      ],
      "source": [
        "print('Trace of Array A:  ', np.trace(A))"
      ]
    },
    {
      "cell_type": "markdown",
      "metadata": {
        "id": "i9mQukD65YIW"
      },
      "source": [
        "###### Length of vector"
      ]
    },
    {
      "cell_type": "code",
      "execution_count": null,
      "metadata": {
        "colab": {
          "base_uri": "https://localhost:8080/"
        },
        "id": "kbdNdnA95YIW",
        "outputId": "3d29fc0e-f5d6-47a7-9503-d84c2e3ac17d"
      },
      "outputs": [
        {
          "output_type": "execute_result",
          "data": {
            "text/plain": [
              "12.649110640673518"
            ]
          },
          "metadata": {},
          "execution_count": 216
        }
      ],
      "source": [
        "V= np.array([5,7,3,4,5,6])\n",
        "length = np.sqrt(np.dot(V,V))\n",
        "length ## If more than 2D then we call this  norm of vector rather than lenght."
      ]
    },
    {
      "cell_type": "code",
      "execution_count": null,
      "metadata": {
        "colab": {
          "base_uri": "https://localhost:8080/"
        },
        "id": "Kb5EBXiQ5YIX",
        "outputId": "417ce89a-2ec8-47e9-9fd8-8ca0d1242f4d"
      },
      "outputs": [
        {
          "output_type": "execute_result",
          "data": {
            "text/plain": [
              "12.649110640673518"
            ]
          },
          "metadata": {},
          "execution_count": 217
        }
      ],
      "source": [
        "np.linalg.norm(V) # This is direct way of getting norm"
      ]
    },
    {
      "cell_type": "markdown",
      "metadata": {
        "id": "LDNyzhl-5YIY"
      },
      "source": [
        "#### Normalized Vector"
      ]
    },
    {
      "cell_type": "code",
      "execution_count": null,
      "metadata": {
        "colab": {
          "base_uri": "https://localhost:8080/"
        },
        "id": "vMgQNvxm5YIZ",
        "outputId": "b596ebaa-584a-4b87-c628-cfd241f3e366"
      },
      "outputs": [
        {
          "output_type": "stream",
          "name": "stdout",
          "text": [
            "length :  7.810249675906654\n",
            "Normalized vector : [0.6401844  0.76822128]\n",
            "Angle of vector V1 : 50.19442890773481\n"
          ]
        }
      ],
      "source": [
        "V1 = [5,6]\n",
        "length_V1 = np.sqrt(np.dot(V1,V1))\n",
        "norm_V1 = V1/length_V1\n",
        "print('length : ',length_V1)\n",
        "print('Normalized vector :', norm_V1) # Unit vector\n",
        "theta=np.degrees(np.arctan(norm_V1[1]/norm_V1[0]))\n",
        "print('Angle of vector V1 :', theta)"
      ]
    },
    {
      "cell_type": "markdown",
      "metadata": {
        "id": "r7x_8YUK5YIa"
      },
      "source": [
        "##### Plotting above vector"
      ]
    },
    {
      "cell_type": "code",
      "execution_count": null,
      "metadata": {
        "colab": {
          "base_uri": "https://localhost:8080/",
          "height": 281
        },
        "id": "yshNQXpQ5YIb",
        "outputId": "c75d3b13-f6c6-4159-c382-18caa5016191"
      },
      "outputs": [
        {
          "output_type": "display_data",
          "data": {
            "text/plain": [
              "<Figure size 432x288 with 1 Axes>"
            ],
            "image/png": "[encoded data removed]"
          },
          "metadata": {
            "needs_background": "light"
          }
        }
      ],
      "source": [
        "plt.plot([0,V1[0]] , [0,V1[1]] , 'r' , label = 'v1')\n",
        "plt.axhline(c='k') # For plotting x axis\n",
        "plt.axvline(c='k') # For plotting y axis\n",
        "plt.grid()\n",
        "plt.axis((-3, 6, -3, 7)) ## first two value is min and max limit of x axis and second two value is min and max limit of y axis\n",
        "plt.legend()\n",
        "plt.title(f'Angle between Vectors v1 &v2 is :{theta}')\n",
        "plt.show()"
      ]
    },
    {
      "cell_type": "markdown",
      "metadata": {
        "id": "piVGdYXG5YIc"
      },
      "source": [
        "##### Angle between vectors"
      ]
    },
    {
      "cell_type": "code",
      "execution_count": null,
      "metadata": {
        "colab": {
          "base_uri": "https://localhost:8080/"
        },
        "id": "k7WfCYJK5YIc",
        "outputId": "750ecef9-947c-4c84-c480-a1e04f1c15c3"
      },
      "outputs": [
        {
          "output_type": "stream",
          "name": "stdout",
          "text": [
            "Angle between Vectors:  90.0\n"
          ]
        }
      ],
      "source": [
        "v1 = np.array([4,3])\n",
        "v2 = np.array([-3,4])\n",
        "lengthV1 = np.sqrt(np.dot(v1,v1))\n",
        "lengthV2 = np.sqrt(np.dot(v2,v2))\n",
        "ang = np.degrees(np.arccos( np.dot(v1,v2) / (lengthV1 * lengthV2)))\n",
        "print('Angle between Vectors:  %s' %ang)"
      ]
    },
    {
      "cell_type": "markdown",
      "metadata": {
        "id": "ydd3g60H5YId"
      },
      "source": [
        "##### Plotting above vectors :"
      ]
    },
    {
      "cell_type": "code",
      "execution_count": null,
      "metadata": {
        "colab": {
          "base_uri": "https://localhost:8080/",
          "height": 281
        },
        "id": "VryWpDgw5YIe",
        "outputId": "6f395b2a-3a7e-4677-dea0-c3d41b112bc9"
      },
      "outputs": [
        {
          "output_type": "display_data",
          "data": {
            "text/plain": [
              "<Figure size 432x288 with 1 Axes>"
            ],
            "image/png": "[encoded data removed]"
          },
          "metadata": {
            "needs_background": "light"
          }
        }
      ],
      "source": [
        "v1 = np.array([4,3])\n",
        "v2 = np.array([-3,4])\n",
        "plt.plot([0,v1[0]] , [0,v1[1]] , 'r' , label = 'v1')\n",
        "plt.plot([0,v2[0]],[0,v2[1]], 'b' , label = 'v2')\n",
        "plt.axhline(c='k') # For plotting x axis\n",
        "plt.axvline(c='k') # For plotting y axis\n",
        "plt.grid()\n",
        "plt.axis((-5, 5, -3, 5)) ## first two value is min and max limit of x axis and second two value is min and max limit of y axis\n",
        "plt.legend()\n",
        "plt.title(f'Angle between Vectors v1 &v2 is :{ang}')\n",
        "plt.show()"
      ]
    },
    {
      "cell_type": "markdown",
      "metadata": {
        "id": "mcPebYZr5YIe"
      },
      "source": [
        "####  Note: For plotting part: Go through my plotting module. Will be published soon."
      ]
    },
    {
      "cell_type": "markdown",
      "metadata": {
        "id": "iuY3YaqF5YIf"
      },
      "source": [
        "#### Few  simple functions at last"
      ]
    },
    {
      "cell_type": "code",
      "execution_count": null,
      "metadata": {
        "colab": {
          "base_uri": "https://localhost:8080/"
        },
        "id": "RgM-PIuC5YIf",
        "outputId": "a8d557cb-0d6e-4454-ecde-f9d25715b70d"
      },
      "outputs": [
        {
          "output_type": "execute_result",
          "data": {
            "text/plain": [
              "array([3.23456678, 2.67567577, 3.67567564, 4.78687668, 5.76567568])"
            ]
          },
          "metadata": {},
          "execution_count": 222
        }
      ],
      "source": [
        "b=np.array([3.234566777005670000,2.6756757657567,3.675675643,4.78687667868768,5.7656756756])\n",
        "b"
      ]
    },
    {
      "cell_type": "code",
      "execution_count": null,
      "metadata": {
        "colab": {
          "base_uri": "https://localhost:8080/"
        },
        "id": "RwSQsWPD5YIg",
        "outputId": "10ec74bd-9479-406b-dc6a-43fc3caee6a6"
      },
      "outputs": [
        {
          "output_type": "execute_result",
          "data": {
            "text/plain": [
              "array([3., 3., 4., 5., 6.])"
            ]
          },
          "metadata": {},
          "execution_count": 223
        }
      ],
      "source": [
        "np.round(b)"
      ]
    },
    {
      "cell_type": "code",
      "execution_count": null,
      "metadata": {
        "colab": {
          "base_uri": "https://localhost:8080/"
        },
        "id": "-el4BRRo5YIg",
        "outputId": "06b12b31-92f7-415e-ba0b-6d5f3ed35046"
      },
      "outputs": [
        {
          "output_type": "execute_result",
          "data": {
            "text/plain": [
              "array([3.235, 2.676, 3.676, 4.787, 5.766])"
            ]
          },
          "metadata": {},
          "execution_count": 224
        }
      ],
      "source": [
        "np.round(b,3)"
      ]
    },
    {
      "cell_type": "code",
      "execution_count": null,
      "metadata": {
        "colab": {
          "base_uri": "https://localhost:8080/"
        },
        "id": "7g8AA4D05YIg",
        "outputId": "4d47fe07-3533-4124-b44e-245f546d526c"
      },
      "outputs": [
        {
          "output_type": "execute_result",
          "data": {
            "text/plain": [
              "array([4., 3., 4., 5., 6.])"
            ]
          },
          "metadata": {},
          "execution_count": 225
        }
      ],
      "source": [
        "np.ceil(b)"
      ]
    },
    {
      "cell_type": "code",
      "execution_count": null,
      "metadata": {
        "colab": {
          "base_uri": "https://localhost:8080/"
        },
        "id": "Jjlk4Crc5YIh",
        "outputId": "25fd4b48-96cf-4e33-f887-ddb370ed8918"
      },
      "outputs": [
        {
          "output_type": "execute_result",
          "data": {
            "text/plain": [
              "array([3., 2., 3., 4., 5.])"
            ]
          },
          "metadata": {},
          "execution_count": 226
        }
      ],
      "source": [
        "np.floor(b)"
      ]
    },
    {
      "cell_type": "markdown",
      "metadata": {
        "id": "YdhhVbZ35YIh"
      },
      "source": [
        "##### np.tile"
      ]
    },
    {
      "cell_type": "code",
      "execution_count": null,
      "metadata": {
        "colab": {
          "base_uri": "https://localhost:8080/"
        },
        "id": "H6INfC8L5YIh",
        "outputId": "61056d29-6e02-4dbd-d841-8a0fa9a0e7e7"
      },
      "outputs": [
        {
          "output_type": "stream",
          "name": "stdout",
          "text": [
            "[[1 2]\n",
            " [3 4]]\n"
          ]
        },
        {
          "output_type": "execute_result",
          "data": {
            "text/plain": [
              "array([[1, 2, 1, 2],\n",
              "       [3, 4, 3, 4]])"
            ]
          },
          "metadata": {},
          "execution_count": 227
        }
      ],
      "source": [
        "M1= np.array([[1, 2], [3, 4]])\n",
        "print(M1)\n",
        "np.tile(M1, 2)"
      ]
    },
    {
      "cell_type": "markdown",
      "metadata": {
        "id": "SUKWDSSX5YIi"
      },
      "source": [
        "#### np.repeat"
      ]
    },
    {
      "cell_type": "code",
      "execution_count": null,
      "metadata": {
        "colab": {
          "base_uri": "https://localhost:8080/"
        },
        "id": "DtRSnLdK5YIi",
        "outputId": "c0f81d4b-50d2-4c7b-e62c-ae9fc758e0dd"
      },
      "outputs": [
        {
          "output_type": "stream",
          "name": "stdout",
          "text": [
            "[[1 2]\n",
            " [3 4]]\n"
          ]
        },
        {
          "output_type": "execute_result",
          "data": {
            "text/plain": [
              "array([1, 1, 2, 2, 3, 3, 4, 4])"
            ]
          },
          "metadata": {},
          "execution_count": 228
        }
      ],
      "source": [
        "x = np.array([[1,2],[3,4]])\n",
        "print(x)\n",
        "np.repeat(x, 2)\n"
      ]
    },
    {
      "cell_type": "code",
      "execution_count": null,
      "metadata": {
        "colab": {
          "base_uri": "https://localhost:8080/"
        },
        "id": "cX5npKmR5YIj",
        "outputId": "ad98dbbc-2917-4265-9790-2ed2b7b92892"
      },
      "outputs": [
        {
          "output_type": "execute_result",
          "data": {
            "text/plain": [
              "array([[1, 1, 1, 2, 2, 2],\n",
              "       [3, 3, 3, 4, 4, 4]])"
            ]
          },
          "metadata": {},
          "execution_count": 229
        }
      ],
      "source": [
        "np.repeat(x, 3, axis=1)   # Explain what happens."
      ]
    },
    {
      "cell_type": "code",
      "execution_count": null,
      "metadata": {
        "colab": {
          "base_uri": "https://localhost:8080/"
        },
        "id": "y8_me-D65YIk",
        "outputId": "0fc4134b-b7bd-410f-8a4b-974fbdb3108b"
      },
      "outputs": [
        {
          "output_type": "execute_result",
          "data": {
            "text/plain": [
              "array([[1, 2],\n",
              "       [1, 2],\n",
              "       [1, 2],\n",
              "       [3, 4],\n",
              "       [3, 4],\n",
              "       [3, 4]])"
            ]
          },
          "metadata": {},
          "execution_count": 230
        }
      ],
      "source": [
        "np.repeat(x, 3, axis=0)   # Explain what happens."
      ]
    },
    {
      "cell_type": "code",
      "execution_count": null,
      "metadata": {
        "colab": {
          "base_uri": "https://localhost:8080/"
        },
        "id": "xs2lT1WN5YIk",
        "outputId": "4d700872-6df0-40fe-d55d-407cc6dc3596"
      },
      "outputs": [
        {
          "output_type": "execute_result",
          "data": {
            "text/plain": [
              "array([[1, 2],\n",
              "       [3, 4],\n",
              "       [3, 4]])"
            ]
          },
          "metadata": {},
          "execution_count": 231
        }
      ],
      "source": [
        "np.repeat(x, [1, 2], axis=0) # Explain what happens"
      ]
    },
    {
      "cell_type": "code",
      "execution_count": null,
      "metadata": {
        "colab": {
          "base_uri": "https://localhost:8080/"
        },
        "id": "DqlbSL2l5YIm",
        "outputId": "2721fff0-778b-4ca3-8b8f-dec5130f72bc"
      },
      "outputs": [
        {
          "output_type": "execute_result",
          "data": {
            "text/plain": [
              "array([[1, 2],\n",
              "       [1, 2],\n",
              "       [1, 2],\n",
              "       [3, 4],\n",
              "       [3, 4]])"
            ]
          },
          "metadata": {},
          "execution_count": 232
        }
      ],
      "source": [
        "np.repeat(x, [3, 2], axis=0) # Explain what happens."
      ]
    },
    {
      "cell_type": "markdown",
      "source": [
        "## Importing image\n",
        "### Using imageio library"
      ],
      "metadata": {
        "id": "QElpNQ5lpbMF"
      }
    },
    {
      "cell_type": "code",
      "source": [
        "#@title Run this cell to download the dog image\n",
        "#\n",
        "!wget -qq https://cdn.iiith.talentsprint.com/Test/dog.jpg"
      ],
      "metadata": {
        "cellView": "form",
        "id": "liCtCq4FoSGU"
      },
      "execution_count": null,
      "outputs": []
    },
    {
      "cell_type": "code",
      "source": [
        "import imageio"
      ],
      "metadata": {
        "id": "S5UySqZXrSch"
      },
      "execution_count": null,
      "outputs": []
    },
    {
      "cell_type": "code",
      "source": [
        "dog_pic=imageio.imread('dog.jpg')\n",
        "plt.imshow(dog_pic)\n",
        "plt.show() # It will display color image"
      ],
      "metadata": {
        "colab": {
          "base_uri": "https://localhost:8080/",
          "height": 269
        },
        "id": "VOP25mHCrKNq",
        "outputId": "456a98b6-387e-4364-c922-4ce809383f08"
      },
      "execution_count": null,
      "outputs": [
        {
          "output_type": "display_data",
          "data": {
            "text/plain": [
              "<Figure size 432x288 with 1 Axes>"
            ],
            "image/png": "[encoded data removed]"
          },
          "metadata": {
            "needs_background": "light"
          }
        }
      ]
    },
    {
      "cell_type": "code",
      "source": [
        "array = np.array(dog_pic) ## converting image into numpy array\n",
        "array.shape"
      ],
      "metadata": {
        "colab": {
          "base_uri": "https://localhost:8080/"
        },
        "id": "XH85AVNgtK_O",
        "outputId": "8b6709dc-1f70-4629-8aba-b1be1bb00892"
      },
      "execution_count": null,
      "outputs": [
        {
          "output_type": "execute_result",
          "data": {
            "text/plain": [
              "(194, 259, 3)"
            ]
          },
          "metadata": {},
          "execution_count": 35
        }
      ]
    },
    {
      "cell_type": "markdown",
      "source": [
        "The shape of the array is:\n",
        "\n",
        "height x width x depth(3)."
      ],
      "metadata": {
        "id": "1JAShEhowtRF"
      }
    },
    {
      "cell_type": "markdown",
      "source": [
        "#### Saving the same image available on the workspace"
      ],
      "metadata": {
        "id": "1aaaiZXDsRhG"
      }
    },
    {
      "cell_type": "code",
      "source": [
        "imageio.imwrite(\"save_im_dog.jpg\",dog_pic)"
      ],
      "metadata": {
        "id": "aaIklPmwscWE"
      },
      "execution_count": null,
      "outputs": []
    },
    {
      "cell_type": "markdown",
      "source": [
        "### Using PIL Library"
      ],
      "metadata": {
        "id": "U1rvLCVzxgBK"
      }
    },
    {
      "cell_type": "code",
      "source": [
        "from PIL import Image"
      ],
      "metadata": {
        "id": "0JlPCaEFxr0I"
      },
      "execution_count": null,
      "outputs": []
    },
    {
      "cell_type": "code",
      "source": [
        "img=Image.open('dog.jpg')\n",
        "plt.imshow(img)\n",
        "plt.show()\n",
        "\n",
        "img_arr = np.asarray(img)\n",
        "print(img_arr)"
      ],
      "metadata": {
        "id": "G1shmFBwyAq_"
      },
      "execution_count": null,
      "outputs": []
    },
    {
      "cell_type": "code",
      "source": [
        "img1 = Image.fromarray(array)\n",
        "plt.imshow(img1)\n",
        "plt.show() # It will display color imag\n",
        "img.save('testimg.png')"
      ],
      "metadata": {
        "colab": {
          "base_uri": "https://localhost:8080/",
          "height": 269
        },
        "id": "MKHTE080vyPV",
        "outputId": "01df9b3e-7d36-457b-bf9d-faf1fc524df6"
      },
      "execution_count": null,
      "outputs": [
        {
          "output_type": "display_data",
          "data": {
            "text/plain": [
              "<Figure size 432x288 with 1 Axes>"
            ],
            "image/png": "[encoded data removed]"
          },
          "metadata": {
            "needs_background": "light"
          }
        }
      ]
    },
    {
      "cell_type": "code",
      "source": [],
      "metadata": {
        "id": "VdeDZqaC0STx"
      },
      "execution_count": null,
      "outputs": []
    }
  ],
  "metadata": {
    "kernelspec": {
      "display_name": "Python 3",
      "language": "python",
      "name": "python3"
    },
    "language_info": {
      "codemirror_mode": {
        "name": "ipython",
        "version": 3
      },
      "file_extension": ".py",
      "mimetype": "text/x-python",
      "name": "python",
      "nbconvert_exporter": "python",
      "pygments_lexer": "ipython3",
      "version": "3.7.1"
    },
    "colab": {
      "provenance": [],
      "include_colab_link": true
    }
  },
  "nbformat": 4,
  "nbformat_minor": 0
}