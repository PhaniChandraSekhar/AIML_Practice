{
  "nbformat": 4,
  "nbformat_minor": 0,
  "metadata": {
    "colab": {
      "provenance": [],
      "authorship_tag": "ABX9TyN3m+nhvntf6CLdrFdC0ERE",
      "include_colab_link": true
    },
    "kernelspec": {
      "name": "python3",
      "display_name": "Python 3"
    },
    "language_info": {
      "name": "python"
    }
  },
  "cells": [
    {
      "cell_type": "markdown",
      "metadata": {
        "id": "view-in-github",
        "colab_type": "text"
      },
      "source": [
        "<a href=\"https://colab.research.google.com/github/PhaniChandraSekhar/AIML_Practice/blob/main/Linear_Regression_Logistic_Regression.ipynb\" target=\"_parent\"><img src=\"https://colab.research.google.com/assets/colab-badge.svg\" alt=\"Open In Colab\"/></a>"
      ]
    },
    {
      "cell_type": "code",
      "execution_count": null,
      "metadata": {
        "id": "p-qnZI3UMMY8"
      },
      "outputs": [],
      "source": []
    },
    {
      "source": [
        "import pandas as pd\n",
        "from sklearn.model_selection import train_test_split\n",
        "from sklearn.linear_model import LinearRegression\n",
        "from sklearn.metrics import mean_squared_error, r2_score\n",
        "import numpy as np\n",
        "\n",
        "# Create a sample DataFrame (replace with loading your Kaggle data)\n",
        "data = {'size_sqft': np.random.randint(500, 3000, 100)}\n",
        "df = pd.DataFrame(data)\n",
        "\n",
        "# Now calculate the price_usd values based on the size_sqft column\n",
        "df['price_usd'] = 50 * df['size_sqft'] + np.random.randn(len(df)) * 10000 + 50000\n",
        "\n",
        "\n",
        "# Prepare data\n",
        "X = df[['size_sqft']]\n",
        "y = df['price_usd']\n",
        "\n",
        "# Split data into training and testing sets\n",
        "X_train, X_test, y_train, y_test = train_test_split(X, y, test_size=0.2, random_state=42)\n",
        "\n",
        "# Implement and train the Linear Regression model\n",
        "model = LinearRegression()\n",
        "model.fit(X_train, y_train)\n",
        "\n",
        "# Model evaluation and prediction\n",
        "y_pred = model.predict(X_test)\n",
        "\n",
        "# Evaluate the model\n",
        "mse = mean_squared_error(y_test, y_pred)\n",
        "r2 = r2_score(y_test, y_pred)\n",
        "\n",
        "print(\"Linear Regression Model Evaluation:\")\n",
        "print(f\"Mean Squared Error (MSE): {mse:.2f}\")\n",
        "print(f\"R-squared (R2): {r2:.2f}\")\n",
        "\n",
        "# Example prediction\n",
        "new_house_size = 1800\n",
        "predicted_price = model.predict([[new_house_size]])\n",
        "print(f\"\\nPredicted price for a {new_house_size} sqft house: ${predicted_price[0]:.2f}\")"
      ],
      "cell_type": "code",
      "metadata": {
        "colab": {
          "base_uri": "https://localhost:8080/"
        },
        "id": "BUas7aIlNN8j",
        "outputId": "b25c380e-2a88-4c93-dedd-67013a768ca7"
      },
      "execution_count": 2,
      "outputs": [
        {
          "output_type": "stream",
          "name": "stdout",
          "text": [
            "Linear Regression Model Evaluation:\n",
            "Mean Squared Error (MSE): 151293781.06\n",
            "R-squared (R2): 0.88\n",
            "\n",
            "Predicted price for a 1800 sqft house: $138898.62\n"
          ]
        },
        {
          "output_type": "stream",
          "name": "stderr",
          "text": [
            "/usr/local/lib/python3.11/dist-packages/sklearn/utils/validation.py:2739: UserWarning: X does not have valid feature names, but LinearRegression was fitted with feature names\n",
            "  warnings.warn(\n"
          ]
        }
      ]
    },
    {
      "source": [
        "import pandas as pd\n",
        "from sklearn.model_selection import train_test_split\n",
        "from sklearn.linear_model import LogisticRegression\n",
        "from sklearn.metrics import accuracy_score, confusion_matrix, classification_report\n",
        "import numpy as np\n",
        "\n",
        "# Create a sample DataFrame (replace with loading your Kaggle data)\n",
        "np.random.seed(42)\n",
        "data = {'Age': np.random.randint(18, 65, 200),\n",
        "        'EstimatedSalary': np.random.randint(20000, 150000, 200)} # Removed 'ClickedAd' from initial data\n",
        "df = pd.DataFrame(data)\n",
        "print(df.head())\n",
        "# Calculate 'ClickedAd' based on the other columns *after* the DataFrame is created\n",
        "df['ClickedAd'] = (df['Age'] * 0.5 + df['EstimatedSalary'] * 0.0001 + np.random.randn(len(df)) * 5 - 30) > 0\n",
        "\n",
        "# Convert the boolean results to integers (True becomes 1, False becomes 0)\n",
        "df['ClickedAd'] = df['ClickedAd'].astype(int)\n",
        "\n",
        "# Prepare data\n",
        "X = df[['Age', 'EstimatedSalary']]\n",
        "y = df['ClickedAd']\n",
        "\n",
        "# Split data into training and testing sets\n",
        "X_train, X_test, y_train, y_test = train_test_split(X, y, test_size=0.2, random_state=42)\n",
        "\n",
        "# Implement and train the Logistic Regression model\n",
        "model = LogisticRegression()\n",
        "model.fit(X_train, y_train)\n",
        "\n",
        "# Model evaluation and prediction\n",
        "y_pred = model.predict(X_test)\n",
        "\n",
        "# Evaluate the model\n",
        "accuracy = accuracy_score(y_test, y_pred)\n",
        "cm = confusion_matrix(y_test, y_pred)\n",
        "report = classification_report(y_test, y_pred)\n",
        "\n",
        "print(\"Logistic Regression Model Evaluation:\")\n",
        "print(f\"Accuracy: {accuracy:.2f}\")\n",
        "print(\"Confusion Matrix:\\n\", cm)\n",
        "print(\"Classification Report:\\n\", report)\n",
        "\n",
        "# Example prediction\n",
        "new_customer_data = [[35, 70000]]\n",
        "predicted_click = model.predict(new_customer_data)\n",
        "print(f\"\\nPredicted click for a 35-year-old with $70k salary: {predicted_click[0]}\")"
      ],
      "cell_type": "code",
      "metadata": {
        "colab": {
          "base_uri": "https://localhost:8080/"
        },
        "id": "SksLWDOsNPT5",
        "outputId": "f5bd23e8-75ea-4882-f627-093e596641a8"
      },
      "execution_count": 5,
      "outputs": [
        {
          "output_type": "stream",
          "name": "stdout",
          "text": [
            "   Age  EstimatedSalary\n",
            "0   56            72733\n",
            "1   46            85318\n",
            "2   32           129953\n",
            "3   60           109474\n",
            "4   25            43664\n",
            "Logistic Regression Model Evaluation:\n",
            "Accuracy: 0.88\n",
            "Confusion Matrix:\n",
            " [[19  2]\n",
            " [ 3 16]]\n",
            "Classification Report:\n",
            "               precision    recall  f1-score   support\n",
            "\n",
            "           0       0.86      0.90      0.88        21\n",
            "           1       0.89      0.84      0.86        19\n",
            "\n",
            "    accuracy                           0.88        40\n",
            "   macro avg       0.88      0.87      0.87        40\n",
            "weighted avg       0.88      0.88      0.87        40\n",
            "\n",
            "\n",
            "Predicted click for a 35-year-old with $70k salary: 0\n"
          ]
        },
        {
          "output_type": "stream",
          "name": "stderr",
          "text": [
            "/usr/local/lib/python3.11/dist-packages/sklearn/utils/validation.py:2739: UserWarning: X does not have valid feature names, but LogisticRegression was fitted with feature names\n",
            "  warnings.warn(\n"
          ]
        }
      ]
    },
    {
      "source": [
        "import pandas as pd\n",
        "from sklearn.model_selection import train_test_split\n",
        "from sklearn.linear_model import LinearRegression\n",
        "from sklearn.preprocessing import PolynomialFeatures\n",
        "from sklearn.metrics import mean_squared_error\n",
        "import numpy as np\n",
        "import matplotlib.pyplot as plt\n",
        "\n",
        "# Create a sample dataset with non-linear relationship\n",
        "np.random.seed(0)\n",
        "X = np.sort(5 * np.random.rand(80, 1), axis=0)\n",
        "y = np.sin(X).ravel() + np.random.normal(0, 0.1, X.shape[0])\n",
        "\n",
        "# Split data\n",
        "X_train, X_test, y_train, y_test = train_test_split(X, y, test_size=0.2, random_state=42)\n",
        "\n",
        "# --- Underfitting (Linear Model) ---\n",
        "print(\"Underfitting Example (Linear Model):\")\n",
        "linear_model = LinearRegression()\n",
        "linear_model.fit(X_train, y_train)\n",
        "y_pred_linear_train = linear_model.predict(X_train)\n",
        "y_pred_linear_test = linear_model.predict(X_test)\n",
        "\n",
        "mse_linear_train = mean_squared_error(y_train, y_pred_linear_train)\n",
        "mse_linear_test = mean_squared_error(y_test, y_pred_linear_test)\n",
        "\n",
        "print(f\"Train MSE (Linear): {mse_linear_train:.4f}\")\n",
        "print(f\"Test MSE (Linear): {mse_linear_test:.4f}\")\n",
        "\n",
        "# --- Overfitting (High-degree Polynomial) ---\n",
        "print(\"\\nOverfitting Example (High-degree Polynomial):\")\n",
        "polynomial_features = PolynomialFeatures(degree=15) # High degree\n",
        "X_train_poly = polynomial_features.fit_transform(X_train)\n",
        "X_test_poly = polynomial_features.transform(X_test)\n",
        "\n",
        "poly_model = LinearRegression()\n",
        "poly_model.fit(X_train_poly, y_train)\n",
        "y_pred_poly_train = poly_model.predict(X_train_poly)\n",
        "y_pred_poly_test = poly_model.predict(X_test_poly)\n",
        "\n",
        "mse_poly_train = mean_squared_error(y_train, y_pred_poly_train)\n",
        "mse_poly_test = mean_squared_error(y_test, y_pred_poly_test)\n",
        "\n",
        "print(f\"Train MSE (Polynomial): {mse_poly_train:.4f}\")\n",
        "print(f\"Test MSE (Polynomial): {mse_poly_test:.4f}\")\n",
        "\n",
        "# Plotting the results to visualize\n",
        "plt.figure(figsize=(10, 6))\n",
        "plt.scatter(X, y, s=20, label=\"True values\")\n",
        "plt.plot(X_train, y_pred_linear_train, label=\"Linear (Underfitting) - Train\")\n",
        "plt.plot(X_test, y_pred_linear_test, label=\"Linear (Underfitting) - Test\", linestyle='--')\n",
        "\n",
        "X_plot = np.linspace(0, 5, 100).reshape(-1, 1)\n",
        "X_plot_poly = polynomial_features.transform(X_plot)\n",
        "y_plot_poly = poly_model.predict(X_plot_poly)\n",
        "plt.plot(X_plot, y_plot_poly, label=\"Polynomial (Overfitting)\")\n",
        "\n",
        "plt.xlabel(\"X\")\n",
        "plt.ylabel(\"y\")\n",
        "plt.title(\"Underfitting vs. Overfitting\")\n",
        "plt.legend()\n",
        "plt.show()"
      ],
      "cell_type": "code",
      "metadata": {
        "id": "ZuRX0sAlNRXS"
      },
      "execution_count": null,
      "outputs": []
    }
  ]
}